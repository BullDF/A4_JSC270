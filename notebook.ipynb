{
  "cells": [
    {
      "cell_type": "markdown",
      "metadata": {
        "id": "view-in-github",
        "colab_type": "text"
      },
      "source": [
        "<a href=\"https://colab.research.google.com/github/BullDF/A4_JSC270/blob/Ethan/notebook.ipynb\" target=\"_parent\"><img src=\"https://colab.research.google.com/assets/colab-badge.svg\" alt=\"Open In Colab\"/></a>"
      ]
    },
    {
      "cell_type": "markdown",
      "metadata": {
        "id": "KrKKUxrAs0XD"
      },
      "source": [
        "<a href=\"https://colab.research.google.com/github/BullDF/A4_JSC270/blob/main/notebook.ipynb\" target=\"_parent\">\n",
        "  <img src=\"https://colab.research.google.com/assets/colab-badge.svg\" alt=\"Open In Colab\"/>\n",
        "</a>"
      ]
    },
    {
      "cell_type": "markdown",
      "metadata": {
        "id": "2BbZMtljs0XF"
      },
      "source": [
        "# JSC270 Assignment 4 by Johnny and Ethan"
      ]
    },
    {
      "cell_type": "code",
      "execution_count": 47,
      "metadata": {
        "id": "6Rucah_-s0XF",
        "colab": {
          "base_uri": "https://localhost:8080/"
        },
        "outputId": "5c679bc3-78dc-4564-cb2f-e72c4093cbfa"
      },
      "outputs": [
        {
          "output_type": "stream",
          "name": "stderr",
          "text": [
            "[nltk_data] Downloading package wordnet to /root/nltk_data...\n",
            "[nltk_data]   Package wordnet is already up-to-date!\n",
            "[nltk_data] Downloading package stopwords to /root/nltk_data...\n",
            "[nltk_data]   Package stopwords is already up-to-date!\n",
            "[nltk_data] Downloading package punkt to /root/nltk_data...\n",
            "[nltk_data]   Package punkt is already up-to-date!\n"
          ]
        },
        {
          "output_type": "execute_result",
          "data": {
            "text/plain": [
              "True"
            ]
          },
          "metadata": {},
          "execution_count": 47
        }
      ],
      "source": [
        "## Import necessary libraries\n",
        "from typing import List\n",
        "import pandas as pd\n",
        "import numpy as np\n",
        "import spacy\n",
        "import nltk\n",
        "import re\n",
        "from nltk.corpus import stopwords\n",
        "from nltk.stem.porter import *\n",
        "from nltk.stem import WordNetLemmatizer\n",
        "from collections import Counter\n",
        "from sklearn.feature_extraction.text import TfidfTransformer\n",
        "from sklearn.feature_extraction.text import TfidfVectorizer\n",
        "from sklearn.feature_extraction.text import CountVectorizer\n",
        "from sklearn.naive_bayes import MultinomialNB\n",
        "from sklearn.metrics import accuracy_score, roc_curve\n",
        "import matplotlib.pyplot as plt\n",
        "nltk.download('wordnet')\n",
        "nltk.download('stopwords')\n",
        "nltk.download('punkt')"
      ]
    },
    {
      "cell_type": "markdown",
      "metadata": {
        "id": "EUt_PlDhs0XG"
      },
      "source": [
        "## Part I: Sentiment Analysis"
      ]
    },
    {
      "cell_type": "markdown",
      "metadata": {
        "id": "kPAEGWTos0XG"
      },
      "source": [
        "**a) Consider the training data. What is the balance between the three classes? In other words, what proportion of the observations (in the training set) belong to each class?**"
      ]
    },
    {
      "cell_type": "code",
      "execution_count": 48,
      "metadata": {
        "id": "eGsSIvKBs0XH",
        "outputId": "b23fe35c-5c66-417c-eb60-8d6d001b788f",
        "colab": {
          "base_uri": "https://localhost:8080/",
          "height": 206
        }
      },
      "outputs": [
        {
          "output_type": "execute_result",
          "data": {
            "text/plain": [
              "   UserName  ScreenName   Location     TweetAt  \\\n",
              "0      3799       48751     London  16-03-2020   \n",
              "1      3800       48752         UK  16-03-2020   \n",
              "2      3801       48753  Vagabonds  16-03-2020   \n",
              "3      3802       48754        NaN  16-03-2020   \n",
              "4      3803       48755        NaN  16-03-2020   \n",
              "\n",
              "                                       OriginalTweet           Sentiment  \n",
              "0  @MeNyrbie @Phil_Gahan @Chrisitv https://t.co/i...             Neutral  \n",
              "1  advice Talk to your neighbours family to excha...            Positive  \n",
              "2  Coronavirus Australia: Woolworths to give elde...            Positive  \n",
              "3  My food stock is not the only one which is emp...            Positive  \n",
              "4  Me, ready to go at supermarket during the #COV...  Extremely Negative  "
            ],
            "text/html": [
              "\n",
              "  <div id=\"df-daa33395-1122-42ba-bb82-da883eadad6c\">\n",
              "    <div class=\"colab-df-container\">\n",
              "      <div>\n",
              "<style scoped>\n",
              "    .dataframe tbody tr th:only-of-type {\n",
              "        vertical-align: middle;\n",
              "    }\n",
              "\n",
              "    .dataframe tbody tr th {\n",
              "        vertical-align: top;\n",
              "    }\n",
              "\n",
              "    .dataframe thead th {\n",
              "        text-align: right;\n",
              "    }\n",
              "</style>\n",
              "<table border=\"1\" class=\"dataframe\">\n",
              "  <thead>\n",
              "    <tr style=\"text-align: right;\">\n",
              "      <th></th>\n",
              "      <th>UserName</th>\n",
              "      <th>ScreenName</th>\n",
              "      <th>Location</th>\n",
              "      <th>TweetAt</th>\n",
              "      <th>OriginalTweet</th>\n",
              "      <th>Sentiment</th>\n",
              "    </tr>\n",
              "  </thead>\n",
              "  <tbody>\n",
              "    <tr>\n",
              "      <th>0</th>\n",
              "      <td>3799</td>\n",
              "      <td>48751</td>\n",
              "      <td>London</td>\n",
              "      <td>16-03-2020</td>\n",
              "      <td>@MeNyrbie @Phil_Gahan @Chrisitv https://t.co/i...</td>\n",
              "      <td>Neutral</td>\n",
              "    </tr>\n",
              "    <tr>\n",
              "      <th>1</th>\n",
              "      <td>3800</td>\n",
              "      <td>48752</td>\n",
              "      <td>UK</td>\n",
              "      <td>16-03-2020</td>\n",
              "      <td>advice Talk to your neighbours family to excha...</td>\n",
              "      <td>Positive</td>\n",
              "    </tr>\n",
              "    <tr>\n",
              "      <th>2</th>\n",
              "      <td>3801</td>\n",
              "      <td>48753</td>\n",
              "      <td>Vagabonds</td>\n",
              "      <td>16-03-2020</td>\n",
              "      <td>Coronavirus Australia: Woolworths to give elde...</td>\n",
              "      <td>Positive</td>\n",
              "    </tr>\n",
              "    <tr>\n",
              "      <th>3</th>\n",
              "      <td>3802</td>\n",
              "      <td>48754</td>\n",
              "      <td>NaN</td>\n",
              "      <td>16-03-2020</td>\n",
              "      <td>My food stock is not the only one which is emp...</td>\n",
              "      <td>Positive</td>\n",
              "    </tr>\n",
              "    <tr>\n",
              "      <th>4</th>\n",
              "      <td>3803</td>\n",
              "      <td>48755</td>\n",
              "      <td>NaN</td>\n",
              "      <td>16-03-2020</td>\n",
              "      <td>Me, ready to go at supermarket during the #COV...</td>\n",
              "      <td>Extremely Negative</td>\n",
              "    </tr>\n",
              "  </tbody>\n",
              "</table>\n",
              "</div>\n",
              "      <button class=\"colab-df-convert\" onclick=\"convertToInteractive('df-daa33395-1122-42ba-bb82-da883eadad6c')\"\n",
              "              title=\"Convert this dataframe to an interactive table.\"\n",
              "              style=\"display:none;\">\n",
              "        \n",
              "  <svg xmlns=\"http://www.w3.org/2000/svg\" height=\"24px\"viewBox=\"0 0 24 24\"\n",
              "       width=\"24px\">\n",
              "    <path d=\"M0 0h24v24H0V0z\" fill=\"none\"/>\n",
              "    <path d=\"M18.56 5.44l.94 2.06.94-2.06 2.06-.94-2.06-.94-.94-2.06-.94 2.06-2.06.94zm-11 1L8.5 8.5l.94-2.06 2.06-.94-2.06-.94L8.5 2.5l-.94 2.06-2.06.94zm10 10l.94 2.06.94-2.06 2.06-.94-2.06-.94-.94-2.06-.94 2.06-2.06.94z\"/><path d=\"M17.41 7.96l-1.37-1.37c-.4-.4-.92-.59-1.43-.59-.52 0-1.04.2-1.43.59L10.3 9.45l-7.72 7.72c-.78.78-.78 2.05 0 2.83L4 21.41c.39.39.9.59 1.41.59.51 0 1.02-.2 1.41-.59l7.78-7.78 2.81-2.81c.8-.78.8-2.07 0-2.86zM5.41 20L4 18.59l7.72-7.72 1.47 1.35L5.41 20z\"/>\n",
              "  </svg>\n",
              "      </button>\n",
              "      \n",
              "  <style>\n",
              "    .colab-df-container {\n",
              "      display:flex;\n",
              "      flex-wrap:wrap;\n",
              "      gap: 12px;\n",
              "    }\n",
              "\n",
              "    .colab-df-convert {\n",
              "      background-color: #E8F0FE;\n",
              "      border: none;\n",
              "      border-radius: 50%;\n",
              "      cursor: pointer;\n",
              "      display: none;\n",
              "      fill: #1967D2;\n",
              "      height: 32px;\n",
              "      padding: 0 0 0 0;\n",
              "      width: 32px;\n",
              "    }\n",
              "\n",
              "    .colab-df-convert:hover {\n",
              "      background-color: #E2EBFA;\n",
              "      box-shadow: 0px 1px 2px rgba(60, 64, 67, 0.3), 0px 1px 3px 1px rgba(60, 64, 67, 0.15);\n",
              "      fill: #174EA6;\n",
              "    }\n",
              "\n",
              "    [theme=dark] .colab-df-convert {\n",
              "      background-color: #3B4455;\n",
              "      fill: #D2E3FC;\n",
              "    }\n",
              "\n",
              "    [theme=dark] .colab-df-convert:hover {\n",
              "      background-color: #434B5C;\n",
              "      box-shadow: 0px 1px 3px 1px rgba(0, 0, 0, 0.15);\n",
              "      filter: drop-shadow(0px 1px 2px rgba(0, 0, 0, 0.3));\n",
              "      fill: #FFFFFF;\n",
              "    }\n",
              "  </style>\n",
              "\n",
              "      <script>\n",
              "        const buttonEl =\n",
              "          document.querySelector('#df-daa33395-1122-42ba-bb82-da883eadad6c button.colab-df-convert');\n",
              "        buttonEl.style.display =\n",
              "          google.colab.kernel.accessAllowed ? 'block' : 'none';\n",
              "\n",
              "        async function convertToInteractive(key) {\n",
              "          const element = document.querySelector('#df-daa33395-1122-42ba-bb82-da883eadad6c');\n",
              "          const dataTable =\n",
              "            await google.colab.kernel.invokeFunction('convertToInteractive',\n",
              "                                                     [key], {});\n",
              "          if (!dataTable) return;\n",
              "\n",
              "          const docLinkHtml = 'Like what you see? Visit the ' +\n",
              "            '<a target=\"_blank\" href=https://colab.research.google.com/notebooks/data_table.ipynb>data table notebook</a>'\n",
              "            + ' to learn more about interactive tables.';\n",
              "          element.innerHTML = '';\n",
              "          dataTable['output_type'] = 'display_data';\n",
              "          await google.colab.output.renderOutput(dataTable, element);\n",
              "          const docLink = document.createElement('div');\n",
              "          docLink.innerHTML = docLinkHtml;\n",
              "          element.appendChild(docLink);\n",
              "        }\n",
              "      </script>\n",
              "    </div>\n",
              "  </div>\n",
              "  "
            ]
          },
          "metadata": {},
          "execution_count": 48
        }
      ],
      "source": [
        "train_url = 'https://raw.githubusercontent.com/3th4novo/JSC270_a4_dataset/main/Corona_NLP_train.csv'\n",
        "test_url = 'https://raw.githubusercontent.com/3th4novo/JSC270_a4_dataset/main/Corona_NLP_test.csv'\n",
        "\n",
        "df_train = pd.read_csv(train_url, encoding='latin-1')\n",
        "df_test = pd.read_csv(test_url, encoding='latin-1')\n",
        "\n",
        "df_train.head()"
      ]
    },
    {
      "cell_type": "code",
      "execution_count": 15,
      "metadata": {
        "id": "R8_MNwmls0XH",
        "outputId": "00689494-c707-4faf-dd91-c38f23b616fb",
        "colab": {
          "base_uri": "https://localhost:8080/"
        }
      },
      "outputs": [
        {
          "output_type": "execute_result",
          "data": {
            "text/plain": [
              "Positive    0.438467\n",
              "Negative    0.374128\n",
              "Neutral     0.187404\n",
              "Name: Sentiment, dtype: float64"
            ]
          },
          "metadata": {},
          "execution_count": 15
        }
      ],
      "source": [
        "df_train['Sentiment'].replace({'Extremely Negative': 'Negative', 'Extremely Positive': 'Positive'}, inplace=True)\n",
        "df_train['Sentiment'].value_counts(normalize=True)"
      ]
    },
    {
      "cell_type": "markdown",
      "metadata": {
        "id": "RIAiVmo0s0XI"
      },
      "source": [
        "**b) Tokenize the tweets. In other words, for each observation, convert the tweet from a single string of running text into a list of individual tokens (possibly with punctuation), splitting on whitespace. The result should be that each observation (tweet) is a list of individual tokens.**"
      ]
    },
    {
      "cell_type": "code",
      "execution_count": 49,
      "metadata": {
        "id": "D1RueAbSs0XI",
        "colab": {
          "base_uri": "https://localhost:8080/"
        },
        "outputId": "c3bd8120-cb97-4601-8b24-d34deba3ace2"
      },
      "outputs": [
        {
          "output_type": "stream",
          "name": "stdout",
          "text": [
            "0    [@MeNyrbie, @Phil_Gahan, @Chrisitv, https://t....\n",
            "1    [advice, Talk, to, your, neighbours, family, t...\n",
            "2    [Coronavirus, Australia:, Woolworths, to, give...\n",
            "3    [My, food, stock, is, not, the, only, one, whi...\n",
            "4    [Me,, ready, to, go, at, supermarket, during, ...\n",
            "Name: tokens, dtype: object\n"
          ]
        }
      ],
      "source": [
        "def tokenize(tweet):\n",
        "   return tweet.split()\n",
        "\n",
        "df_train['tokens'] = df_train['OriginalTweet'].apply(tokenize)\n",
        "\n",
        "print(df_train['tokens'].head(5))"
      ]
    },
    {
      "cell_type": "markdown",
      "metadata": {
        "id": "XJ-0XdB7s0XI"
      },
      "source": [
        "**c) Using a regular expression, remove any URL tokens from each of the observations.**"
      ]
    },
    {
      "cell_type": "code",
      "source": [
        "def remove_url(lst):\n",
        "  result = [item for item in lst if not re.search('http\\S+|www\\.\\S+', item)]\n",
        "  return result\n",
        "\n",
        "df_train['tokens_no_url'] = df_train['tokens'].apply(remove_url)\n",
        "print(df_train['tokens_no_url'].head(5))"
      ],
      "metadata": {
        "colab": {
          "base_uri": "https://localhost:8080/"
        },
        "id": "qjMWANAhiC8x",
        "outputId": "9077b112-ac84-4397-e808-bf1ab5d05c52"
      },
      "execution_count": 50,
      "outputs": [
        {
          "output_type": "stream",
          "name": "stdout",
          "text": [
            "0        [@MeNyrbie, @Phil_Gahan, @Chrisitv, and, and]\n",
            "1    [advice, Talk, to, your, neighbours, family, t...\n",
            "2    [Coronavirus, Australia:, Woolworths, to, give...\n",
            "3    [My, food, stock, is, not, the, only, one, whi...\n",
            "4    [Me,, ready, to, go, at, supermarket, during, ...\n",
            "Name: tokens_no_url, dtype: object\n"
          ]
        }
      ]
    },
    {
      "cell_type": "markdown",
      "metadata": {
        "id": "vE7XjM2Xs0XI"
      },
      "source": [
        "**d) Remove all punctuation (,.?!;:’\") and special characters(@, #, +, &, =, $, etc). Also, convert all tokens to lowercase only. Can you think of a scenario when you might want to keep some forms of punctuation?**"
      ]
    },
    {
      "cell_type": "code",
      "source": [
        "def remove_punc_spec_lower(lst):\n",
        "    result = [re.sub('[^\\w\\s]', '', item) for item in lst]\n",
        "    lowered = [item.lower() for item in result]\n",
        "    return lowered\n",
        "\n",
        "df_train['tokens_no_punc'] = df_train['tokens_no_url'].apply(remove_punc_spec_lower)\n",
        "print(df_train['tokens_no_punc'].head(5))"
      ],
      "metadata": {
        "colab": {
          "base_uri": "https://localhost:8080/"
        },
        "id": "qBNZKlGnjbHe",
        "outputId": "f2c19090-99ce-474b-ddbd-8aed580fdfac"
      },
      "execution_count": 51,
      "outputs": [
        {
          "output_type": "stream",
          "name": "stdout",
          "text": [
            "0           [menyrbie, phil_gahan, chrisitv, and, and]\n",
            "1    [advice, talk, to, your, neighbours, family, t...\n",
            "2    [coronavirus, australia, woolworths, to, give,...\n",
            "3    [my, food, stock, is, not, the, only, one, whi...\n",
            "4    [me, ready, to, go, at, supermarket, during, t...\n",
            "Name: tokens_no_punc, dtype: object\n"
          ]
        }
      ]
    },
    {
      "cell_type": "markdown",
      "metadata": {
        "id": "sPwFf6i6s0XI"
      },
      "source": [
        "**e) Now stem your tokens. This will have the effect of converting similar word forms into identical tokens (e.g. run, runs, running → run). Please specify which stemmer you use.**"
      ]
    },
    {
      "cell_type": "code",
      "source": [
        "stemmer = PorterStemmer()\n",
        "\n",
        "def stemming(lst):\n",
        "  token_stems = [stemmer.stem(w) for w in lst]\n",
        "  return token_stems\n",
        "\n",
        "df_train['tokens_stemmed'] = df_train['tokens_no_punc'].apply(stemming)\n",
        "print(df_train['tokens_stemmed'].head(5))"
      ],
      "metadata": {
        "colab": {
          "base_uri": "https://localhost:8080/"
        },
        "id": "zNWp4-2jkTNu",
        "outputId": "35056975-d1f6-431f-b460-b3059528a516"
      },
      "execution_count": 52,
      "outputs": [
        {
          "output_type": "stream",
          "name": "stdout",
          "text": [
            "0            [menyrbi, phil_gahan, chrisitv, and, and]\n",
            "1    [advic, talk, to, your, neighbour, famili, to,...\n",
            "2    [coronaviru, australia, woolworth, to, give, e...\n",
            "3    [my, food, stock, is, not, the, onli, one, whi...\n",
            "4    [me, readi, to, go, at, supermarket, dure, the...\n",
            "Name: tokens_stemmed, dtype: object\n"
          ]
        }
      ]
    },
    {
      "cell_type": "markdown",
      "metadata": {
        "id": "6rZnBRP9s0XJ"
      },
      "source": [
        "**f) Lastly, remove stopwords. Using the english stopwords list from nltk, remove these common words from your observations. This list is very long (I think almost 200 words), so remove only the first 100 stopwords in the list.**"
      ]
    },
    {
      "cell_type": "code",
      "source": [
        "sw = stopwords.words('english')[0:100]\n",
        "\n",
        "def remove_sw(lst):\n",
        "  tokens_no_sw = [w for w in lst if w not in sw]\n",
        "  return tokens_no_sw\n",
        "\n",
        "df_train['stems_no_sw'] = df_train['tokens_stemmed'].apply(remove_sw)\n",
        "print(df_train['stems_no_sw'].head(5))"
      ],
      "metadata": {
        "colab": {
          "base_uri": "https://localhost:8080/"
        },
        "id": "KBVGEv9jk7rz",
        "outputId": "fabf3181-f359-4703-b8dd-d50ed1817da2"
      },
      "execution_count": 53,
      "outputs": [
        {
          "output_type": "stream",
          "name": "stdout",
          "text": [
            "0                      [menyrbi, phil_gahan, chrisitv]\n",
            "1    [advic, talk, neighbour, famili, exchang, phon...\n",
            "2    [coronaviru, australia, woolworth, give, elder...\n",
            "3    [food, stock, not, onli, one, empti, pleas, do...\n",
            "4    [readi, go, supermarket, dure, covid19, outbre...\n",
            "Name: stems_no_sw, dtype: object\n"
          ]
        }
      ]
    },
    {
      "cell_type": "markdown",
      "metadata": {
        "id": "Aps0_7FYs0XJ"
      },
      "source": [
        "**g) Now convert your lists of words into vectors of word counts. You may find Scikit-learn’s CountVectorizer useful here. What is the length of your vocabulary?**"
      ]
    },
    {
      "cell_type": "code",
      "source": [
        "# Separate labels from features, converting to numpy arrays\n",
        "encode = {'Extremely Negative': 0, 'Negative': 0, 'Neutral': 1, 'Positive':2, 'Extremely Positive': 2}\n",
        "df_train['Sentiment_num'] = df_train['Sentiment'].map(encode)\n",
        "x_train, y_train = df_train['stems_no_sw'].to_numpy(), df_train['Sentiment_num'].to_numpy()\n",
        "\n",
        "def override_fcn(doc):\n",
        "  # We expect a list of tokens as input\n",
        "  return doc\n",
        "\n",
        "# Count Vectorizer\n",
        "count_vec = CountVectorizer(\n",
        "    analyzer='word',\n",
        "    tokenizer= override_fcn,\n",
        "    preprocessor= override_fcn,\n",
        "    token_pattern= None,\n",
        "    max_features = 10000)\n",
        "\n",
        "counts_train = count_vec.fit_transform(x_train) # count matrix for the train data\n",
        "print(counts_train.toarray())"
      ],
      "metadata": {
        "id": "En-IIzxgnsz5",
        "colab": {
          "base_uri": "https://localhost:8080/"
        },
        "outputId": "d8328f14-3d5f-4e43-ba73-409e6d34d66b"
      },
      "execution_count": 54,
      "outputs": [
        {
          "output_type": "stream",
          "name": "stdout",
          "text": [
            "[[0 0 0 ... 0 0 0]\n",
            " [0 0 0 ... 0 0 0]\n",
            " [0 0 0 ... 0 0 0]\n",
            " ...\n",
            " [0 0 0 ... 0 0 0]\n",
            " [0 0 0 ... 0 0 0]\n",
            " [1 0 0 ... 0 0 0]]\n"
          ]
        }
      ]
    },
    {
      "cell_type": "code",
      "source": [
        "# I think this should be the size of volcabulary\n",
        "print(len(counts_train.toarray()[0]))"
      ],
      "metadata": {
        "colab": {
          "base_uri": "https://localhost:8080/"
        },
        "id": "QXM2xZuw5wQW",
        "outputId": "08e12879-b83e-454e-ae7a-1ae1771e5c5e"
      },
      "execution_count": 55,
      "outputs": [
        {
          "output_type": "stream",
          "name": "stdout",
          "text": [
            "10000\n"
          ]
        }
      ]
    },
    {
      "cell_type": "code",
      "source": [
        "print(count_vec.vocabulary_)"
      ],
      "metadata": {
        "colab": {
          "base_uri": "https://localhost:8080/"
        },
        "id": "O1W2oO9DXxWF",
        "outputId": "b9aaa362-1853-405c-c72a-1f5332999c7b"
      },
      "execution_count": 56,
      "outputs": [
        {
          "output_type": "stream",
          "name": "stdout",
          "text": [
            "{'advic': 528, 'talk': 8666, 'neighbour': 6013, 'famili': 3494, 'exchang': 3394, 'phone': 6676, 'number': 6173, 'creat': 2426, 'contact': 2102, 'list': 5300, 'school': 7716, 'employ': 3231, 'chemist': 1761, 'gp': 4088, 'set': 7834, 'onlin': 6292, 'shop': 7907, 'account': 471, 'adequ': 506, 'suppli': 8563, 'regular': 7316, 'med': 5623, 'not': 6143, 'order': 6330, 'coronaviru': 2200, 'australia': 941, 'woolworth': 9744, 'give': 3993, 'elderli': 3191, 'disabl': 2834, 'dedic': 2643, 'hour': 4471, 'amid': 689, 'covid19': 2328, 'outbreak': 6357, 'food': 3716, 'stock': 8411, 'onli': 6291, 'one': 6285, 'empti': 3235, 'pleas': 6757, 'dont': 2967, 'panic': 6480, 'there': 8807, 'will': 9692, 'enough': 3260, 'everyon': 3369, 'take': 8657, 'more': 5830, 'than': 8782, 'need': 6003, 'stay': 8337, 'calm': 1538, 'safe': 7593, 'covid19fr': 2335, 'covid_19': 2374, 'confin': 2047, 'readi': 7225, 'go': 4027, 'supermarket': 8548, 'dure': 3075, 'becaus': 1125, 'im': 4590, 'paranoid': 6505, 'seriou': 7826, 'thing': 8832, 'caus': 1654, 'shortag': 7926, 'restezchezv': 7411, 'stayathom': 8338, 'news': 6041, 'first': 3636, 'confirm': 2048, 'case': 1627, 'came': 1544, 'counti': 2304, 'last': 5151, 'week': 9593, 'peopl': 6606, 'flock': 3681, 'area': 824, 'store': 8435, 'purchas': 7071, 'clean': 1869, 'hand': 4228, 'sanit': 7643, 'toilet': 8927, 'paper': 6492, 'other': 6347, 'good': 4049, 'report': 7370, 'cashier': 1633, 'groceri': 4141, 'wa': 9493, 'share': 7863, 'hi': 4368, 'insight': 4737, 'prove': 7027, 'credibl': 2431, 'comment': 1977, 'civic': 1844, 'class': 1862, 'so': 8096, 'know': 5078, 'today': 8911, 'didnt': 2794, 'buy': 1497, 'rebel': 7249, 'toiletpapercrisi': 8931, 'due': 3063, 'retail': 7422, 'classroom': 1866, 'atlanta': 903, 'open': 6315, 'walkin': 9508, 'busi': 1482, 'next': 6058, 'two': 9139, 'begin': 1138, 'monday': 5804, 'march': 5532, '16': 81, 'continu': 2116, 'process': 6973, 'normal': 6129, 'thank': 8783, 'understand': 9207, 'corona': 2165, 'should': 7934, 'stop': 8427, 'cash': 1628, 'use': 9325, 'payment': 6561, 'method': 5674, 'can': 1551, 'spread': 8259, 'note': 6147, 'also': 659, 'prefer': 6896, 'home': 4421, 'time': 8889, 'fight': 3592, 'covid': 2326, '19': 102, 'indiafightscorona': 4662, 'all': 631, 'month': 5820, 'hasnt': 4270, 'crowd': 2458, 'restaur': 7410, 'howev': 4486, 'reduc': 7282, 'close': 1896, 'mall': 5494, 'mean': 5615, 'now': 6159, 'same': 7625, 'entranc': 3272, 'depend': 2713, 'singl': 8000, 'manila': 5514, 'lockdown': 5338, 'covid2019': 2369, 'philippin': 6669, 'situat': 8008, 'increas': 4648, 'demand': 2688, 'product': 6977, 'wait': 9497, 'may': 5595, 'longer': 5370, 'particularli': 6521, 'beef': 1131, 'freezer': 3834, 'pack': 6441, 'patienc': 6545, 'thi': 8827, 'care': 1598, 'commun': 1989, 'letâ': 5238, 'look': 5374, 'less': 5230, 'capabl': 1581, 'villag': 9430, 'ensur': 3265, 'healthi': 4303, 'bring': 1397, 'door': 2976, 'help': 4343, 'self': 7779, 'isol': 4842, 'symptom': 8636, 'expos': 3436, 'somebodi': 8147, 'ha': 4191, 'ill': 4585, 'just': 4980, 'amazon': 670, 'deliv': 2681, 'whatev': 9643, 'releas': 7330, 'resourc': 7401, 'center': 1686, 'travel': 9036, 'brand': 1359, 'uptod': 9305, 'consum': 2083, 'behavior': 1142, 'trend': 9045, 'line': 5285, 'unpredict': 9260, 'eat': 3119, 'altern': 661, 'find': 3616, 'whether': 9657, 'avoid': 969, 'right': 7477, '': 0, '_': 413, '13': 57, 'russia': 7571, 'surveil': 8590, 'watchdog': 9552, 'high': 4371, 'arctic': 823, 'where': 9653, 'man': 5502, 'iran': 4817, '101': 24, 'observ': 6212, 'whole': 9667, 'fresh': 3840, 'deliveri': 2682, 'âa': 9919, 'weâv': 9637, 'seen': 7773, 'signific': 7973, 'said': 7605, 'statement': 8329, 'âtoday': 9989, 'result': 7418, 'system': 8643, 'impact': 4608, 'affect': 540, 'arent': 827, 'struggl': 8477, 'consid': 2069, 'donat': 2963, 'bank': 1041, 'nonprofit': 6119, 'servic': 7831, 'job': 4939, 'way': 9557, 'life': 5263, '100': 18, 'nation': 5965, 'world': 9761, 'must': 5915, 'play': 6747, 'fair': 3479, 'china': 1786, 'gover': 4068, 'adopt': 516, 'new': 6032, 'guild': 4177, 'chines': 1793, 'guilti': 4179, 'global': 4006, 'scale': 7688, 'pandem': 6472, 'decis': 2635, 'sale': 7615, 'accord': 469, 'studi': 8481, 'amaz': 669, 'cheap': 1744, 'deal': 2611, 'trial': 9049, 'monthli': 5821, 'yearli': 9837, 'reson': 7399, 'price': 6932, 'subscript': 8497, 'dm': 2925, 'us': 9315, 'iptv': 4815, 'footbal': 3747, 'hd': 4289, 'movi': 5866, 'adult': 519, 'cinema': 1830, '10downingstreet': 28, 'done': 2964, 'essenti': 3314, 'restock': 7412, 'activ': 489, 'discourag': 2850, 'cannot': 1571, 'left': 5207, 'checkout': 1752, 'staff': 8294, 'polic': 6798, 'action': 488, 'selfish': 7785, 'profit': 6983, 'uk': 9161, 'poll': 6806, 'indic': 4668, 'major': 5477, 'expect': 3415, '12': 46, 'tracker': 9005, 'see': 7767, 'full': 3877, 'confid': 2045, 'here': 4358, 'prepar': 6906, 'higher': 4374, 'potenti': 6854, 'hunger': 4521, 'coalit': 1920, '10': 17, 'percent': 6611, 'implement': 4613, 'protocol': 7023, 'morn': 5835, 'test': 8769, 'posit': 6835, 'feel': 3565, 'ok': 6266, 'no': 6103, 'far': 3506, 'sinc': 7991, 'found': 3798, 'possibl': 6837, 'exposur': 3437, 'viru': 9447, 'keep': 5015, 'updat': 9292, 'how': 4483, 'iâm': 4869, 'malici': 5493, 'nyc': 6186, 'depart': 2712, 'worker': 9751, 'protect': 7015, 'page': 6450, 'digit': 2808, 'file': 3600, 'complaint': 2009, 'click': 1881, 'soon': 8160, 'dwindl': 3082, 'unlaw': 9245, 'break': 1369, 'amp': 697, 'raid': 7167, 'crisi': 2446, 'massiv': 5575, 'countri': 2306, 'shelv': 7883, 'ensu': 3264, 'hole': 4415, 'imag': 4592, 'richest': 7467, 'neighborhood': 6012, 'unit': 9235, 'state': 8328, 'breakingnew': 1373, 'coronavirusoutbreak': 2237, 'collaps': 1945, 'closur': 1900, 'could': 2288, 'explod': 3429, 'via': 9410, 'cnbc': 1914, 'brickandmortar': 1388, 'fun': 3880, 'fact': 3470, 'cough': 2285, 'get': 3968, 'aisl': 600, 'pretti': 6924, 'quickli': 7137, 'sorri': 8168, 'say': 7683, 'event': 3360, 'cancel': 1559, 'health': 4297, 'wellb': 9612, 'speaker': 8207, 'top': 8967, 'prioriti': 6955, 'apolog': 787, 'ani': 737, 'disappoint': 2838, 'faq': 3505, 'answer': 752, 'link': 5290, 'went': 9620, 'yesterday': 9847, 'gone': 4046, 'anyth': 774, 'ye': 9834, 'point': 6789, 'post': 6838, 'photo': 6679, 'load': 5325, 'stuff': 8484, 'parent': 6508, 'kid': 5045, 'sibl': 7959, 'etc': 3327, 'cant': 1574, 'themselv': 8801, 'everyth': 3371, 'viral': 9441, 'worri': 9767, 'current': 2508, 'financ': 3610, 'publish': 7052, 'some': 8146, 'tip': 8896, 'manag': 5503, 'money': 5811, 'challeng': 1714, 'wife': 9684, 'work': 9748, 'custom': 2519, 'everywher': 3374, 'request': 7381, 'deep': 2646, 'compani': 1995, 'object': 6206, 'cost': 2274, 'recommend': 7267, 'team': 8703, 'spray': 8258, 'gonna': 4048, 'sick': 7960, 'capit': 1584, 'like': 5276, 'without': 9724, 'judg': 4968, 'provid': 7029, 'experi': 3420, 'environ': 3277, 'associ': 886, 'place': 6731, 'coronapocolyps': 2187, 'shoponlin': 7913, 'curiou': 2506, 'think': 8833, 'shopper': 7915, 'lot': 5391, 'bc': 1106, 'theyr': 8820, 'unabl': 9177, 'too': 8962, 'spook': 8249, 'extra': 3448, 'pair': 6455, 'shoe': 7904, 'economi': 3142, 'onlineshop': 6299, 'stayhom': 8347, 'check': 1748, 'video': 9419, 'usa': 9317, 'market': 5547, 'die': 2796, 'starvat': 8324, 'houston': 4481, 'nofood': 6107, 'notoiletpap': 6152, 'totallockdown': 8978, 'walmart': 9514, 'stori': 8439, 'cloth': 1901, 'rise': 7486, 'mysteri': 5931, 'white': 9664, 'patch': 6538, 'form': 3774, 'quarantinelif': 7116, 'fakenew': 3486, 'outsid': 6382, 'target': 8680, 'south': 8177, 'african': 551, 'basic': 1071, 'hit': 4396, 'coronavirussa': 2243, 'someon': 8149, 's': 7581, '65': 328, 'live': 5309, 'own': 6429, '2': 121, 'local': 5334, 'issu': 4848, 'around': 843, 're': 7219, 'offer': 6238, 'free': 3828, 'soup': 8173, 'nationwid': 5967, 'anyon': 773, 'plu': 6768, 'half': 4207, 'complet': 2010, 'call': 1534, 'dumb': 3065, 'idiot': 4572, 'lol': 5364, 'never': 6031, 'thought': 8843, 'id': 4565, '2019': 141, 'come': 1966, 'back': 992, 'stoppanicbuy': 8431, 'restrict': 7414, 'spark': 8202, 'run': 7565, 'cannabi': 1567, 'yet': 9848, 'weekend': 9595, 'day': 2595, 'weâr': 9636, 'befor': 1135, 'previou': 6929, 'epidem': 3285, 'fear': 3551, 'racism': 7157, 'medicin': 5632, 'conspiraci': 2074, 'theori': 8803, 'prolifer': 6992, 'quack': 7104, 'cure': 2503, 'remain': 7341, 'emerg': 3216, 'socialdistanc': 8109, 'whi': 9658, 'water': 9553, 'util': 9339, 'shut': 7951, 'middl': 5698, 'thier': 8829, 'lose': 5387, 'canât': 1579, 'afford': 544, 'worth': 9773, 'dear': 2616, 'ive': 4866, 'follow': 3715, 'social': 8104, 'distanc': 2890, 'rule': 7561, 'prevent': 6927, 'spent': 8225, 'alarm': 605, 'amount': 696, 'submit': 8494, 'expens': 3419, 'reimburs': 7319, 'let': 5234, 'intensifi': 4769, 'across': 486, 'sever': 7840, 'geographi': 3958, 'downward': 3002, 'pressur': 6920, 'well': 9611, 'neg': 6007, 'great': 4115, 'bekind': 1149, 'mufc': 5887, 'import': 4617, 'afraid': 548, 'worst': 9772, 'scenario': 7707, 'wash': 9539, 'tub': 9102, 'yall': 9830, 'crazi': 2423, 'clerk': 1878, 'weari': 9572, 'eye': 3455, 'realiz': 7234, 'front': 3855, 'panick': 6484, 'breed': 1376, 'respond': 7406, 'hard': 4252, 'serv': 7828, 'entir': 3269, 'malaysia': 5488, 'face': 3461, 'near': 5991, 'futur': 3896, 'surpris': 8585, 'mani': 5511, 'lost': 5390, 'corner': 2160, 'scammer': 7691, 'advantag': 522, 'cdc': 1669, 'flu': 3692, 'alert': 618, '4': 254, 'both': 1322, 'mask': 5566, 'made': 5453, 'medic': 5629, 'personnel': 6632, 'requir': 7382, 'materi': 5582, 'meltblown': 5642, 'fabric': 3459, 'packag': 6442, 'make': 5479, 'oppos': 6320, 'safeti': 7601, 'lockdowncanada': 5342, 'ethic': 3332, 'still': 8397, 'ship': 7893, 'love': 5400, '2k': 199, 'told': 8944, 'pymnt': 7088, 'chang': 1721, 'daili': 2547, 'bought': 1326, 'hous': 4474, 'didnât': 2795, 'tragic': 9014, 'facebook': 3462, 'group': 4154, 'itâ': 4861, 'frankli': 3819, 'despic': 2744, 'total': 8977, 'void': 9470, 'spirit': 8237, 'nameandsham': 5949, 'covid19uk': 2364, 'liverpool': 5312, 'sadli': 7592, 'misinform': 5760, 'diarrhoea': 2787, 'therefor': 8809, 'stockpil': 8417, 'atm': 905, 'hygien': 4542, 'yeah': 9835, 'riski': 7490, 'thatâ': 8787, 'when': 9650, 'realli': 7236, 'necessari': 5999, 'mum': 5897, 'shield': 7889, '3': 206, 'hope': 4452, 'kind': 5055, 'word': 9746, 'sound': 8172, 'anymor': 772, 'donât': 2972, 'bs': 1429, 'necess': 5998, 'thereâ': 8811, 'noth': 6148, 'scare': 7700, 'send': 7808, 'seafood': 7749, 'skyrocket': 8028, 'mumbai': 5898, 'gtgt': 4166, 'coronavid19': 2197, 'coronavirusupd': 2252, 'paus': 6553, 'student': 8480, 'loan': 5327, 'addit': 503, 'halt': 4213, 'interest': 4773, 'accumul': 473, 'collect': 1947, 'would': 9776, 'much': 5884, 'immedi': 4597, 'relief': 7336, 'individu': 4671, 'econom': 3141, 'hardship': 4256, 'balaji': 1023, 'side': 7964, 'tech': 8708, 'alreadi': 657, 'strip': 8468, 'though': 8842, 'detail': 2750, 'lack': 5119, 'us_fda': 9316, 'deem': 2645, 'waiv': 9500, 'doesnât': 2945, 'easili': 3107, 'wage': 9494, 'either': 3184, 'urg': 9311, 'support': 8568, 'bill': 1210, 'includ': 4641, 'flexibl': 3673, 'meal': 5614, 'ceo': 1691, '79': 361, 'show': 7943, 'saw': 7682, 'young': 9865, 'coupl': 2311, '300': 208, 'roll': 7516, 'tp': 8998, 'crap': 2416, 'mayb': 5596, 'pose': 6834, 'complex': 2011, 'puzzl': 7085, 'fooddeliveri': 3721, 'capac': 1582, 'buckl': 1440, 'surg': 8578, 'wsj': 9797, 'borisjohnson': 1315, 'patel4witham': 6540, 'disgust': 2861, 'disgrac': 2859, 'charg': 1731, 'inflat': 4690, 'item': 4857, 'govern': 4069, 'someth': 8151, 'physic': 6684, 'curtail': 2511, 'ago': 570, 'put': 7083, 'omnichannel': 6282, 'curbsid': 2502, 'pick': 6690, 'ecommerc': 3139, 'folk': 3714, 'cal': 1523, 'idea': 4567, 'la': 5111, 'habra': 4193, 'special': 8210, 'senior': 7809, 'hate': 4274, 'head': 4290, 'happen': 4244, 'wont': 9738, 'spend': 8224, 'common': 1987, 'sens': 7811, 'letter': 5236, 'hold': 4412, 'organ': 6337, 'household': 4476, 'suspend': 8601, 'debt': 2625, 'respons': 7407, 'sign': 7970, 'covid19au': 2330, 'want': 9522, 'older': 6271, 'australian': 943, 'mobil': 5779, 'doe': 2942, 'heard': 4313, 'payer': 6560, 'exec': 3400, 'lay': 5179, 'low': 5402, 'blow': 1264, 'mind': 5734, 'stupid': 8488, 'blue': 1267, 'plan': 6735, 'such': 8513, 'frank': 3818, 'bread': 1367, 'pal': 6460, 'iâv': 4870, 'save': 7675, '1': 16, 'n': 5933, 'bean': 1114, 'disciplin': 2845, 'got': 4058, 'attempt': 912, 'budget': 1444, 'slash': 8034, 'hire': 4392, 'frozen': 3859, 'staf': 8293, 'dive': 2908, 'startup': 8322, 'battl': 1086, 'âat': 9924, 'distilleri': 2897, 'oper': 6316, 'public': 7049, 'tour': 8985, 'host': 4463, 'function': 3881, 'hoard': 4405, 'absolut': 445, 'chain': 1709, 'interrupt': 4781, 'abov': 439, 'probabl': 6967, 'dontpanicbuy': 2970, 'toxic': 8994, 'chemic': 1760, 'fruit': 3860, 'veget': 9381, 'herb': 4354, 'fulli': 3878, 'human': 4511, 'immun': 4602, 'dad': 2544, '70': 342, 'might': 5708, 'sometim': 8152, 'forget': 3769, 'alway': 668, 'easi': 3104, 'trolley': 9061, 'rumour': 7564, 'hypermarket': 4546, '2020': 146, 'pictur': 6698, 'often': 6249, 'crimin': 2443, 'tri': 9047, 'except': 3392, 'guidanc': 4175, 'attorney': 916, 'gener': 3948, 'offic': 6239, 'sure': 8576, 'within': 9723, 'dri': 3027, 'effect': 3172, 'introduc': 4790, 'ration': 7208, 'somehow': 8148, 'frontlin': 3856, 'extraordinari': 3450, 'extrem': 3451, 'move': 5863, 'gt': 4163, 'focu': 3707, 'best': 1181, 'opportun': 6318, 'outcom': 6359, 'structur': 8476, 'key': 5034, 'flourish': 3688, 'kroger': 5096, 'biggest': 1203, 'employe': 3232, 'receiv': 7255, 'leav': 5201, 'even': 3359, 'paid': 6451, 'instead': 4750, 'mandatori': 5507, 'quarantin': 7110, 'insuffici': 4757, 'especi': 3309, 'littl': 5308, 'few': 3580, 'pain': 6452, 'stayhealthi': 8346, 'took': 8963, 'md': 5612, 'flour': 3687, 'sugar': 8520, 'sweet': 8619, 'potato': 6852, 'orang': 6328, 'juic': 4971, 'towel': 8990, 'meat': 5621, 'mac': 5443, 'chees': 1758, 'panicbuy': 6482, 'swear': 8614, 'buyer': 1499, 'coronavirusuk': 2251, 'anxieti': 767, 'panicbuyinguk': 6483, 'moron': 5839, 'rapid': 7201, 'slot': 8048, 'elsewher': 3208, 'seem': 7771, 'fine': 3617, 'email': 3212, 'bottl': 1324, 'fault': 3529, 'short': 7925, 'â': 9903, 'risk': 7489, '6': 315, 'ft': 3865, 'elimin': 3201, 'recess': 7258, 'three': 8849, 'phase': 6662, 'damag': 2557, 'main': 5470, 'street': 8454, 'ongo': 6289, 'cb': 1659, 'rescu': 7385, 'temp': 8739, 'recoveri': 7272, 'credit': 2432, 'mkt': 5772, 'econ': 3140, 'unknown': 9244, 'second': 7759, 'shock': 7903, 'later': 5155, 'final': 3608, 'wall': 9510, 'altogeth': 664, 'spx': 8268, 'end': 3244, 'bootsuk': 1307, 'surgic': 8581, 'suppos': 8572, 'disinfect': 2864, 'real': 7227, 'petit': 6648, 'bev': 1186, 'colorado': 1956, 'starbuck': 8317, 'togo': 8924, 'bar': 1049, 'chickfila': 1774, 'drive': 3031, 'model': 5784, 'earli': 3095, 'king': 5059, 'sooper': 8164, 'sam': 7624, 'club': 1904, 'halfhour': 4208, 'each': 3091, 'exclus': 3398, 'ton': 8954, 'greedi': 4121, 'mild': 5718, 'chanc': 1718, 'transmiss': 9027, 'cspi': 2477, 'consumerâ': 2099, 'guid': 4174, 'examin': 3388, '20': 122, 'largest': 5149, 'handl': 4232, '60': 316, 'disclos': 2846, 'polici': 6800, 'locat': 5336, 'signag': 7971, 'precaut': 6884, 'light': 5272, 'effort': 3174, 'speed': 8220, 'crucial': 2462, 'unnecessari': 9252, 'problem': 6968, 'rice': 7464, 'year': 9836, 'panicshop': 6487, 'pricegoug': 6934, 'wast': 9550, 'date': 2587, 'shopkeep': 7910, 'hoarder': 4406, 'selfishpeopl': 7787, 'congress': 2058, 'temporarili': 8744, 'technic': 8711, 'correct': 2266, 'anyway': 776, 'insist': 4738, 'read': 7223, 'floor': 3684, 'return': 7441, 'senat': 7803, 'financi': 3611, 'bureau': 1470, 'feder': 3558, 'regul': 7315, 'mandat': 5506, 'most': 5849, 'aircanada': 594, 'veri': 9398, 'poor': 6814, 'algorithm': 623, 'refund': 7303, 'popul': 6819, 'compromis': 2022, 'clear': 1874, 'nygovcuomo': 6189, 'govinsle': 4075, 'relat': 7326, 'danielandrewsmp': 2569, 'daughter': 2588, 'friend': 3849, 'act': 487, 'stand': 8309, 'woman': 9733, 'refus': 7304, '5': 285, 'box': 1338, 'symptomat': 8637, 'agre': 571, 'skype': 8027, 'youâr': 9876, 'walk': 9506, 'shit': 7897, 'avail': 958, 'covid19walkout': 2367, 'ny': 6185, 'awar': 974, 'uptick': 9303, 'scam': 7689, 'media': 5625, 'text': 8772, 'websit': 9583, 'involv': 4804, 'visit': 9455, 'hotlin': 4467, '1800': 95, 'youll': 9863, 'abl': 437, 'tell': 8736, 'movement': 5864, 'kati': 5010, 'amongst': 695, 'respect': 7402, 'least': 5199, 'll': 5319, 'fyi': 3898, 'notic': 6149, 'nasti': 5964, 'mention': 5656, 'industri': 4678, 'trump': 9075, 'cut': 2524, 'medicar': 5631, 'secur': 7766, 'benefit': 1166, 'stamp': 8305, 'remov': 7351, 'pre': 6881, 'exist': 3406, 'condit': 2037, 'coverag': 2323, 'aca': 454, 'charlott': 1735, 'voluntarili': 9475, 'concern': 2029, 'tough': 8982, 'rememb': 7345, 'option': 6327, 'heb': 4326, 'fan': 3500, 'appreci': 804, 'limit': 5282, 'tho': 8839, 'push': 7081, 'toward': 8989, 'pickup': 6695, 'per': 6609, 'cart': 1621, 'happi': 4245, 'm': 5440, 'o': 6196, 'd': 2540, 'y': 9824, 'uneasi': 9216, 'small': 8057, 'tackl': 8650, 'measur': 5620, 'prosecut': 7012, 'texan': 8771, 'cyber': 2531, 'reveal': 7449, 'person': 6629, 'info': 4697, 'unsolicit': 9277, 'trust': 9092, 'sourc': 8174, 'attack': 911, 'queue': 7134, 'gun': 4183, 'theyâr': 8824, 'centr': 1687, 'rout': 7540, 'nz': 6194, 'base': 1065, 'ask': 869, 'app': 789, 'won': 9736, 'lotteri': 5393, 'stockmarket': 8414, 'toiletpap': 8928, 'arizona': 837, 'foxnew': 3805, 'bad': 1007, 'habit': 4192, 'definit': 2662, 'wear': 9564, 'scrub': 7742, 'nobodi': 6104, 'medtwitt': 5635, 'leader': 5190, 'kashmir': 5008, 'western': 9628, 'pile': 6705, 'imagin': 4593, '7': 341, 'wake': 9502, 'european': 3348, 'â20': 9910, 'wonder': 9737, 'past': 6533, 'start': 8320, 'fml': 3703, 'catch': 1645, 'hella': 4340, 'delay': 2671, 'car': 1592, 'wanna': 9521, 'transport': 9031, 'hell': 4339, 'appar': 792, 'wipe': 9709, 'ass': 875, 'hear': 4312, 'wednesday': 9587, '18th': 100, 'ammo': 692, 'believ': 1155, 'ugli': 9158, 'broke': 1412, 'feed': 3562, 'long': 5369, 'mth': 5880, 'pasta': 6534, 'em': 3211, 'starv': 8323, 'win': 9696, 'pr': 6872, 'game': 3911, 'differ': 2802, 'freak': 3826, 'shelf': 7877, 'control': 2124, 'realdonaldtrump': 7228, 'sake': 7612, 'actual': 494, 'mount': 5859, 'dispens': 2876, 'soap': 8097, 'enter': 3266, 'âto': 9988, 'unfortun': 9225, 'buck': 1437, 'iâll': 4868, 'hungri': 4522, 'staysaf': 8361, 'stockup': 8419, 'chocol': 1801, 'dark': 2576, 'circl': 1833, 'gum': 4182, 'seed': 7768, 'grow': 4155, 'flower': 3691, 'manual': 5524, 'surviv': 8592, 'apocalyps': 784, '8': 370, '9': 389, 'gin': 3988, 'heel': 4332, 'lava': 5171, 'announc': 746, 'electron': 3196, 'comput': 2024, 'add': 501, 'sanitis': 7646, 'rest': 7408, 'realis': 7231, 'nearli': 5994, '80': 371, 'old': 6270, 'hasnât': 4271, 'cupboard': 2497, 'encourag': 3243, 'rel': 7325, 'citi': 1839, 'kill': 5048, 'sell': 7793, '750': 353, 'almost': 646, '200': 123, 'cheaper': 1745, 'edit': 3159, 'fit': 3646, 'room': 7526, 'pact': 6448, 'upset': 9300, 'rn': 7498, 'remind': 7346, 'ignor': 4581, 'corpor': 2264, 'america': 683, 'turn': 9120, 'edinburgh': 3158, 'night': 6087, 'gov': 4065, 'âlow': 9959, 'thread': 8846, 'highrisk': 4379, 'driver': 3033, 'footag': 3746, 'yâall': 9885, 'togeth': 8919, 'pop': 6818, 'variou': 9371, 'toll': 8947, 'infant': 4686, 'formula': 3779, 'theyll': 8819, 'hoax': 4407, 'freez': 3833, 'sold': 8131, 'backlog': 998, 'although': 663, 'silver': 7980, 'cloud': 1902, 'drivethru': 3035, 'postmat': 6847, 'havent': 4279, 'provis': 7033, 'smash': 8065, 'mine': 5736, 'mass': 5572, 'hysteria': 4550, 'isnât': 4840, 'success': 8511, 'contract': 2118, 'milk': 5723, 'cat': 1640, 'treat': 9040, 'god': 4031, 'provinc': 7030, 'chicago': 1770, 'affair': 539, 'bacp': 1004, 'solicit': 8135, 'feedback': 3563, 'develop': 2766, 'fill': 3602, 'survey': 8591, 'asap': 859, 'paycheck': 6557, 'sensibl': 7815, 'suggest': 8522, 'selfisol': 7788, 'american': 684, 'taken': 8660, 'saturday': 7662, 'black': 1240, 'beauti': 1122, 'haul': 4275, 'train': 9016, 'tourist': 8987, 'colleagu': 1946, 'pleasur': 6761, 'phillyinquir': 6672, 'nordstrom': 6127, 'rack': 7159, 'washington': 9542, 'st': 8284, 'retailnew': 7428, 'phish': 6673, '8pm': 387, 'carton': 1624, 'almond': 645, 'convinc': 2134, 'millenni': 5727, 'sht': 7949, 'currenc': 2507, 'rate': 7205, 'oil': 6256, 'fluctuat': 3693, 'coronavirusindia': 2213, 'lifestyl': 5267, 'wisdom': 9715, 'natur': 5970, 'spa': 8191, 'sleep': 8037, 'inc': 4631, 'nyse': 6192, 'north': 6133, 'l': 5110, 'guess': 4172, 'press': 6918, 'hyster': 4549, 'step': 8379, 'shoot': 7906, 'contamin': 2107, 'strain': 8443, 'googl': 4055, 'build': 1449, 'hr': 4490, 'savvi': 7681, 'join': 4951, 'uae': 9148, 'contain': 2106, 'visitor': 9456, 'gym': 4189, 'amus': 702, 'lulu': 5420, 'routin': 7541, 'given': 3997, 'postpon': 6850, 'til': 8886, '17': 86, '18': 93, 'nov': 6154, 'meet': 5636, 'provok': 7034, 'discuss': 2856, 'experienc': 3422, 'forward': 3791, 'stuck': 8479, 'indoor': 4674, 'decid': 2633, 'wasnât': 9549, 'kept': 5029, 'boomer': 1302, 'flight': 3675, 'infect': 4687, 'meanwhil': 5619, 'hunker': 4523, '10m': 30, 'fund': 3882, 'administ': 511, '75k': 355, 'parttim': 6525, 'appli': 800, 'sauc': 7667, 'pizza': 6727, 'dalla': 2556, 'becom': 1127, 'italian': 4852, 'grandma': 4101, 'killer': 5049, 'privat': 6960, 'sector': 7765, 'access': 462, 'cnn': 1915, 'resist': 7396, 'herd': 4357, 'mental': 5654, 'coronaviruspandem': 2241, 'heath': 4321, 'fulfil': 3876, 'drsanjaygupta': 3045, 'newday': 6034, 'tout': 8988, 'critic': 2450, 'arena': 826, 'coronavir': 2199, 'multipl': 5894, 'citizen': 1840, 'warn': 9531, 'late': 5154, 'drop': 3037, 'latest': 5156, 'extent': 3442, 'âit': 9952, 'mediaâ': 5628, 'invest': 4798, 'articl': 853, 'sane': 7641, 'escal': 3305, 'impend': 4610, 'ministri': 5745, 'domest': 2954, 'trade': 9006, 'fake': 3485, 'increasingli': 4649, 'chaotic': 1727, 'kick': 5044, 'forag': 3751, 'foodâ': 3742, 'nose': 6141, 'drink': 3029, 'writer': 9790, 'usual': 9333, 'recip': 7260, 'regard': 7307, 'pregnant': 6897, 'women': 9734, 'vaccin': 9352, 'frequent': 3839, 'away': 976, 'commonsens': 1988, 'dime': 2814, 'chief': 1777, 'fee': 3561, 'color': 1954, 'rainbow': 7171, 'boost': 1303, 'immunesystem': 4603, 'fridg': 3848, 'pantri': 6490, 'foodshortag': 3735, 'foodsecur': 3732, 'sad': 7590, 'hotel': 4466, 'vendor': 9386, 'marchmad': 5533, '10000': 20, 'level': 5239, 'franc': 3815, 'outlook': 6373, 'slip': 8045, 'apparel': 793, 'revenu': 7451, 'ulta': 9169, 'instor': 4754, 'retaild': 7423, 'cosmet': 2273, 'casualti': 1639, 'everi': 3363, 'fuck': 3868, 'bog': 1281, 'goe': 4035, 'wors': 9769, 'prick': 6939, 'covid_19uk': 2380, 'canada': 1552, 'section': 7764, 'youtub': 9871, 'heri': 4361, 'safest': 7600, 'space': 8192, 'shall': 7856, 'ransack': 7194, 'retailwork': 7434, 'btw': 1434, 'infrastructur': 4703, 'sudden': 8515, 'nice': 6074, 'pay': 6555, 'reflect': 7296, 'socialis': 8113, 'socialdist': 8107, 'lead': 5189, 'guard': 4169, 'wonât': 9739, 'militari': 5721, 'ban': 1029, 'shame': 7858, 'heavili': 4325, 'impli': 4614, 'interact': 4772, 'dtc': 3053, 'brick': 1387, 'mortar': 5844, 'facilit': 3469, 'growth': 4158, 'question': 7132, 'manufactur': 5525, 'plant': 6739, 'shutdown': 7952, 'beat': 1119, 'classic': 1864, 'wheel': 9648, 'big': 1200, 'mcdonaldâ': 5607, 'ubereat': 9151, 'promo': 6995, 'code': 1930, 'tampc': 8672, 'hyve': 4551, 'sunday': 8535, '15': 70, 'spring': 8263, 'missouri': 5765, 'obtain': 6216, 'asda': 860, 'tesco': 8764, 'morrison': 5841, 'sainsburi': 7608, 'minimum': 5742, 'basket': 1073, 'forgot': 3771, 'wish': 9717, 'predict': 6893, 'air': 591, 'strike': 8465, 'iraqi': 4820, 'greatest': 4117, '2014': 136, 'invas': 4795, 'coronavirusinpakistan': 2218, 'florida': 3685, 'hospit': 4462, 'along': 650, 'doesnt': 2944, 'fate': 3526, 'jeopardi': 4914, 'gather': 3928, 'madam': 5451, 'di': 2776, 'ang': 729, 'aggress': 567, 'behaviour': 1144, 'thrill': 8854, 'war': 9523, 'threat': 8847, 'peopleâ': 6607, 'true': 9072, 'selv': 7796, 'stress': 8459, 'fail': 3477, 'lax': 5178, 'standard': 8311, 'veg': 9378, 'coffe': 1934, 'particip': 6518, 'era': 3294, 'lean': 5194, 'difficult': 2804, 'accommod': 466, 'huge': 4504, 'discret': 2853, 'strong': 8471, 'nytim': 6193, 'unpreced': 9259, 'opt': 6323, 'indefinit': 4654, 'novel': 6156, 'usâ': 9334, 'fl': 3655, 'agricultur': 576, 'commission': 1983, 'dept': 2723, 'theyâv': 8825, 'children': 1781, 'afternoon': 555, 'bet': 1183, 'learn': 5196, 'react': 7221, 'marketresearch': 5554, 'consumerinsight': 2094, 'coz': 2400, 'danger': 2567, 'kenya': 5026, 'tonight': 8959, 'âwe': 9991, 'tonightâ': 8960, 'french': 3836, 'presid': 6915, 'emmanuel': 3223, 'macron': 5449, 'impos': 4619, 'twoweek': 9140, 'declar': 2638, 'municip': 5901, 'allow': 642, 'âessenti': 9938, 'trip': 9058, 'pharmaci': 6659, 'fraud': 3822, 'inform': 4699, 'commiss': 1982, 'religi': 7338, 'vulner': 9489, '50': 286, 'costco': 2276, 'multipli': 5895, 'zombi': 9895, 'mountain': 5860, 'member': 5644, 'youv': 9872, 'uniqu': 9234, 'reliabl': 7333, 'electr': 3194, 'bing': 1215, 'dream': 3021, 'enjoy': 3258, 'everyday': 3368, '11am': 44, 'con': 2026, 'beyond': 1190, 'insur': 4760, 'stayconnect': 8345, 'hello': 4341, 'brother': 1417, 'sister': 8004, 'connect': 2060, 'mainli': 5471, 'drc': 3019, 'devast': 2765, 'depress': 2721, 'yell': 9841, 'garlic': 3921, 'chinaâ': 1792, 'soo': 8159, 'heâ': 4366, 'commerc': 1979, 'commod': 1986, 'disappear': 2837, 'curs': 2510, 'alon': 648, 'deserv': 2735, 'els': 3207, 'korea': 5087, 'giant': 3978, 'ad': 496, '100000': 21, 'fulltim': 3879, 'importantli': 4618, 'priorit': 6954, 'marijuana': 5542, 'patient': 6546, 'grab': 4090, 'convid19': 2132, 'r': 7149, 'courier': 2314, 'partner': 6523, 'amazonin': 673, 'flipkart': 3678, 'vast': 9372, 'b': 984, 'carrier': 1618, 'hike': 4383, 'ebay': 3124, 'ridicul': 7474, 'workforc': 9754, 'pwc': 7087, 'bare': 1053, 'troubl': 9065, 'track': 9004, 'blog': 1257, 'tune': 9113, 'friday': 3843, 'digitalmarket': 2809, 'bogu': 1284, 'kit': 5063, 'crush': 2470, 'pm': 6776, 'assur': 889, 'stopthespread': 8433, 'research': 7386, 'shown': 7946, 'faster': 3521, 'author': 948, 'design': 2737, 'slow': 8049, 'diseas': 2857, 'npr': 6164, 'facemask': 3463, 'proper': 7004, 'scarciti': 7699, 'gallon': 3907, 'egg': 3177, 'cours': 2315, 'needless': 6005, 'san': 7632, 'mayor': 5598, 'london': 5365, 'april': 812, 'midnight': 5703, 'tuesday': 9107, 'doctor': 2935, 'plung': 6773, 'drove': 3042, 'morningconsult': 5836, 'appl': 797, '27th': 190, 'reopen': 7360, '42': 266, 'greater': 4116, 'grown': 4157, 'highest': 4375, 'quiet': 7140, 'tube': 9103, 'terribl': 8759, 'fantast': 3503, 'ticket': 8875, 'owhealth': 6428, 'turmoil': 9119, 'format': 3776, 'deeper': 2648, 'relationship': 7327, 'societi': 8119, 'larg': 5147, 'welfar': 9610, 'odisha': 6232, 'oregon': 6335, 'kate': 5009, 'brown': 1419, 'onsit': 6303, 'dine': 2816, 'takeout': 8661, 'europ': 3347, 'muppet': 5902, 'yorkshir': 9860, 'anthoni': 754, 'fauci': 3528, 'perceiv': 6610, 'guidelin': 4176, 'inconveni': 4646, 'deterior': 2757, 'assess': 879, 'serious': 7827, 'eight': 3182, 'view': 9424, 'itali': 4851, 'prison': 6957, 'cell': 1681, 'suspect': 8600, 'bharat': 1192, 'weve': 9632, 'arenât': 828, 'ventil': 9391, 'incom': 4643, 'bail': 1016, 'virtu': 9445, 'excess': 3393, 'maxim': 5592, 'station': 8333, 'makro': 5485, 'selfquarantin': 7791, '90': 390, 'birth': 1226, 'shaki': 7854, 'ground': 4153, 'grind': 4137, 'listen': 5301, 'chao': 1726, 'hardli': 4255, 'paracetamol': 6497, 'till': 8887, 'haunt': 4276, 'quick': 7135, 'homeless': 4428, 'suck': 8514, 'deni': 2703, 'postal': 6840, 'throughout': 8859, 'forefront': 3760, 'type': 9144, 'loo': 5373, 'knit': 5074, 'mom': 5798, 'watch': 9551, 'homeschool': 4433, 'covid19ireland': 2341, 'monitor': 5815, 'draconian': 3006, 'staythefhom': 8366, 'scene': 7708, 'foreign': 3761, 'finland': 3623, 'ron': 7523, '95': 398, 'diesel': 2798, 'buse': 1479, 'e': 3089, 'hail': 4202, 'combat': 1963, 'evolv': 3380, 'rapidli': 7202, 'uncertain': 9187, 'aim': 587, 'wholesal': 9669, 'intervent': 4784, 'disagre': 2836, 'strategi': 8449, 'campaign': 1548, 'frighten': 3852, 'fall': 3488, 'energi': 3250, 'ga': 3901, 'coal': 1919, 'shift': 7890, 'fuel': 3872, 'power': 6863, 'welcom': 9609, 'stophoard': 8429, 'alan': 604, 'jone': 4957, 'radio': 7162, 'perhap': 6618, 'exactli': 3385, 'journal': 4962, '30am': 212, 'h': 4190, '29th': 195, 'period': 6621, 'hunt': 4524, 'valley': 9357, 'town': 8992, 'settlement': 7837, 'tomorrow': 8952, 'enhanc': 3257, 'luzon': 5432, 'owner': 6430, 'lvmh': 5434, 'convert': 2130, 'perfum': 6617, 'factori': 3473, 'ikea': 4583, 'coronapocalyps': 2186, 'holiday': 4417, '14': 64, 'dubai': 3059, 'elearn': 3192, 'wine': 9702, 'paypal': 6563, 'addict': 502, 'wherev': 9655, 'compass': 2000, 'tissu': 8900, 'coronaoutbreak': 2183, 'foodsafeti': 3731, 'immunocompromis': 4604, 'prepackag': 6905, 'download': 2997, 'applic': 802, 'smartphon': 8064, 'easier': 3105, 'recov': 7271, 'agenc': 562, 'cattl': 1651, 'sheep': 7872, 'plate': 6743, 'reach': 7220, 'smart': 8061, 'mother': 5851, 'lil': 5278, 'math': 5583, 'milwauke': 5731, 'highriskcovid19': 4380, 'beij': 1147, 'fare': 3508, 'interview': 4785, 'mypov': 5930, 'chatter': 1743, 'background': 995, 'lock': 5337, '2week': 204, 'prepper': 6909, 'wk': 9728, 'peak': 6577, 'sarscov2': 7657, 'homebound': 4423, 'guy': 4188, 'address': 504, 'regist': 7312, 'clinic': 1889, 'bengaluru': 1168, 'âthere': 9984, 'plenti': 6763, 'countryâ': 2310, 'supplier': 8564, 'bulk': 1453, 'texa': 8770, 'spoken': 8245, 'nurs': 6176, 'better': 1184, 'cover': 2322, 'mouth': 5862, 'meter': 5673, 'stranger': 8446, 'homemad': 4429, 'fred': 3827, 'meyer': 5683, 'jack': 4874, 'cdcgov': 1670, 'pl': 6730, 'pharmacist': 6660, 'cruel': 2465, 'deliber': 2676, 'blind': 1253, 'accur': 474, '45': 270, 'lie': 5262, 'despit': 2745, 'opec': 6314, 'sharp': 7866, 'prolong': 6993, 'lower': 5403, 'refinitiv': 7295, 'roger': 7513, 'nervou': 6020, 'stick': 8393, 'figur': 3596, 'voic': 9469, 'pattern': 6551, 'region': 7311, 'asset': 880, 'perspect': 6633, '800': 372, 'takeaway': 8658, 'rep': 7361, 'border': 1311, 'mortgag': 5845, 'treatment': 9041, 'sta': 8285, 'foot': 3745, 'bond': 1293, 'crash': 2418, 'bother': 1323, 'loot': 5382, 'consumpt': 2100, 'fold': 3712, 'uncertainti': 9188, 'trigger': 9054, 'alik': 629, 'retailtrend': 7431, 'â5': 9913, 'billion': 1212, 'prompt': 6998, 'refer': 7290, 'downturn': 3001, 'dt': 3052, 'disput': 2883, 'dow': 2994, 'nan': 5950, 'bright': 1394, 'spot': 8254, 'babi': 990, 'spare': 8201, 'wow': 9782, 'child': 1778, 'hey': 4365, 'ladi': 5122, 'asshol': 882, 'vile': 9429, 'outlet': 6370, 'nonessenti': 6114, 'hub': 4498, 'york': 9858, 'ap': 780, 'onlineâ': 6300, 'produc': 6976, 'colleg': 1949, 'toronto': 8972, 'newzealand': 6057, 'export': 3435, 'previous': 6930, '48': 275, 'arbitrag': 822, 'zealand': 9889, 'packer': 6444, 'escap': 3306, 'elizabeth': 3204, 'warren': 9534, 'pharma': 6657, 'languag': 5144, 'drug': 3046, 'father': 3527, 'hang': 4241, 'del': 2669, 'taco': 8651, 'pass': 6526, 'dilig': 2813, 'minimis': 5741, 'deadli': 2607, 'portabl': 6827, 'doorstep': 2980, '1hr': 112, 'kampala': 4999, 'minofhealthug': 5747, 'mondaymotiv': 5807, 'wallstreet': 9513, 'term': 8756, 'driven': 3032, 'tax': 8690, 'planet': 6737, 'shore': 7924, 'raw': 7212, 'prognosi': 6986, 'sit': 8005, 'internet': 4779, 'traffic': 9012, 'earn': 3098, 'rais': 7173, 'tool': 8964, 'remot': 7349, 'bitcoin': 1232, 'technolog': 8714, 'todayshow': 8912, 'vicki': 9414, 'qualifi': 7106, 'anywher': 777, 'pmoindia': 6780, 'mrp': 5871, '23': 169, '400': 256, 'suffer': 8518, 'speechless': 8219, 'purpos': 7077, 'ebay_uk': 3125, 'asham': 862, 'dog': 2946, 'shouldnt': 7937, 'hazard': 4286, 'atleast': 904, 'carri': 1617, 'huh': 4505, 'aetna': 536, 'broad': 1406, 'whose': 9672, 'belong': 1157, 'jersey': 4919, 'phil': 6666, 'murphi': 5904, 'ashley': 863, 'ahead': 580, 'wave': 9555, 'scrap': 7735, 'behind': 1145, 'hereâ': 4360, 'recent': 7256, 'wallet': 9511, 'shanghai': 7861, 'worsen': 9770, 'circumst': 1837, 'bargain': 1055, 'season': 7755, 'defin': 2661, 'engag': 3253, 'seek': 7769, 'attent': 914, 'sanfrancisco': 7642, 'amzn': 705, 'highli': 4376, 'rs': 7548, 'kindli': 5058, 'varieti': 9370, 'earth': 3101, 'punjab': 7069, 'practic': 6873, 'occup': 6225, 'doesn': 2943, 't': 8644, 'assist': 885, 'unknowingli': 9243, 'grip': 4138, 'approach': 805, 'doomsday': 2974, 'fast': 3520, 'coronavirusnz': 2235, 'privileg': 6961, '22': 165, 'melbourn': 5640, 'glove': 4018, 'goug': 4062, 'divis': 2917, 'name': 5948, 'messag': 5668, 'falter': 3492, 'vigil': 9426, 'proactiv': 6965, 'au': 921, 'le': 5188, 'vent': 9390, 'de': 2605, 'greed': 4120, 'death': 2617, 'swept': 8621, 'rich': 7465, 'sustain': 8605, 'refrain': 7298, 'unnecessarili': 9253, 'client': 1882, 'ever': 3362, 'reli': 7332, 'verifi': 9399, 'data': 2582, 'ident': 4569, 'candid': 1562, 'mcdonald': 5606, 'subway': 8509, 'hint': 4390, 'felt': 3571, 'card': 1596, 'touch': 8980, 'age': 561, 'pittsburgh': 6723, 'icelandfood': 4558, 'lifelin': 5265, 'finish': 3622, 'role': 7515, 'wildlif': 9691, 'scrutini': 7743, 'speci': 8209, 'brink': 1398, 'extinct': 3445, 'anim': 739, 'farm': 3510, 'endang': 3245, 'princip': 6949, 'contagi': 2104, 'undocu': 9214, 'arsehol': 850, 'harder': 4253, 'stopstockpil': 8432, 'lo': 5324, 'angel': 730, 'summer': 8530, 'launch': 5165, 'seri': 7825, 'blockchain': 1256, 'crypto': 2471, 'ice': 4556, 'sto': 8410, 'entertain': 3268, 'venu': 9393, 'bodega': 1278, 'non': 6112, 'field': 3589, 'veterinarian': 9409, 'dentist': 2709, 'mail': 5468, 'gratitud': 4112, 'healthcar': 4298, 'fire': 3627, 'fighter': 3595, 'emt': 3237, 'shape': 7862, 'hide': 4370, 'correl': 2268, 'crude': 2463, 'muslim': 5914, 'covid1': 2327, 'contagion': 2105, 'stimul': 8398, 'forese': 3762, 'max': 5591, 'intent': 4770, 'stretch': 8460, 'ivankatrump': 4865, 'million': 5728, 'livelihood': 5310, 'stir': 8408, 'sweep': 8618, 'pointer': 6790, 'nightmar': 6089, 'ammunit': 693, 'soar': 8098, 'toiletpaperpan': 8935, 'indian': 4665, 'sf': 7846, 'bay': 1087, 'portal': 6828, 'bbcbreakfast': 1097, 'accept': 461, 'hon': 4439, 'bag': 1012, 'drama': 3012, 'epicent': 3283, 'seattl': 7757, 'shelter': 7880, 'headach': 4291, 'thousand': 8845, 'fellow': 3570, 'okay': 6267, 'primark': 6943, 'guardian': 4170, 'dinner': 2820, 'friendli': 3850, 'picki': 6692, 'eater': 3122, 'approv': 807, 'schoolclosur': 7717, 'saver': 7678, 'weekli': 9596, 'quit': 7146, 'surreal': 8587, 'incas': 4633, 'dollar': 2951, 'biz': 1235, 'smallbiz': 8058, 'prudent': 7038, 'nois': 6109, 'howard': 4484, 'chicken': 1773, 'transit': 9025, 'prep': 6904, 'devic': 2767, 'kuwait': 5105, 'site': 8006, 'finger': 3620, 'law': 5173, 'tempt': 8745, 'boredom': 1313, 'bum': 1461, 'nope': 6125, 'fmi': 3701, 'highlight': 4377, 'foodborn': 3720, 'nike': 6091, 'urban': 9310, 'outfitt': 6364, '30': 207, 'organis': 6338, 'recognit': 7266, 'part': 6515, 'richmond': 7468, 'staythefuckhom': 8367, 'cult': 2491, 'film': 3603, 'â8': 9917, 'f': 3457, 'titl': 8902, 'wreak': 9784, 'havoc': 4281, 'wholefood': 9668, 'prime': 6944, 'amazonfresh': 672, 'anoth': 751, 'blood': 1260, 'bath': 1080, 'medicaid': 5630, 'fascin': 3518, 'piec': 6700, 'honest': 4440, 'tv': 9126, 'boom': 1301, 'ten': 8747, 'subsequ': 8498, 'repeat': 7364, 'glad': 3998, 'precautionari': 6885, 'sydney': 8633, 'governor': 4071, 'cuomo': 2495, 'husband': 4530, 'unless': 9248, 'nonstop': 6121, 'dispatch': 2875, 'portug': 6833, 'francisco': 3817, 'curfew': 2504, 'resid': 7391, 'doctorâ': 2937, 'oh': 6252, 'estim': 3324, 'min': 5732, 'wtf': 9799, 'influenc': 4694, 'rippl': 7485, 'dairi': 2553, 'batter': 1084, 'sheâ': 7887, 'garden': 3919, 'carrot': 1619, 'unfair': 9221, 'display': 2879, 'drharshvardhan': 3026, 'mohfw_india': 5794, 'coronaindia': 2176, 'wic': 9678, 'symbol': 8635, 'besid': 1178, 'switch': 8629, 'makemytrip': 5480, 'book': 1298, 'cheat': 1747, 'circular': 1836, 'fmi_org': 3702, 'foodindustri': 3724, 'ran': 7185, 'lime': 5281, 'vote': 9477, 'biden': 1198, 'berni': 1175, 'illeg': 4586, 'ultim': 9170, 'bo': 1272, 'jo': 4938, 'gave': 3930, 'confer': 2041, 'minut': 5752, 'appear': 795, 'covid_19â': 2381, 'surround': 8589, 'org': 6336, 'reassur': 7246, 'resili': 7394, 'bout': 1334, 'cap': 1580, 'barrel': 1058, 'amidst': 690, 'saudi': 7668, 'arabia': 819, 'monica': 5814, 'lightli': 5275, 'bagel': 1013, 'trader': 9007, 'joe': 4942, 'abc': 428, 'tomato': 8950, 'cleaner': 1870, 'cereal': 1693, 'diet': 2799, 'coke': 1940, 'esp': 3308, 'leg': 5209, 'print': 6951, 'prop': 7002, 'map': 5528, 'anxiou': 769, 'disord': 2873, 'miss': 5762, 'boyfriend': 1346, 'covid19â': 2368, 'agil': 568, 'bestbuy': 1182, 'asymptomat': 896, 'thai': 8779, 'thailand': 8780, 'u': 9147, 'express': 3438, 'loss': 5389, 'temporari': 8743, 'repost': 7372, 'quarantineandchil': 7112, 'mile': 5720, 'quieter': 7141, 'eeri': 3169, 'suspens': 8602, 'dessert': 2746, 'desert': 2734, 'stapl': 8315, 'ourselv': 6353, 'alonetogeth': 649, 'shutoff': 7956, 'sp500': 8190, 'discretionari': 2854, 'firmli': 3635, 'chart': 1738, 'luxuri': 5431, 'foodinstitut': 3726, 'ie': 4575, 'expir': 3426, 'gop': 4057, 'opposit': 6321, 'homedepot': 4427, 'complain': 2008, 'isnt': 4839, 'weather': 9574, 'storm': 8440, 'solut': 8141, 'specialti': 8213, 'shoploc': 7911, 'appeal': 794, 'defend': 2654, 'cautious': 1658, 'adjust': 509, 'abroad': 441, 'nearest': 5993, 'claim': 1849, 'ni': 6073, 'unsung': 9279, 'hero': 4362, 'michigan': 5692, 'sentiment': 7819, 'index': 4658, 'declin': 2639, 'acceler': 460, 'regina': 7310, 'anticip': 760, 'cbc': 1660, 'uh': 9159, 'hurt': 4529, 'wheelchair': 9649, 'arriv': 846, 'polit': 6803, 'helper': 4345, 'verbal': 9396, 'assault': 877, 'outag': 6355, 'pace': 6439, 'mad': 5450, 'andor': 721, 'exploit': 3430, 'berlin': 1174, 'bbcnew': 1099, 'joeâ': 4944, 'salad': 7613, 'fave': 3531, 'traderjo': 9008, 'lowincom': 5406, 'typic': 9145, 'princ': 6947, 'georg': 3960, 'tank': 8673, 'fix': 3650, 'slowli': 8052, 'cent': 1685, 'fell': 3568, 'midwest': 5706, 'decreas': 2642, '98': 402, 'transact': 9022, 'park': 6510, 'safeway': 7603, 'oakland': 6198, 'apocalypse2020': 785, 'tea': 8700, 'honey': 4442, 'herbal': 4355, 'settl': 7836, 'aldiusa': 617, 'aldi': 614, 'exhaust': 3404, 'coronavirussouthafrica': 2245, 'commit': 1984, 'schedul': 7710, '247': 174, 'pump': 7064, 'solv': 8142, 'draw': 3016, 'advis': 529, 'specif': 8214, 'bug': 1447, 'fuckin': 3870, 'unlik': 9249, 'therel': 8810, 'ftc': 3866, 'fda': 3547, 'smith': 8071, 'weigh': 9604, 'surpass': 8583, '3000': 209, 'mintel': 5750, 'expert': 3424, 'consumerbehavior': 2086, 'entiti': 3270, 'calcul': 1525, 'overhyp': 6403, 'bomb': 1292, 'invis': 4801, 'behalf': 1140, 'peer': 6589, 'labor': 5114, 'breath': 1375, 'refil': 7292, 'supplychain': 8566, 'supermarketsweep': 8552, 'seller': 7794, 'heighten': 4335, 'distribut': 2902, 'describ': 2731, 'brought': 1418, 'doubt': 2988, 'eastern': 3113, 'carolina': 1612, 'mission': 5763, 'forev': 3764, 'pension': 6603, 'holder': 4414, 'midst': 5704, 'seat': 7756, 'wv': 9809, 'ag': 558, '316': 224, 'regret': 7314, 'junk': 4978, 'comfort': 1971, 'trinidad': 9057, 'tobago': 8910, 'minist': 5744, 'cautiou': 1657, 'dude': 3062, 'montreal': 5822, 'nutrient': 6180, 'protein': 7020, 'heal': 4296, 'waitros': 9499, 'simpli': 7987, 'bold': 1287, 'proof': 7001, 'suburb': 8507, 'solidar': 8138, 'exacerb': 3383, 'applaud': 798, 'healthwork': 4307, 'balconi': 1025, 'piano': 6688, 'technician': 8712, 'compil': 2007, 'advisori': 531, 'explain': 3427, 'document': 2938, 'smaller': 8060, 'overli': 6404, 'filipino': 3601, 'pretend': 6923, 'marketplac': 5553, 'januari': 4894, 'yougov': 9862, 'voter': 9479, 'democraci': 2694, 'explor': 3431, 'onc': 6283, 'physicaldistanc': 6685, 'companyâ': 1997, 'flagship': 3657, '329': 228, '5th': 313, 'histori': 4395, '24': 173, 'draft': 3007, 'amend': 682, 'replac': 7366, 'exempt': 3402, 'imo': 4606, 'bottom': 1325, 'contrari': 2120, 'popular': 6820, 'gold': 4039, 'investor': 4800, 'worldwid': 9764, '__': 414, 'pork': 6824, 'dice': 2788, 'breast': 1374, 'affili': 541, '119': 43, 'estat': 3321, 'realest': 7229, 'homebuy': 4424, 'ingeni': 4708, 'placement': 6732, 'handwash': 4240, 'condom': 2039, 'diy': 2919, 'born': 1317, 'endur': 3248, 'trauma': 9035, 'groceryshop': 4145, 'grocerystor': 4146, 'grocer': 4140, 'thankyou': 8785, 'extend': 3440, 'arvindkejriw': 858, 'sir': 8003, 'uber': 9150, 'crater': 2420, 'voucher': 9480, '6000': 318, 'bore': 1312, 'sofa': 8123, 'reaction': 7222, 'meant': 5617, 'foodbank': 3719, 'establish': 3320, 'spain': 8197, 'gotta': 4060, 'nj': 6100, 'farmer': 3512, 'trucker': 9070, 'theâ': 8826, 'coupon': 2312, 'vibe': 9412, 'slim': 8044, 'creativ': 2428, 'cook': 2136, 'episod': 3288, 'risen': 7487, 'lord': 5383, 'telstra': 8738, 'broadband': 1407, 'unlimit': 9250, 'joke': 4954, 'bigger': 1202, 'moment': 5799, 'rather': 7206, 'tradit': 9011, 'engin': 3254, 'bacteri': 1005, 'weed': 9592, 'diaper': 2784, 'marri': 5558, 'doomsdayprepp': 2975, 'curb': 2500, 'xbox': 9820, 'playstat': 6752, 'whove': 9673, 'constantli': 2076, 'whilst': 9661, 'drone': 3036, 'monkey': 5816, 'reason': 7244, 'california': 1528, 'reschedul': 7384, 'coronavirususa': 2253, 'pointless': 6791, 'dead': 2606, 'baffl': 1011, 'label': 5113, 'chose': 1807, 'badli': 1010, 'honestli': 4441, 'danish': 2571, 'realiti': 7233, 'fing': 3619, 'meltdown': 5643, 'covid19they': 2361, 'none': 6113, 'kitchen': 5064, 'bori': 1314, 'bangkok': 1039, 'everybodi': 3367, 'paranoia': 6504, 'eg': 3176, 'ur': 9308, 'nappi': 5956, 'tbh': 8696, 'fb': 3536, 'psa': 7040, 'choic': 1802, 'bit': 1230, 'reliev': 7337, 'direct': 2826, 'nerv': 6019, 'trump2020': 9076, 'maga': 5459, 'kag': 4991, 'wuflu': 9804, 'underwear': 9213, 'maryland': 5565, 'emptyshelv': 3236, 'wwg1wga': 9814, 'q': 7089, 'offlin': 6244, 'barrier': 1061, 'ainât': 590, '30000': 210, 'alcohol': 612, 'confus': 2052, 'soooo': 8163, 'univers': 9240, '13th': 63, 'son': 8155, 'niec': 6080, 'hut': 4532, 'thru': 8864, 'caregiv': 1600, 'repair': 7362, 'mere': 5662, 'damn': 2559, 'relax': 7329, 'overnight': 6407, 'sport': 8251, 'boggl': 1282, 'gf': 3970, 'er': 3293, 'stayhomechalleng': 8351, 'firearm': 3628, 'lab': 5112, 'crippl': 2444, 'similar': 7983, 'fucker': 3869, 'aren': 825, 'seeker': 7770, 'al': 602, 'exclud': 3397, 'carrefour': 1616, 'rosi': 7530, 'bake': 1019, 'dr': 3005, 'inspect': 4740, 'penalti': 6596, 'manipul': 5515, 'catastroph': 1644, 'insecur': 4734, 'riot': 7482, 'sa': 7582, 'coin': 1938, 'steep': 8375, 'discount': 2849, 'cream': 2425, 'channel': 1723, 'tast': 8685, 'program': 6987, 'wineri': 9704, 'virolog': 9443, 'rt': 7550, 'chri': 1809, '67': 331, 'caught': 1652, 'chip': 1798, 'fortun': 3788, 'wouldn': 9777, 'eu': 3340, 'shout': 7940, 'craze': 2422, 'salut': 7622, 'shoutout': 7941, 'cole': 1943, 'aldiaustralia': 615, 'lawmak': 5174, 'conduct': 2040, 'ri': 7463, 'w': 9492, 'caller': 1536, 'nicol': 6078, 'toddler': 8915, 'emot': 3224, 'jeremi': 4915, 'difficulti': 2805, 'fli': 3674, 'survivalist': 8593, 'bent': 1170, '31': 221, 'john': 4947, 'delawar': 2670, 'influx': 4696, 'unemploy': 9218, 'egypt': 3179, 'truck': 9068, 'duti': 3079, 'couldnt': 2290, 'microsoft': 5694, 'impress': 4622, 'shot': 7933, 'tin': 8894, 'bin': 1214, '250': 179, '11': 34, 'penn': 6600, 'widespread': 9683, 'doubl': 2986, 'statist': 8334, '1st': 118, 'mini': 5739, 'tabl': 8647, 'don': 2959, 'disast': 2839, 'moscow': 5846, '2018': 140, 'forecast': 3758, '2023': 151, 'predominantli': 6894, 'asian': 866, 'machin': 5444, 'network': 6028, 'covid19usa': 2366, 'chineseviru': 1795, 'johnson': 4949, 'sunak': 8533, 'voluntari': 9474, 'inch': 4636, 'avers': 964, 'autism': 950, 'mislead': 5761, 'hamper': 4221, 'gear': 3940, 'sent': 7817, 'compens': 2003, 'every1': 3366, 'pic': 6689, 'surfac': 8577, 'ppl': 6868, '000': 3, 'horribl': 4457, 'jcpenney': 4903, 'bash': 1069, 'write': 9789, 'essay': 3312, 'intern': 4777, 'equiti': 3291, 'climat': 1885, 'govt': 4083, 'underestim': 9199, 'aw': 971, 'smile': 8070, 'mart': 5560, 'forc': 3755, 'boss': 1320, 'bu': 1435, 'poli': 6797, 'bpo': 1349, 'handsanit': 4235, 'saudiarabia': 7670, 'coronauk': 2191, 'saint': 7611, 'tighten': 8882, 'liter': 5303, 'primarili': 6942, 'shadow': 7851, 'cologn': 1951, 'germani': 3965, 'prayer': 6880, 'victim': 9415, 'overtim': 6419, 'nonsens': 6120, 'visibl': 9453, 'orient': 6339, 'adapt': 500, 'grate': 4111, 'chronic': 1818, 'butcher': 1492, 'baker': 1020, 'wild': 9688, 'version': 9402, 'trumpplagu': 9084, 'clarifi': 1858, 'soul': 8171, 'stuf': 8483, 'arrest': 845, 'flee': 3669, 'road': 7499, 'optimist': 6326, 'platform': 6744, 'lazada': 5182, 'shope': 7908, 'dan': 2562, 'mummi': 5899, 'famou': 3498, 'german': 3964, 'sausag': 7673, 'rant': 7197, 'proud': 7025, 'el': 3185, 'cuss': 2516, 'smoothli': 8078, 'secret': 7762, 'tweet': 9131, 'block': 1255, 'thrown': 8863, 'committe': 1985, 'co': 1917, 'artifici': 854, 'strongli': 8474, 'logist': 5362, 'truckdriv': 9069, 'bunch': 1465, 'hamsterkauf': 4225, 'harm': 4259, 'workplac': 9759, 'bakeri': 1021, 'californiacoronaviru': 1529, 'beverag': 1187, '2nd': 201, '3rd': 250, 'kampung': 5000, '4th': 283, 'turkey': 9117, 'queu': 7133, 'maintain': 5473, 'counter': 2301, 'suprem': 8575, 'commerci': 1980, 'cater': 1648, 'optic': 6324, 'reserv': 7388, 'ontarian': 6305, 'wouldnât': 9779, 'breakfast': 1372, 'volunt': 9473, 'lunchtim': 5424, 'coronacrisi': 2172, 'loop': 5378, 'grid': 4133, 'isn': 4838, 'politician': 6804, 'elect': 3193, 'obvious': 6219, 'educ': 3165, 'knowledg': 5080, 'choos': 1804, 'canadian': 1555, 'retweet': 7443, 'washyourhand': 9545, 'supportsmallbusi': 8571, 'justin': 4983, 'trudeau': 9071, 'carbon': 1595, 'slap': 8033, 'rethink': 7438, 'piyushgoy': 6726, 'covidindia': 2389, 'jeffbezo': 4907, 'fam': 3493, 'camp': 1547, 'rock': 7511, 'nut': 6179, 'mf': 5685, 'tryna': 9096, 'cultur': 2492, 'race': 7153, 'awesom': 977, 'dutch': 3078, 'nah': 5940, 'marketcrash': 5549, 'purs': 7078, 'dispos': 2880, 'statewid': 8331, 'charl': 1734, 'cunt': 2494, '01': 4, 'simpl': 7985, 'mode': 5783, '40': 255, 'hord': 4453, '94': 397, 'yr': 9879, 'chill': 1784, 'learnt': 5197, 'magic': 5463, 'spell': 8222, 'sore': 8167, 'throat': 8856, 'ball': 1026, 'mess': 5667, 'russian': 7572, 'imp': 4607, 'santiz': 7650, 'coronavirusinindia': 2215, '35': 232, 'donaldjtrumpjr': 2961, 'categori': 1647, '133': 60, 'tldr': 8905, 'alright': 658, 'swiss': 8628, 'statu': 8335, 'mostli': 5850, 'virtual': 9446, 'feet': 3566, 'brawl': 1364, 'vinegar': 9433, 'metro': 5679, 'hackney': 4196, 'fragil': 3810, 'laid': 5130, 'rampant': 7183, 'vehicl': 9384, 'matter': 5585, 'bullshit': 1460, 'wuhan': 9805, 'kr': 5090, 'scari': 7703, 'civil': 1845, 'unrest': 9268, 'arm': 839, 'ryanair': 7579, 'origin': 6340, 'rig': 7476, 'skynew': 8026, 'thursday': 8870, 'flyer': 3697, 'lineup': 5288, 'union': 9233, 'abus': 452, 'earliest': 3097, 'improv': 4623, '7am': 362, 'sky': 8024, 'central': 1688, 'covi': 2325, 'litr': 5306, 'van': 9361, 'lowest': 5404, 'flow': 3690, 'doug': 2990, 'layer': 5180, 'rumor': 7563, 'potu': 6856, 'costli': 2278, 'speak': 8206, 'convers': 2129, 'sock': 8121, 'pant': 6489, 'particular': 6520, '9pm': 410, 'menard': 5653, 'accus': 476, 'volum': 9472, 'enquiri': 3261, 'advertis': 527, 'surprisingli': 8586, 'ralph': 7177, 'teacher': 8702, 'contribut': 2122, 'bewar': 1189, 'ineffect': 4680, 'chariti': 1733, 'netherland': 6027, 'amsterdam': 701, 'ironi': 4827, 'six': 8009, 'onto': 6307, 'straight': 8442, 'lesson': 5233, 'turner': 9121, 'repres': 7373, 'joint': 4952, 'secretari': 7763, 'icmr': 4561, 'council': 2293, 'laboratori': 5115, 'diagnosi': 2780, 'âiâm': 9954, 'weâll': 9635, 'moreâ': 5832, 'empath': 3225, 'tap': 8678, 'ty': 9143, 'clock': 1893, 'retailgazett': 7424, 'expand': 3412, '3500': 234, 'corvid19uk': 2272, 'businessnew': 1488, 'bia': 1193, 'didn': 2793, 'useless': 9326, 'tumbl': 9111, 'coronavirustoronto': 2249, 'brave': 1362, 'offici': 6242, 'depreci': 2720, 'upcom': 9291, 'rwanda': 7574, 'rwandan': 7575, 'consider': 2070, 'vanish': 9363, 'ei': 3181, 'advisor': 530, 'abrupt': 442, 'aspect': 874, 'inject': 4721, 'rent': 7357, 'barren': 1059, 'british': 1402, 'intend': 4767, 'defeat': 2651, 'skift': 8016, 'postcoronaviru': 6841, 'pledg': 6762, 'beer': 1134, 'supportloc': 8569, 'lone': 5367, 'anonym': 750, 'among': 694, 'checklist': 1751, 'modifi': 5791, 'groceryd': 4142, 'twice': 9133, 'dozen': 3004, 'shutdownaustralia': 7953, 'rwandatrad': 7576, 'leadership': 5191, 'cyrilramaphosa': 2539, 'miner': 5737, 'perish': 6622, 'se': 7747, 'port': 6826, 'ã': 9999, 'en': 3238, 'du': 3056, 'afp': 547, 'deplor': 2715, 'rough': 7534, 'pipe': 6717, 'humbl': 4515, 'stocker': 8412, 'count': 2299, 'fanci': 3501, 'graduat': 4095, 'degre': 2668, 'everyoneâ': 3370, 'africa': 549, 'fourth': 3802, 'exampl': 3389, 'owe': 6426, 'incred': 4650, 'sacrific': 7589, 'telemedicin': 8731, 'workfromhom': 9755, 'oversea': 6413, 'stole': 8421, 'insid': 4736, 'absurd': 447, 'expans': 3413, 'kudo': 5101, 'sephora': 7822, 'theyâll': 8823, 'schnuck': 7715, 'barcelona': 1051, 'reuter': 7446, 'albert': 607, '43': 268, 'vega': 9379, 'negoti': 6010, 'averag': 963, 'sprint': 8264, 'deter': 2755, 'virus': 9448, 'british_airway': 1403, 'ba': 988, 'wrong': 9794, 'evil': 3378, 'gamestop': 3913, 'five': 3648, 'scarborough': 7697, 'coronavirusinduc': 2214, 'zoom': 9900, 'von': 9476, 'ralphsgroceri': 7178, 'albertson': 610, 'overheard': 6402, 'âi': 9949, 'ex': 3382, 'girl': 3990, 'quicktak': 7138, 'jump': 4975, 'perform': 6616, 'urgent': 9313, '500': 287, 'moral': 5828, 'hse': 4492, 'booz': 1308, 'heartfelt': 4317, 'profession': 6980, 'custodi': 2518, 'enforc': 3252, 'scientist': 7722, 'fatal': 3525, 'lysol': 5439, 'sneez': 8090, 'pocket': 6783, 'bathroom': 1082, 'warehous': 9527, 'deriv': 2729, 'motion': 5855, 'migrat': 5711, 'pet': 6642, 'liquor': 5298, 'nintendo': 6095, 'magazin': 5461, 'project': 6991, 'aldiuk': 616, 'super': 8544, 'chattanooga': 1742, 'leo': 5228, 'promis': 6994, 'propaganda': 7003, 'whatsapp': 9644, 'pakistan': 6458, 'blackmarket': 1241, 'poverti': 6860, 'appoint': 803, 'lifesav': 5266, 'colombia': 1952, 'former': 3777, 'tripl': 9059, 'outflow': 6365, 'fiscal': 3641, 'stimulu': 8399, 'unavoid': 9182, 'latin': 5159, 'theyâd': 8822, 'ain': 588, 'nh': 6063, 'insan': 4733, 'resel': 7387, 'fordnat': 3757, 'covid19ontario': 2350, 'iowa': 4810, 'cybercrimin': 2533, 'pitch': 6721, 'desk': 2740, 'chile': 1783, 'tradeshow': 9009, 'butter': 1494, 'mike': 5713, 'âpanic': 9971, 'buyingâ': 1501, 'desper': 2743, '8am': 384, 'regardless': 7308, 'merit': 5664, 'hawaii': 4282, 'execut': 3401, 'director': 2828, 'stephen': 8381, 'fluid': 3694, 'onpoli': 6301, 'icu': 4563, 'met': 5670, 'odd': 6231, 'noon': 6124, 'carnag': 1609, 'ar': 817, 'mp': 5867, 'mentalhealth': 5655, 'mark': 5545, 'logo': 5363, 'substitut': 8506, 'blast': 1245, 'aliv': 630, 'canadalockdown': 1554, 'certainli': 1695, 'stanc': 8308, 'packet': 6445, 'bound': 1330, 'selflessli': 7790, '44': 269, '3month': 247, 'cope': 2150, 'shameless': 7859, 've': 9376, 'nutriti': 6182, 'peep': 6588, 'gift': 3982, 'selfcar': 7780, 'brad': 1352, 'neighbor': 6011, 'destin': 2747, 'pig': 6704, 'pea': 6574, 'saniti': 7645, 'makeup': 5483, 'stack': 8290, 'ah': 579, 'conscienc': 2063, 'tend': 8749, 'murder': 5903, 'sun': 8532, 'newspap': 6047, 'throttl': 8858, 'infinit': 4689, 'grower': 4156, 'emiss': 3221, 'warm': 9530, 'brooklyn': 1415, '10pm': 31, 'earlier': 3096, 'fish': 3642, 'minu': 5751, 'banana': 1030, 'âonli': 9969, 'demandâ': 2690, 'bro': 1405, '100k': 22, 'sindh': 7994, 'spokesman': 8246, 'murtazawahab1': 5905, 'facil': 3468, 'visual': 9458, 'neglig': 6009, 'coronab': 2169, 'pressconfer': 6919, 'debit': 2623, 'fraudul': 3825, 'ted': 8715, 'nielsen': 6081, 'constitu': 2077, 'appal': 790, 'chef': 1759, 'weird': 9606, 'mob': 5778, 'alli': 638, 'lift': 5271, 'fargo': 3509, '18002199739': 97, 'specialist': 8212, 'lend': 5223, 'tirelessli': 8899, 'prohibit': 6990, 'tragedi': 9013, 'furnitur': 3894, 'actsofkind': 493, 'tuesdaythought': 9109, 'dontbeaspread': 2968, 'disrupt': 2887, 'steril': 8382, 'ktvu': 5100, 'kinda': 5056, 'patriot': 6548, 'certain': 1694, 'instabl': 4743, 'pancak': 6470, 'syrup': 8642, 'peanut': 6578, '6pm': 338, 'bulletin': 1457, 'hug': 4503, 'intellig': 4766, 'sketch': 8013, 'youâll': 9875, 'throw': 8860, 'mate': 5581, 'preval': 6926, 'dod': 2940, 'prescript': 6911, 'comprehens': 2020, 'roof': 7525, 'weapon': 9563, 'therapi': 8805, 'barri': 1060, 'brace': 1351, 'bloodi': 1261, 'imperi': 4612, 'leather': 5200, 'smell': 8068, 'basebal': 1066, 'wherea': 9654, 'nepal': 6017, 'merchant': 5660, 'elonmusk': 3206, 'strict': 8462, 'harvest': 4266, 'monetari': 5810, 'green': 4123, 'downtown': 3000, 'certif': 1696, 'virusâ': 9451, 'enemi': 3249, 'temperatur': 8740, 'occur': 6227, 'whatâ': 9646, 'legend': 5212, 'carer': 1602, 'surgeri': 8580, 'receptionist': 7257, 'jam': 4881, 'unavail': 9181, 'amazonuk': 676, 'inventori': 4797, 'vid': 9418, 'laugh': 5162, 'residenti': 7392, 'loneli': 5368, 'fever': 3579, 'four': 3801, 'yvr': 9883, 'vancouv': 9362, 'grave': 4113, 'teach': 8701, 'transfer': 9023, 'tray': 9037, 'âthereâ': 9985, 'timeâ': 8893, 'nutrit': 6181, 'quarter': 7123, 'round': 7537, 'ward': 9524, 'suit': 8525, 'precis': 6889, 'bigthreeconsult': 1205, 'focus': 3708, 'coordin': 2146, 'agenda': 563, 'cpg': 2403, 'consequ': 2067, 'congest': 2054, 'heart': 4314, 'failur': 3478, 'diabet': 2778, 'timelin': 8890, 'conveni': 2126, 'merchandis': 5659, 'content': 2110, 'threshold': 8851, 'seo': 7820, 'sem': 7797, 'smo': 8074, 'smm': 8073, 'websitedesign': 9584, 'websitedevelop': 9585, 'mobileappdevelop': 5780, 'singapor': 7996, 'fed': 3557, 'superior': 8547, 'district': 2904, 'violat': 9437, '780': 360, 'savag': 7674, 'chinaviru': 1791, 'losangel': 5385, '25': 178, 'yourselv': 9868, 'omaha': 6277, 'rush': 7570, 'heck': 4327, 'railway': 7169, 'argu': 832, 'unusu': 9286, 'moratorium': 5829, 'alltim': 644, 'es': 3304, 'un': 9176, 'persona': 6630, 'yomequedoencasa': 9857, 'premis': 6901, 'gain': 3903, 'presenc': 6912, 'globe': 4014, 'worldâ': 9765, 'saâ': 7684, 'chop': 1805, 'brilliant': 1396, 'liquid': 5297, 'record': 7270, 'india': 4660, '211': 160, 'dial': 2782, 'referr': 7291, 'dunn': 3071, 'obviou': 6218, 'scratch': 7736, 'advoc': 533, 'advanc': 521, 'councillor': 2294, 'plantbas': 6741, 'ouch': 6350, 'haha': 4200, 'iâd': 4867, 'laptop': 5146, 'wind': 9698, 'significantli': 7974, 'combin': 1964, 'renewableenergi': 7356, 'momlif': 5801, 'gender': 3946, 'neutral': 6029, 'isp': 4845, 'aka': 601, 'wealthi': 9562, 'excus': 3399, 'obstacl': 6215, 'spin': 8234, '75': 352, 'kelli': 5021, 'podcast': 6786, 'scrambl': 7734, 'apocalypt': 786, 'zero': 9891, 'hedg': 4329, 'zone': 9898, 'wakeup': 9503, 'ebola': 3127, 'pathogen': 6544, 'c': 1507, 'minim': 5740, 'quarentin': 7121, 'âthe': 9983, 'racial': 7155, 'blame': 1242, 'pandemicâ': 6476, 'saidâ': 7606, 'northern': 6136, 'northmart': 6138, 'atrisk': 908, 'pin': 6711, 'pad': 6449, 'elev': 3198, 'button': 1495, 'weight': 9605, 'fcac': 3541, 'compos': 2017, 'volatil': 9471, 'cfd': 1701, 'gm': 4023, 'sm': 8055, 'standalon': 8310, '7pm': 367, 'robinson': 7507, '9am': 406, 'foster': 3795, '2000': 124, 'edt': 3164, 'undermin': 9202, 'chamber': 1715, 'sc': 7687, 'globeandmail': 4015, 'justintim': 4984, 'menu': 5657, 'ring': 7479, 'thrive': 8855, 'vegan': 9380, 'bolton': 1291, 'uganda': 9155, 'âdo': 9935, 'panicâ': 6488, 'cdnpoli': 1673, 'covidcanada': 2387, 'favorit': 3533, 'toler': 8945, 'covid19southafrica': 2360, 'notif': 6150, 'christ': 1813, 'abandon': 425, 'immunosuppress': 4605, 'depot': 2719, 'pull': 7059, 'red': 7276, 'window': 9700, 'cruis': 2466, '630': 325, 'newli': 6038, 'isl': 4835, 'scarc': 7698, 'ami': 688, 'edward': 3167, 'glanc': 4000, 'âif': 9950, 'sensit': 7816, 'fintech': 3626, 'contactless': 2103, 'ach': 477, 'coop': 2143, 'celebr': 1680, 'bradpaisley': 1353, 'kimwilliamspai': 5054, 'nashvil': 5963, 'tornado': 8971, 'wise': 9716, 'constant': 2075, 'snack': 8081, 'âitâ': 9953, 'catherin': 1649, 'steal': 8372, 'dropoff': 3039, 'row': 7542, 'anti': 756, 'maximum': 5593, 'euro': 3346, 'âwhatâ': 9994, 'spice': 8230, 'lamp': 5137, '2x': 205, 'brush': 1426, '2021': 149, 'segment': 7774, 'b2b': 985, 'daysâ': 2600, 'pray': 6879, 'stpatricksday': 8441, 'stayathomechalleng': 8340, 'firstrespond': 3639, 'winner': 9706, 'radiu': 7163, 'sidewalk': 7966, 'bat': 1077, 'cool': 2140, 'piersmorgan': 6703, 'youd': 9861, 'pub': 7048, 'sacrif': 7588, 'tremend': 9043, 'asid': 868, 'dollargener': 2952, 'arthriti': 852, 'sponsor': 8248, 'slower': 8051, 'basi': 1070, 'overal': 6391, '70â': 346, 'vital': 9459, 'guarante': 4168, 'honor': 4445, 'player': 6749, 'geniu': 3952, 'countrymen': 2308, 'pacman': 6446, 'bump': 1462, 'coronavirusaustralia': 2203, 'tonic': 8958, 'unthink': 9283, 'lawsuit': 5176, 'dress': 3023, 'hazmat': 4287, 'protip': 7022, 'laundri': 5166, 'realjameswood': 7235, 'ebook': 3128, '99': 403, 'fantasi': 3502, 'patent': 6541, 'behav': 1141, 'frustrat': 3862, 'coronavirusau': 2202, 'band': 1031, 'jaketapp': 4880, 'cross': 2457, 'clorox': 1895, 'grandpa': 4103, 'ramen': 7180, 'leviti': 5242, 'comedi': 1968, 'copper': 2153, 'publichealth': 7050, 'firm': 3634, 'valu': 9358, 'vs': 9486, 'orderli': 6331, 'reevalu': 7288, 'skip': 8023, 'misfit': 5758, 'stayinghom': 8358, 'session': 7833, 'facetim': 3465, 'communityspirit': 1991, 'mid': 5696, 'practis': 6874, 'whenev': 9651, 'southafrica': 8178, 'besaf': 1177, 'keepcalm': 5016, 'attend': 913, 'newscomauhq': 6043, 'overwhelm': 6424, 'merkl': 5666, 'consist': 2071, 'recruit': 7274, 'mix': 5770, 'match': 5580, 'dough': 2991, 'cooki': 2138, 'yeg': 9840, 'tesla': 8768, 'apart': 781, 'painkil': 6453, 'construct': 2081, 'smh': 8069, 'theag': 8789, 'rental': 7358, 'evict': 3375, 'flyfronti': 3698, 'breweri': 1384, 'navig': 5976, 'unfold': 9223, 'provinci': 7032, 'epic': 3282, 'shelterinplac': 7882, 'stephani': 8380, 'craig': 2412, 'bike': 1206, 'backpack': 999, 'airport': 598, 'baba': 989, 'jd': 4904, 'clearli': 1877, 'over70': 6389, 'bbc': 1093, 'inspir': 4742, 'momentum': 5800, 'identifi': 4570, 'overreact': 6410, 'error': 3302, 'lad': 5121, 'tran': 9020, 'male': 5492, 'oap': 6199, 'theme': 8800, 'birthday': 1227, 'scan': 7693, 'receipt': 7254, 'lt3': 5412, 'c19': 1508, 'pharmaceut': 6658, 'outrag': 6380, 'ts': 9097, 'tshirt': 9098, 'accident': 465, 'delici': 2678, 'whereâ': 9656, 'coronamem': 2182, 'relianc': 7334, 'introvert': 4791, 'genuin': 3956, 'replenish': 7367, 'present': 6913, 'welp': 9616, 'luck': 5414, 'mill': 5725, 'sadden': 7591, 'gaspric': 3926, 'cup': 2496, 'noodl': 6122, 'investig': 4799, 'tie': 8878, 'directli': 2827, 'coronavirustexa': 2247, 'laughter': 5163, 'shutter': 7957, 'thin': 8831, 'classi': 1863, 'sort': 8169, 'malaysian': 5490, 'covid19malaysia': 2345, 'grace': 4091, 'covid19ab': 2329, 'gap': 3916, 'highstreet': 4381, 'cx': 2530, 'customerexperi': 2520, 'suffici': 8519, 'turbul': 9116, 'lick': 5258, 'ridden': 7471, 'etern': 3328, 'bailout': 1018, 'rat': 7204, '0': 1, '350': 233, '911': 394, 'sight': 7969, 'golden': 4040, 'veggi': 9383, 'coronavirusrel': 2242, 'officeâ': 6241, 'snatch': 8087, 'monster': 5818, 'reduct': 7284, 'kenyan': 5027, '150': 71, 'covid19k': 2343, 'ca': 1510, 'terri': 8758, 'schmitt': 7713, 'deepli': 2649, 'afghanistan': 545, 'kabul': 4989, 'sim': 7982, 'awhil': 978, 'foodservic': 3733, 'divers': 2910, 'multi': 5891, 'talent': 8665, 'premier': 6899, 'ford': 3756, 'hustl': 4531, 'grass': 4110, 'durat': 3074, 'plagu': 6733, 'denver': 2710, 'coloradan': 1955, 'hidden': 4369, 'downâ': 3003, 'bulkbuy': 1454, 'drag': 3008, 'toiletpaperemerg': 8932, 'spars': 8204, 'furri': 3895, 'administr': 512, 'countless': 2305, 'salari': 7614, 'cheer': 1756, 'trainer': 9017, 'instruct': 4755, 'infecti': 4688, 'sainsburysnew': 7609, 'prioritis': 6956, 'detroitnew': 2761, 'liar': 5249, 'compar': 1998, 'influenza': 4695, 'castl': 1637, 'garbag': 3918, 'picker': 6691, 'wegotthi': 9603, 'perfectli': 6615, '1020': 25, 'burn': 1475, 'bridg': 1390, 'bite': 1233, 'nyclockdown': 6187, 'accc': 458, 'loos': 5380, 'squeez': 8273, 'rins': 7480, 'puls': 7061, 'lentil': 5227, '630am': 326, 'hmmm': 4401, 'hcw': 4288, 'pallet': 6462, 'ludicr': 5418, 'wet': 9630, 'excel': 3391, '774': 358, 'balanc': 1024, 'covid19india': 2338, 'tactic': 8652, 'hmm': 4400, 'agreement': 572, 'aggreg': 566, 'twitter': 9137, 'familyâ': 3496, 'covid19ghana': 2336, '2am': 196, 'adher': 508, 'keto': 5032, 'steak': 8371, 'grill': 4135, 'fairli': 3482, 'slogan': 8046, 'accordingli': 470, 'foam': 3706, 'otc': 6346, 'interim': 4775, 'tone': 8955, 'unexpect': 9220, 'condiment': 2036, 'obscen': 6211, 'scoopit': 7725, 'funni': 3887, 'iron': 4826, 'fashion': 3519, 'ima': 4591, 'instil': 4751, 'knew': 5072, 'plea': 6755, 'nowâ': 6162, 'chewi': 1769, 'wide': 9680, 'dinein': 2817, 'fsrmag': 3864, 'toiletpaperapocalyps': 8929, 'peter': 6645, 'andr': 722, 'irrespons': 4830, 'percept': 6613, 'lender': 5224, 'creditor': 2435, 'nowher': 6161, 'nohoard': 6108, 'east': 3108, 'truth': 9095, 'socialist': 8115, 'peop': 6605, 'david': 2591, 'disinform': 2865, 'chat': 1741, 'yike': 9850, 'lidlgb': 5261, 'covid2019uk': 2372, 'inner': 4725, 'peac': 6575, 'dontpan': 2969, 'airlin': 596, 'taxpay': 8693, 'fewer': 3581, 'selfemploy': 7783, 'cooper': 2144, 'auster': 939, 'envelop': 3276, 'poorest': 6816, 'renter': 7359, 'net': 6023, 'youâv': 9877, 'fijian': 3598, 'competit': 2005, 'fbcnew': 3537, 'fijinew': 3599, 'fiji': 3597, 'abil': 436, 'renew': 7355, 'sheet': 7875, 'practition': 6875, 'illinoi': 4587, 'pill': 6706, 'lotion': 5392, 'subject': 8492, 'exact': 3384, 'myth': 5932, 'winter': 9708, 'southern': 8181, 'distributor': 2903, 'ed': 3154, 'corn': 2156, 'cabbag': 1512, 'irish': 4823, 'pritzker': 6958, 'haven': 4278, 'acquir': 484, 'heartbreak': 4315, 'outbreakâ': 6358, 'seven': 7839, 'unproven': 9263, 'cold': 1941, '6th': 339, 'guilt': 4178, 'vuner': 9491, 'ifpri': 4576, 'shouldn': 7936, 'deploy': 2716, 'spree': 8262, 'grappl': 4109, 'alter': 660, 'profound': 6985, 'vari': 9368, 'piss': 6720, 'latter': 5161, 'innov': 4727, 'franchis': 3816, 'congression': 2059, 'muse': 5908, 'msnbc': 5877, 'meme': 5646, 'viruscorona': 9449, 'eurusd': 3351, 'hover': 4482, 'await': 972, 'eurozon': 3350, 'forex': 3765, 'usd': 9322, 'claw': 1868, 'hunter': 4525, 'oilpric': 6260, 'crudeoil': 2464, '17th': 91, '318': 225, 'anybodi': 771, 'caution': 1655, 'manna': 5519, 'loaf': 5326, 'tortilla': 8974, 'demograph': 2697, 'inperson': 4729, 'institut': 4752, 'bunni': 1468, 'novelti': 6157, 'gate': 3927, 'stall': 8304, 'bravo': 1363, '66': 330, 'buffer': 1445, 'portion': 6831, 'goi': 4038, 'ww': 9810, 'fo': 3705, 'rbi': 7217, 'abund': 451, 'indemand': 4655, 'whoever': 9666, 'horrend': 4456, 'score': 7727, 'coronatim': 2190, 'pound': 6858, 'swine': 8625, 'bed': 1128, 'seemingli': 7772, 'logic': 5360, 'realist': 7232, 'conclus': 2033, 'firefight': 3629, 'santa': 7649, 'hilari': 4384, 'humor': 4516, 'coronaapocalyps': 2167, 'counterfeit': 2302, 'cleans': 1873, 'couldnât': 2291, 'entrepreneur': 3273, 'freelanc': 3830, 'entrepreneurship': 3274, 'user': 9327, 'circul': 1835, 'televis': 8733, 'inâ': 4805, 'coronaviruspan': 2240, 'flatten': 3662, 'curv': 2514, 'unus': 9285, 'ugh': 9157, 'keepyourdist': 5019, 'sixfeetapart': 8010, 'weaken': 9559, 'macroeconom': 5448, 'weak': 9558, 'nearterm': 5995, 'offset': 6246, 'footprint': 3749, 'bless': 1251, 'promot': 6996, 'booti': 1306, 'implic': 4615, 'goldman': 4041, 'sach': 7585, 'repurpos': 7379, 'soviet': 8186, 'diari': 2785, 'ingredi': 4712, 'pearl': 6580, 'shell': 7879, 'andâ': 727, 'imposs': 4620, 'style': 8489, 'sneaki': 8089, 'perfect': 6614, 'couldn': 2289, 'aviat': 967, 'belov': 1158, 'hometown': 4435, 'hundr': 4518, 'cellular': 1683, 'terrifi': 8760, 'bcz': 1111, 'isra': 4846, 'invit': 4802, 'israel': 4847, 'lidl': 5260, 'iceland': 4557, 'aprn': 813, 'ghost': 3976, 'nasdaq': 5962, 'favour': 3534, 'theyv': 8821, 'auspol': 936, 'economist': 3147, 'dramat': 3013, 'regim': 7309, 'rub': 7553, 'radic': 7161, 'que': 7125, 'proceed': 6972, '25th': 185, 'rebook': 7250, 'hourli': 4472, 'leed': 5206, 'petrol': 6651, 'inthistogeth': 4786, 'hurrican': 4528, 'katrina': 5011, 'mre': 5869, 'ancient': 717, 'bounc': 1328, 'republican': 7378, 'otherwis': 6348, 'folder': 3713, 'talli': 8669, 'snake': 8083, 'childcar': 1779, 'mygovindia': 5926, 'circuit': 1834, 'stabil': 8287, 'plz': 6775, 'vegetarian': 9382, 'mutual': 5919, 'island': 4837, 'unprotect': 9262, 'sainsburyâ': 7610, 'furnish': 3893, 'doormen': 2979, 'postmen': 6848, 'wager': 9495, 'invok': 4803, 'terror': 8762, 'bodi': 1279, 'tire': 8897, 'propos': 7009, 'whitehous': 9665, 'forb': 3752, 'tick': 8874, 'irrat': 4828, 'sugari': 8521, 'stash': 8326, 'covid19ph': 2355, 'easyjet': 3117, 'dstv': 3051, 'premium': 6902, 'procedur': 6971, 'abt': 448, 'lactos': 5120, 'branch': 1358, 'qatar': 7095, 'licenc': 5256, 'ukgover': 9163, 'mayoroflondon': 5600, 'commentari': 1978, 'quot': 7148, 'oatt': 6201, 'âwhi': 9995, 'aint': 589, 'ocado': 6221, 'sh': 7848, 'manchest': 5504, 'uni': 9226, 'deliveroo': 2683, 'rider': 7473, 'timesâ': 8892, 'weâd': 9634, 'trivial': 9060, 'demis': 2692, 'drugstor': 3047, 'empir': 3230, 'forg': 3768, 'frantic': 3820, 'strength': 8457, 'laguna': 5128, '1030am': 26, 'afterward': 556, 'lurk': 5429, 'beast': 1118, 'macro': 5447, 'summar': 8528, 'farmersâ': 3514, 'directtoconsum': 2830, 'existenti': 3407, 'artist': 856, 'toiletrol': 8940, 'bastard': 1076, 'hongkong': 4444, 'hk': 4398, 'abat': 426, 'tim': 8888, 'rid': 7470, 'fool': 3743, 'tape': 8679, 'sandwich': 7640, 'hashtag': 4268, 'togetherapart': 8920, 'courtesi': 2318, 'whisper': 9663, 'fooddrink': 3722, 'modern': 5786, 'board': 1273, 'netflix': 6025, 'boycott': 1341, 'clown': 1903, 'ave': 960, 'steam': 8373, 'heavi': 4324, 'rail': 7168, 'flex': 3672, '3m': 246, 'n95': 5934, 'charmin': 1737, 'gdp': 3939, 'shouldnât': 7938, 'toiletri': 8939, 'suicid': 8523, 'flat': 3661, 'susan': 8595, 'tn': 8907, 'stateofemerg': 8330, 'tight': 8881, 'jobsit': 4941, 'marker': 5546, 'outlin': 6371, 'hamilton': 4217, 'discov': 2851, 'sicken': 7961, 'pint': 6715, 'assum': 887, 'pillag': 6707, 'bush': 1480, 'na': 5936, '700': 343, 'mla': 5774, 'itâll': 4863, 'obes': 6204, '118': 42, 'wanker': 9520, 'tpshortage2020': 9001, 'basketbal': 1074, 'newslett': 6044, 'spike': 8232, 'nomin': 6110, 'malaysialockdown': 5489, 'suburban': 8508, 'mayorofla': 5599, 'aid': 586, 'p': 6436, 'austria': 945, 'socal': 8102, 'rightli': 7478, 'swift': 8622, 'senioronli': 7810, 'bone': 1294, 'boe': 1280, 'casino': 1635, 'filthi': 3606, 'cu': 2483, 'notabl': 6144, 'brief': 1392, 'summari': 8529, 'sentenc': 7818, 'delv': 2686, 'unbeliev': 9185, 'blown': 1265, 'proport': 7008, 'taught': 8689, 'gross': 4151, 'weirdo': 9608, 'built': 1451, '1999': 109, 'salt': 7621, 'rang': 7192, 'select': 7778, 'onion': 6290, 'sourdough': 8176, 'artisan': 855, 'maker': 5481, 'criticis': 2451, 'harshli': 4265, 'ontario': 6306, 'stage': 8296, 'retailgroceri': 7425, 'attitud': 915, 'scream': 7737, 'garag': 3917, 'bp': 1347, 'shortli': 7930, 'steve': 8386, 'countdown': 2300, 'dove': 2993, 'smoke': 8075, 'bacon': 1003, 'improvis': 4624, 'panicbought': 6481, 'trusselltrust': 9091, 'exercis': 3403, 'costcocanada': 2277, 'sobey': 8100, 'saveonfood': 7677, 'known': 5081, 'cri': 2440, 'astronom': 893, 'allergi': 636, 'annoy': 747, 'retweeet': 7442, 'tolietpap': 8946, 'dasani': 2578, 'gotten': 4061, 'creditcard': 2433, 'hasn': 4269, 'fastfood': 3523, 'pleasant': 6758, 'contrast': 2121, 'neighbourhood': 6014, 'scottmorrisonmp': 7732, 'sat': 7658, 'australiaâ': 944, 'devis': 2769, 'stabl': 8289, 'transpar': 9029, 'oblig': 6207, 'reviv': 7455, 'louder': 5395, 'convid19uk': 2133, 'ya': 9825, 'compli': 2012, 'ps': 7039, 'sexi': 7845, 'loorol': 5379, 'fcking': 3546, 'smoker': 8076, 'inhal': 4714, 'cigarett': 1828, 'manner': 5520, 'signal': 7972, 'eyeopen': 3456, 'career': 1599, 'wo': 9730, 'queensland': 7129, 'unreal': 9264, 'creep': 2438, '3week': 251, 'histor': 4394, 'preced': 6886, 'workingfromhom': 9756, 'curti': 2513, 'church': 1823, 'voteblue2020': 9478, 'edibl': 3157, 'civilis': 1846, 'covid19nz': 2348, 'grandmoth': 4102, 'sole': 8134, 'pour': 6859, 'dirti': 2832, '5pm': 312, 'ham': 4215, 'prior': 6953, 'diagnos': 2779, 'disclosur': 2847, 'dem': 2687, 'founder': 3800, 'jewelri': 4924, 'guest': 4173, 'alaska': 606, 'grand': 4100, 'fork': 3773, 'litter': 5307, 'hype': 4543, 'slightli': 8043, 'bell': 1156, 'horror': 4459, 'vietnam': 9422, 'vietnames': 9423, 'tendenc': 8750, 'webinar': 9580, 'giveaway': 3994, '24hour': 175, 'âessentialâ': 9939, 'ub': 9149, 'rare': 7203, 'stimuluspackag': 8403, 'localbusi': 5335, 'inevit': 4684, 'cycl': 2535, 'permit': 6625, 'art': 851, 'sing': 7995, 'rude': 7558, 'tx': 9141, 'stab': 8286, 'wooli': 9743, 'acccgovau': 459, 'gig': 3985, 'enabl': 3239, 'immigr': 4599, 'detain': 2751, 'suitabl': 8526, 'screen': 7738, 'termin': 8757, 'sail': 7607, 'poultri': 6857, 'dock': 2934, 'phillip': 6671, 'oxygen': 6432, 'ahol': 584, 'boot': 1304, 'bitch': 1231, 'maharashtra': 5465, 'drastic': 3015, 'lucki': 5415, 'movementcontrolord': 5865, 'curios': 2505, 'tori': 8970, 'inhuman': 4718, 'ltd': 5413, 'ram': 7179, 'brows': 1421, 'coronaviruschalleng': 2206, 'underli': 9201, 'men': 5650, 'angri': 734, 'karma': 5006, 'butt': 1493, '10x': 33, '120': 47, '38': 241, 'toothpast': 8966, 'shampoo': 7860, 'bleach': 1248, 'religion': 7339, 'pa': 6438, 'excis': 3395, 'petroleum': 6652, 'began': 1137, 'purel': 7074, 'outofstock': 6375, 'dodg': 2941, '6ft': 337, 'latim': 5158, 'frame': 3813, 'svp': 8607, 'spoke': 8244, 'neat': 5996, 'radar': 7160, 'automat': 955, 'flag': 3656, 'omg': 6281, 'struck': 8475, 'sheepl': 7873, 'foodnew': 3728, 'farmbureau': 3511, 'flattenthecurv': 3664, 'congreg': 2057, 'fifth': 3590, 'avenu': 962, 'manhattan': 5510, 'livestream': 5314, 'patrick': 6547, 'parad': 6498, 'overload': 6405, 'isâ': 4850, 'ppe': 6866, 'oc': 6220, 'sd': 7746, 'kidney': 5046, 'heat': 4320, 'boil': 1285, 'poison': 6793, 'skill': 8017, 'eh': 3180, 'abbott': 427, 'disasterâ': 2841, 'encount': 3242, 'generalâ': 3949, 'tollfre': 8948, 'âfree': 9941, 'coeliac': 1933, 'coronavirusinsa': 2219, 'trolli': 9062, 'twat': 9128, 'hamburg': 4216, 'spaghetti': 8195, 'distanceâ': 2891, '59': 305, 'pneumonia': 6781, 'th': 8777, 'reliant': 7335, 'âgroceri': 9946, 'prais': 6877, 'christma': 1816, 'mainstream': 5472, 'ra': 7152, 'debat': 2620, 'crochet': 2452, 'ep': 3280, '36': 237, 'cd': 1668, 'homebargain': 4422, 'ma': 5442, 'massgovernor': 5574, 'qualiti': 7107, 'nigeria': 6083, 'kano': 5001, 'bio': 1218, 'featur': 3554, 'ky': 5107, 'west': 9626, 'coast': 1921, 'âthi': 9987, 'crisisâ': 2447, 'processor': 6974, 'consumerfriendli': 2092, 'literaci': 5304, 'psycholog': 7043, 'covidontario': 2392, 'charm': 1736, 'plead': 6756, '900': 391, 'shade': 7850, 'coronavirusmem': 2230, 'wrestl': 9787, 'nonperish': 6118, 'facial': 3467, 'axio': 980, 'ii': 4582, 'rose': 7529, 'initi': 4719, 'df': 2771, 'edeka': 3155, 'entri': 3275, '135': 61, '85': 378, 'tennesse': 8753, 'telco': 8725, 'epicentr': 3284, 'vodafon': 9465, 'peach': 6576, 'prospect': 7013, 'perilofafrica': 6620, 'tescoâ': 8767, 'rip': 7483, 'itvnew': 4859, 'clip': 1891, 'inde': 4653, 'mo': 5776, 'subsist': 8503, 'ssi': 8280, 'foodrel': 3730, 'storag': 8434, 'covoid19': 2397, 'stare': 8318, 'refuge': 7302, 'eaten': 3121, 'leftov': 5208, 'polish': 6802, 'cake': 1522, 'covid19australia': 2331, 'bankrupt': 1045, 'makeshift': 5482, 'equip': 3290, 'easyuk': 3118, 'essenc': 3313, 'transmit': 9028, 'snippet': 8092, 'convo': 2135, 'âiâv': 9955, 'yearâ': 9838, 'degrad': 2667, 'fearmong': 3552, 'independ': 4656, 'scum': 7744, 'linkedin': 5291, 'eventu': 3361, 'donald': 2960, 'upon': 9298, 'amazond': 671, 'mock': 5782, 'search': 7753, 'librari': 5254, 'crise': 2445, 'solid': 8137, 'evid': 3376, 'dismiss': 2870, 'newyork': 6053, 'parti': 6516, 'alloc': 641, 'quicker': 7136, 'sanitari': 7644, 'extortion': 3447, 'tfl': 8775, 'music': 5911, 'fundrais': 3884, 'charit': 1732, 'greg': 4129, 'fox': 3803, 'shutitdown': 7955, 'nikki': 6092, 'fri': 3842, 'childrenâ': 1782, 'wasnt': 9548, 'ounc': 6352, 'foodstuff': 3737, 'covid19sa': 2359, 'wed': 9586, 'neworlean': 6040, 'agent': 565, 'lame': 5135, 'consumerbehaviour': 2087, 'tini': 8895, 'separ': 7821, 'occas': 6222, 'comic': 1972, 'detect': 2753, 'shipment': 7894, 'lawyer': 5177, 'storefront': 8437, 'stolen': 8422, 'forum_consum': 3790, 'agai': 559, 'miami': 5689, 'uncomfort': 9193, 'sarcasm': 7655, 'bt': 1432, 'b4': 987, '26': 186, 'deadlin': 2609, 'stockmarketcrash': 8415, 'shower': 7945, 'song': 8157, 'stiff': 8396, 'upper': 9299, 'lip': 5295, 'op': 6312, 'broken': 1413, 'turnov': 9123, 'decent': 2631, 'brake': 1356, 'plastic': 6742, 'cstore': 2479, 'conveniencestor': 2127, 'preliminari': 6898, 'spokesperson': 8247, 'shoprit': 7919, 'jim': 4930, 'fcacan': 3542, 'racist': 7158, 'discrimin': 2855, 'handshak': 4237, 'spinach': 8235, 'ginger': 3989, 'lemon': 5221, 'blaze': 1247, 'roundup': 7539, 'nstnation': 6168, 'bushcraft': 1481, 'hill': 4385, 'covidbc': 2386, 'judgement': 4969, 'vlog': 9463, 'upload': 9297, 'hair': 4203, 'august': 929, 'extens': 3441, 'allegedli': 634, 'smuggl': 8079, 'kyiv': 5108, 'ukrain': 9166, 'brit': 1400, 'filth': 3605, 'rag': 7164, 'absorb': 446, 'pivot': 6725, 'transform': 9024, 'parcel': 6507, 'digitaltransform': 2810, 'demo': 2693, 'grew': 4131, 'gaza': 3933, '12pm': 55, 'âdonât': 9936, 'closer': 1897, 'star': 8316, 'theatr': 8791, 'dampen': 2561, 'scotland': 7729, 'analys': 707, 'analysi': 708, 'tourism': 8986, 'henc': 4351, 'output': 6379, 'ldnont': 5187, 'bob': 1276, 'evan': 3356, 'rundown': 7566, 'collabor': 1944, 'museum': 5909, 'membership': 5645, 'quantiti': 7109, 'durham': 3076, '5000': 288, 'pure': 7073, 'blitz': 1254, 'wartim': 9537, 'cnt': 1916, 'upsid': 9301, 'third': 8836, 'legit': 5214, 'gel': 3942, 'culinari': 2488, 'phoni': 6677, 'clever': 1880, 'selfishli': 7786, 'batteri': 1085, 'scroll': 7741, 'skim': 8018, 'delet': 2673, 'audienc': 926, 'factsnotfear': 3474, 'visa': 9452, 'mastercard': 5577, 'stockmarketcrash2020': 8416, 'dowjon': 2995, '3pm': 249, 'nbn': 5981, 'aussi': 938, 'commut': 1992, 'slump': 8054, '2016': 138, 'passov': 6530, 'jewish': 4925, 'wuhanviru': 9807, 'wâ': 9816, 'tbt': 8697, 'reput': 7380, 'frenzi': 3837, 'cauliflow': 1653, 'wti': 9801, 'feb': 3555, 'oott': 6311, 'bonker': 1295, 'neck': 6002, 'ethanol': 3330, 'margin': 5535, 'lac': 5118, 'crore': 2456, 'ko': 5082, 'hubbi': 4499, 'narendramodi': 5958, 'studio': 8482, 'epidemiologist': 3286, 'undertak': 9209, 'valuat': 9360, 'mainten': 5474, 'complianc': 2013, 'aris': 836, 'evalu': 3355, 'dilemma': 2812, 'deplet': 2714, 'scott': 7730, 'clark': 1860, 'supermarketnew': 8551, 'qanon': 7093, 'imrankhanpti': 4626, 'horder': 4454, 'imran': 4625, 'silicon': 7978, 'alot': 652, 'walmartcanada': 9515, 'sunshin': 8541, 'germ': 3963, 'tension': 8754, 'auto': 951, 'compet': 2004, 'longterm': 5371, 'workout': 9758, 'swab': 8609, 'callcent': 1535, 'satur': 7661, 'tuna': 9112, 'someoneâ': 8150, '1700': 88, 'mar': 5530, 'liner': 5287, 'lager': 5125, 'flip': 3677, 'imma': 4596, 'hacker': 4195, 'spoon': 8250, 'bbclaurak': 1098, 'citizensadvic': 1841, 'singaporean': 7997, 'pdx': 6572, 'paradox': 6500, 'ab': 423, 'leisur': 5219, 'avg': 966, 'rev': 7447, 'slam': 8032, 'crack': 2408, '6abc': 334, 'appt': 810, 'diner': 2818, 'web': 9575, 'cowork': 2399, 'sex': 7844, 'toy': 8995, 'hottest': 4470, 'snapshot': 8086, 'inclin': 4640, 'gentleman': 3955, 'bbc_haveyoursay': 1095, 'skyuk': 8030, 'theyd': 8818, 'highway': 4382, 'ukchang': 9162, 'verizon': 9400, 'cellphon': 1682, 'wwd': 9812, 'carlquintanilla': 1608, 'squawkcnbc': 8272, 'morningsmaria': 5837, 'cspanwj': 2476, 'jimcram': 4931, '96': 399, 'decad': 2628, 'bonus': 1297, 'unpaid': 9258, 'jeff': 4906, 'bezo': 1191, 'preexist': 6895, 'nor': 6126, 'elder': 3189, 'twist': 9135, 'advers': 525, 'recycl': 7275, '214': 161, 'publix': 7053, 'fort': 3782, 'myer': 5925, 'kleenex': 5067, 'overhear': 6401, 'cardboard': 1597, 'cagovernor': 1521, 'bbc5live': 1094, 'safer': 7598, 'medal': 5624, 'stomach': 8423, 'craft': 2411, 'numer': 6174, 'mood': 5824, 'trumppressconfer': 9087, 'sn_new': 8080, 'enact': 3240, 'healthier': 4304, 'coronafight': 2174, 'hot': 4464, 'sushi': 8599, 'furious': 3891, 'idk': 4573, 'beg': 1136, 'mt': 5879, 'andrex': 725, 'boy': 1339, 'bagger': 1014, 'homeâ': 4438, 'brampton': 1357, 'drivethrough': 3034, 'publicli': 7051, 'trumpviru': 9088, 'bidet': 1199, '55': 300, 'helpingoth': 4346, 'robust': 7510, 'halal': 4206, 'mitig': 5769, 'wawa': 9556, 'naveen_odisha': 5974, 'bullet': 1456, 'sheer': 7874, 'luckili': 5416, 'switzerland': 8630, 'stair': 8300, '1000': 19, '17000': 89, 'bbcbreak': 1096, '500ml': 291, '5x': 314, 'flood': 3683, 'adob': 515, 'hoosier': 4450, 'nationâ': 5968, 'chainstoreag': 1710, 'chunk': 1821, 'substanti': 8505, 'oman': 6278, 'cliff': 1884, 'oilpricewar': 6261, 'denmark': 2706, '72': 348, 'tunnel': 9114, 'slide': 8041, 'beneficiari': 1165, 'screw': 7739, 'topic': 8968, 'deputi': 2725, 'tale': 8664, 'bounti': 1331, 'papertowel': 6494, 'govsisolak': 4082, 'fema': 3572, 'lasvega': 5152, 'locust': 5356, 'rain': 7170, 'telehealth': 8730, '27': 189, 'sooo': 8162, 'properli': 7005, 'analyt': 710, 'headwind': 4295, 'root': 7528, 'bee': 1130, 'besmart': 1180, 'laura': 5168, 'exorbit': 3409, 'faith': 3484, 'crook': 2453, 'conflict': 2050, 'sought': 8170, 'progress': 6989, 'covid__19': 2382, 'k': 4987, 'rogu': 7514, 'extort': 3446, '0808': 14, '223': 166, '1133': 39, 'ocd': 6228, 'footfal': 3748, 'overstock': 6416, 'justifi': 4982, 'minnesota': 5746, 'housebound': 4475, 'hack': 4194, 'minor': 5748, 'appropri': 806, 'offenc': 6235, 'sieg': 7967, 'â50': 9914, 'gram': 4098, 'elig': 3200, 'octob': 6230, '600': 317, 'resort': 7400, 'unsold': 9276, 'documentari': 2939, 'michel': 5691, 'shirt': 7896, 'forum': 3789, 'legal': 5211, 'ff': 3582, 'armageddon': 840, 'fallen': 3489, 'weston': 9629, 'loblawson': 5332, 'shopprsdrugmart': 7918, 'yoga': 9854, 'thismorn': 8837, 'coronaalert': 2166, 'climatechang': 1886, 'supportlocalbusi': 8570, 'shelfstabl': 7878, 'preserv': 6914, 'oeb': 6233, 'oversight': 6414, 'allevi': 637, 'relev': 7331, 'glass': 4002, 'justintrudeau': 4985, 'vacat': 9351, 'cp24': 2402, 'ctvnew': 2482, 'chapter': 1729, 'ego': 3178, 'thoroughli': 8841, 'lina': 5283, 'barter': 1063, 'dickhead': 2790, 'quarentinelif': 7122, 'telecom': 8726, 'gregabbott_tx': 4130, 'txlege': 9142, 'fals': 3491, 'attach': 910, '6am': 335, 'snag': 8082, '63': 324, 'shoppingonlin': 7916, 'tuesdaymotiv': 9108, 'pacp': 6447, 'crackdown': 2409, 'bonu': 1296, 'preview': 6928, 'perman': 6623, 'sander': 7638, 'underway': 9212, 'vat': 9374, 'hardest': 4254, 'incid': 4637, 'wood': 9740, 'hyderabad': 4538, 'deborah': 2624, 'birx': 1228, 'younger': 9866, 'knob': 5076, 'freight': 3835, 'courteou': 2317, 'covd19': 2321, 'coronavirusâ': 2254, 'server': 7830, 'nephew': 6018, '05': 9, 'februari': 3556, 'yoy': 9878, 'inconsider': 4645, 'obsess': 6213, 'consciou': 2064, 'insensit': 4735, 'ventur': 9392, 'redund': 7285, 'restor': 7413, 'doordash': 2977, 'instacart': 4744, 'armi': 841, 'ta': 8645, '180': 94, 'coro': 2163, 'excit': 3396, 'camera': 1545, 'achiev': 478, 'ct': 2480, 'overlook': 6406, 'mr': 5868, 'toni': 8957, 'toyota': 8996, 'dealer': 2612, 'foodsuppli': 3738, 'janitor': 4890, 'bopinion': 1310, 'bankofamerica': 1043, 'despair': 2742, 'threaten': 8848, 'intoler': 4788, 'dust': 3077, 'conting': 2115, 'hadnt': 4197, 'whoâ': 9674, 'professor': 6981, 'william': 9693, 'ho': 4404, 'chairman': 1713, 'economycrisi': 3148, 'hamont': 4220, 'wellstock': 9615, '2017': 139, 'harvey': 4267, 'worrisom': 9768, 'stockingup': 8413, 'strictli': 8464, 'chipchirpsâ': 1799, 'vlsiresearch': 9464, 'weekâ': 9597, 'ic': 4555, 'semiconductor': 7800, 'festiv': 3576, 'antibacteri': 757, 'antivir': 765, 'bacteria': 1006, 'antibiot': 758, 'quedateencasa': 7127, 'spit': 8239, 'genom': 3953, 'genet': 3951, 'rocket': 7512, 'inittogeth': 4720, 'vineyard': 9434, 'reset': 7389, 'presidencyza': 6916, 'trench': 9044, 'christian': 1815, 'easter': 3109, 'enterpris': 3267, 'surplu': 8584, 'chilli': 1785, 'minc': 5733, 'dish': 2862, '29': 193, 'werent': 9624, 'douchebag': 2989, 'kantar': 5003, 'covid19rel': 2356, 'regulatori': 7318, 'digest': 2807, 'revamp': 7448, 'cherish': 1765, 'bathandbodywork': 1081, 'customerâ': 2523, 'usag': 9319, '12m': 52, 'buddi': 1443, 'columbia': 1959, 'metal': 5671, 'terrorist': 8763, 'allah': 632, 'atâ': 920, 'cbd': 1662, 'phd': 6663, 'mechan': 5622, 'rural': 7569, 'nine': 6093, 'staycalm': 8344, 'bogrol': 1283, 'induc': 4676, 'taylor': 8694, 'distinct': 2898, 'valid': 9356, 'cmo': 1911, 'sooner': 8161, 'ramp': 7182, '2ft': 197, 'forth': 3783, 'antisept': 763, 'morocco': 5838, 'âfor': 9940, 'burger': 1472, 'northeast': 6135, 'ohio': 6253, 'shoulder': 7935, 'guelph': 4171, 'wane': 9519, 'asthma': 890, 'panickbuy': 6485, 'tw': 9127, 'yo': 9852, 'fr': 3806, 'ate': 897, 'triag': 9048, 'goodnew': 4052, 'wardrob': 9525, '730': 350, 'trophi': 9064, 'cleveland': 1879, 'tree': 9042, 'x': 9817, 'msm': 5876, 'needi': 6004, 'infuri': 4705, 'compulsori': 2023, 'facetofac': 3466, 'lectur': 5203, 'tutori': 9125, 'cracker': 2410, 'jennif': 4913, 'becam': 1124, 'rank': 7193, 'warrant': 9532, 'af': 537, 'cre': 2424, '56': 301, 'numpti': 6175, 'consumer': 2084, 'vultur': 9490, 'instant': 4748, 'lng': 5322, 'shoppingâ': 7917, 'silent': 7977, 'su': 8490, 'overbuy': 6393, 'coronavirusitali': 2222, 'italylockdown': 4853, 'decim': 2634, '999': 404, 'float': 3680, 'adelaid': 505, 'lucr': 5417, 'temptat': 8746, 'suscept': 8598, '145': 68, 'ride': 7472, 'curtain': 2512, 'cluster': 1907, 'pleasantli': 6759, 'notifi': 6151, 'inadvert': 4629, 'adventur': 524, 'disproportion': 2882, 'detent': 2754, 'swamp': 8610, 'youth': 9869, 'copd': 2149, 'overweight': 6423, 'bust': 1491, 'actor': 491, 'pro': 6964, 'athlet': 899, 'musician': 5912, 'maga2020': 5460, 'kag2020': 4992, 'âpleas': 9973, 'droplet': 3038, '3x': 253, 'wit': 9719, 'thumb': 8868, 'pp': 6865, 'trace': 9002, 'begun': 1139, 'indepth': 4657, 'fortnight': 3786, 'modif': 5790, 'tobacco': 8909, '92': 395, 'anytim': 775, '30second': 219, 'metlif': 5675, 'foundat': 3799, 'nc': 5982, 'tampa': 8671, 'belgium': 1153, '4000': 257, 'jail': 4879, 'cornavirusoutbreak': 2158, 'summit': 8531, 'ski': 8014, 'christoph': 1817, 'tag': 8653, 'jog': 4945, 'cafe': 1518, 'silli': 7979, 'compassion': 2001, 'commend': 1976, 'ethnic': 3334, 'crew': 2439, 'stricken': 8461, 'girlfriend': 3991, 'fbi': 3538, 'headlin': 4292, 'customersâ': 2522, 'speech': 8218, 'hook': 4449, 'vastli': 9373, 'cc': 1664, 'loung': 5399, 'respir': 7403, '21': 158, 'sampl': 7627, 'simultan': 7989, 'exp': 3411, 'hindustan': 4389, 'unilev': 9229, 'hul': 4506, 'opportunist': 6319, 'hul_new': 4507, 'boycotthul': 1343, 'havenât': 4280, 'clue': 1905, 'loblaw': 5330, 'lengthi': 5226, 'discard': 2843, 'legisl': 5213, 'inquir': 4731, 'besieg': 1179, 'sar': 7653, 'acut': 495, 'respiratori': 7404, 'hypocrit': 4548, 'favourit': 3535, 'animalcross': 740, 'preorder': 6903, 'partial': 6517, 'anilsinghvi_': 738, 'forgiv': 3770, 'emphas': 3228, 'tue': 9106, '5k': 309, '10k': 29, 'arrang': 844, 'acc': 457, 'quid': 7139, 'merch': 5658, 'quarterli': 7124, 'coronainpakistan': 2178, '5kg': 310, 'breakdown': 1370, 'ecolog': 3137, 'pollut': 6807, 'amitshah': 691, 'indiafightscoronaviru': 4663, 'liber': 5251, 'globalis': 4010, 'humour': 4517, 'fuckwit': 3871, 'covid2019india': 2371, 'staysafestayhom': 8363, 'sweden': 8616, 'errand': 3301, 'resum': 7419, 'paisley': 6456, 'leap': 5195, 'abcnew': 432, 'cape': 1583, 'illustr': 4588, 'creator': 2429, 'supposedli': 8573, 'herald': 4353, 'foil': 3711, 'lid': 5259, 'bid': 1196, 'randpaul': 7191, 'mistak': 5766, 'cov': 2320, 'porch': 6823, 'chest': 1767, 'ghana': 3973, 'buri': 1473, 'dare': 2575, 'bun': 1464, 'neither': 6015, 'overcrowd': 6396, 'exponenti': 3434, 'âthat': 9982, 'realtor': 7239, 'hung': 4519, 'licens': 5257, 'fccc': 3544, 'gem': 3944, 'dip': 2823, 'fi': 3586, 'crunch': 2469, '650': 329, 'trillion': 9055, '31st': 226, 'vitamin': 9460, 'cancer': 1560, 'donut': 2971, 'sanctuari': 7636, 'midland': 5701, 'proxim': 7037, 'maria': 5537, 'depriv': 2722, 'ars': 849, 'livingwag': 5317, 'instal': 4746, 'pedro': 6585, 'giantfood': 3980, 'dmv': 2927, 'mayhem': 5597, 'indiana': 4666, 'shrink': 7948, 'mosqu': 5847, 'jaya': 4902, 'coronavirusnigeria': 2233, 'fightcovid19': 3594, 'nicer': 6075, 'baromet': 1056, 'g': 3899, 'cfo': 1703, 'floridian': 3686, 'cypru': 2538, 'vr': 9485, 'bird': 1224, 'procur': 6975, 'nbcnew': 5980, 'cbsnew': 1663, 'usatoday': 9320, 'outstand': 6384, 'governmentâ': 4070, 'miser': 5756, 'washingtonpost': 9543, 'prey': 6931, '41': 262, 'sensex': 7814, 'squad': 8270, 'puri': 7075, 'coronoviru': 2260, 'unaccept': 9178, 'uneth': 9219, 'paywal': 6566, 'suddenli': 8516, 'collector': 1948, 'emarket': 3213, 'unskil': 9275, 'ufcw': 9153, '11th': 45, 'diversif': 2911, 'oilandga': 6257, 'alex': 619, 'coronavirusdeutschland': 2209, 'coloni': 1953, 'seiz': 7777, 'advisorymandi': 532, 'incl': 4639, '2010': 132, 'wheat': 9647, 'shopp': 7914, 'ind': 4652, '170': 87, 'japan': 4895, 'shale': 7855, 'margaret': 5534, 'mead': 5613, 'ambani': 678, 'nifti': 6082, '18year': 101, 'sink': 8001, 'fade': 3476, 'petrochem': 6650, 'interpret': 4780, 'ect': 3152, 'wwii': 9815, 'evacu': 3354, 'hong': 4443, 'kong': 5086, 'shopifi': 7909, 'breaker': 1371, 'portfolio': 6830, 'registr': 7313, 'asdaserviceteam': 861, 'vacuum': 9353, 'unsustain': 9282, 'handsanitis': 4236, 'âoh': 9966, 'hadnât': 4198, 'suppress': 8574, 'accompani': 467, 'assumpt': 888, 'brussel': 1427, 'highdemand': 4372, 'itll': 4858, 'bangladesh': 1040, 'utensil': 9338, 'bubbl': 1436, 'gluten': 4020, 'cocktail': 1926, 'lebanon': 5202, 'tent': 8755, 'heartless': 4318, 'truli': 9074, 'disrespect': 2886, 'titan': 8901, 'globaleconomi': 4009, 'ubi': 9152, 'presum': 6922, 'downsid': 2999, 'duck': 3061, 'oz': 6434, 'roam': 7500, 'tear': 8706, 'domin': 2955, 'rebound': 7251, '2003': 128, 'checkpoint': 1753, 'sardin': 7656, 'eldercar': 3190, 'bear': 1115, 'obnoxi': 6209, '136': 62, 'q2': 7091, '17year': 92, 'loom': 5376, 'stem': 8378, 'dividend': 2915, 'mariano': 5539, 'norm': 6128, 'patron': 6550, 'deposit': 2718, 'telephon': 8732, 'taxi': 8692, 'funer': 3885, 'stubborn': 8478, 'uncar': 9186, 'loyalti': 5408, 'platinum': 6745, 'furiou': 3890, 'thx': 8873, 'recipi': 7261, 'vp': 9484, 'paint': 6454, 'alternativedata': 662, 'robberi': 7504, 'prevail': 6925, 'premierleagu': 6900, 'fiverr': 3649, 'wix': 9727, 'californialockdown': 1530, 'banker': 1042, 'broker': 1414, 'porter': 6829, 'stacker': 8291, 'r4today': 7151, 'benchmark': 1162, 'plummet': 6772, '51': 295, 'firework': 3633, 'prize': 6963, 'saudi_arabia': 7669, 'expenditur': 3418, 'foreclosur': 3759, 'durabl': 3073, 'taxat': 8691, 'factor': 3472, 'stalk': 8303, 'putin': 7084, 'jhootspharmaci': 4927, 'calpol': 1541, 'supermarketâ': 8553, 'austin': 940, 'tofu': 8918, 'funnel': 3886, 'roar': 7501, 'swing': 8626, 'mn': 5775, 'cow': 2398, 'urin': 9314, 'bjp': 1238, 'conclud': 2032, 'jeremycorbyn': 4916, 'england': 3255, 'compound': 2019, 'hamster': 4223, 'cheek': 1755, 'plain': 6734, 'soda': 8122, 'blueberri': 1268, 'abc730': 430, 'emphasi': 3229, 'pulp': 7060, 'hardwar': 4257, 'revolut': 7457, 'autom': 953, 'bbb': 1091, 'bbbdeliv': 1092, 'telework': 8734, 'workathom': 9749, 'dana': 2563, 'nessel': 6021, 'intak': 4763, 'ss': 8278, 'onâ': 6309, 'adam': 499, 'invent': 4796, 'lupe': 5426, 'streamlin': 8453, 'overblown': 6392, 'majorli': 5478, 'spi': 8229, 'djia': 2923, 'scaveng': 7706, 'coronav': 2195, 'korean': 5088, 'lessen': 5231, 'dispar': 2874, 'proven': 7028, 'vector': 9377, 'specialis': 8211, 'vacant': 9350, 'properti': 7006, 'reusabl': 7445, 'sack': 7586, '34': 231, 'beach': 1112, 'frontlinehero': 3857, 'pittsburghpg': 6724, 'parker': 6511, 'grocerydeliveri': 4143, 'ann': 742, 'larger': 5148, 'v': 9347, 'kazakhstan': 5012, 'fx': 3897, 'torontostar': 8973, 'bleak': 1249, 'distilledspirit': 2896, 'pennsylvania': 6602, 'reconsid': 7269, 'english': 3256, '130': 58, 'wednesdaymotiv': 9588, 'shitti': 7901, 'skin': 8020, 'dat': 2581, 'wen': 9618, 'der': 2726, 'analyz': 711, 'kr40': 5092, 'kr1000': 5091, 'abnorm': 438, 'cabinet': 1515, 'thu': 8866, 'profil': 6982, 'ânew': 9963, 'normalâ': 6131, 'mampa': 5501, 'lee': 5205, 'thesun': 8815, 'playbook': 6748, 'freedom': 3829, 'ingrahamangl': 4711, 'wreck': 9785, 'destroy': 2748, 'lifetim': 5269, 'supplement': 8562, 'caribbean': 1606, 'cookbook': 2137, 'gaug': 3929, 'opinion': 6317, 'erdogan': 3297, 'overcom': 6395, 'spat': 8205, 'raini': 7172, 'ht': 4494, 'centuri': 1690, 'googlenew': 4056, 'deli': 2675, 'cheapest': 1746, 'oklahoma': 6268, 'todayâ': 8913, 'wh': 9640, 'task': 8683, 'bcg': 1107, 'angst': 735, 'candi': 1561, 'hoboken': 4410, '10th': 32, 'acm': 482, 'utahn': 9337, 'ausbiz': 932, 'rand': 7188, 'whomev': 9670, 'helplin': 4348, 'overrun': 6411, 'bailey': 1017, 'mortal': 5843, 'entitl': 3271, 'helpeachoth': 4344, 'sb': 7685, 'regularli': 7317, 'tidi': 8877, 'sbsnew': 7686, 'werenât': 9625, 'motor': 5857, 'maid': 5467, '30m': 215, 'nysc': 6191, 'alibaba': 625, 'repay': 7363, 'paswan': 6536, 'iga': 4578, 'dataanalyt': 2583, 'onestop': 6286, 'medit': 5633, 'spous': 8257, 'gavin': 3931, 'newsom': 6046, 'californian': 1531, 'actress': 492, 'kimberli': 5053, 'williamspaisley': 9694, 'context': 2113, 'consumergood': 2093, 'peterborough': 6646, 'utter': 9342, 'inexcus': 4685, 'treasuri': 9039, 'oversold': 6415, 'indonesia': 4672, 'southeast': 8180, 'asia': 865, 'steadi': 8370, 'sip': 8002, 'yellow': 9842, '160': 82, 'snap': 8084, 'redirect': 7280, 'passeng': 6528, 'yyc': 9884, 'graphic': 4108, 'cub': 2484, 'doortodoor': 2981, 'eas': 3103, 'uniti': 9239, 'covidâ19': 2395, 'pricesâ': 6937, 'twin': 9134, 'oshawa': 6344, 'colour': 1957, 'pen': 6593, 'lego': 5216, 'pot': 6851, 'unreason': 9266, 'sap': 7651, 'brent': 1377, 'juli': 4972, 'reel': 7286, 'journalist': 4963, 'academ': 455, 'wee': 9591, 'ebt': 3130, 'pari': 6509, '16th': 85, 'stat': 8327, 'stayhomeâ': 8357, 'cdn': 1671, 'âs': 9976, 'societ': 8118, 'webcast': 9578, 'youâ': 9873, 'unseen': 9273, 'fm': 3699, '26th': 188, '15th': 80, 'cathol': 1650, 'com': 1961, 'consumerfac': 2091, 'elbow': 3188, 'wfh': 9638, 'fn': 3704, 'manitoba': 5517, 'wishlist': 9718, 'wisconsin': 9714, 'sewag': 7842, 'chick': 1772, 'fetch': 3577, 'sharehold': 7864, 'belief': 1154, 'frequenc': 3838, 'roommat': 7527, 'feast': 3553, 'sabcnew': 7584, 'scienc': 7720, 'fiction': 3588, 'june': 4976, 'b2c': 986, 'kenyatta': 5028, 'immor': 4601, 'homeown': 4431, 'drew': 3024, 'ot': 6345, 'pdf': 6571, 'novemb': 6158, 'subsidiari': 8501, 'plantain': 6740, 'pilot': 6710, 'eateri': 3123, 'mediapost': 5627, 'jan': 4886, 'metric': 5678, 'lag': 5124, 'primari': 6941, 'skytv': 8029, 'ripoff': 7484, 'accessori': 463, 'wildli': 9690, 'nurseri': 6177, 'layoff': 5181, 'stark': 8319, 'telegraph': 8729, 'obama': 6202, 'chair': 1712, 'rtenew': 7551, 'onlineclass': 6294, 'q1': 7090, 'grape': 4106, 'defens': 2655, '04': 8, 'ausecon': 933, 'doc': 2933, 'outdoor': 6361, 'metr': 5677, 'vintag': 9435, 'smallbusi': 8059, 'weareintroubl': 9570, 'empathet': 3226, 'andrea': 723, '00': 2, 'keen': 5014, 'martin': 5562, 'lettuc': 5237, 'plane': 6736, 'lt': 5411, 'conserv': 2068, 'parliament': 6512, 'predatori': 6892, 'forextrad': 3767, 'wick': 9679, 'legitim': 5215, 'burden': 1469, 'specifi': 8215, 'normalci': 6130, 'dc': 2603, 'lung': 5425, 'donaldtrump': 2962, 'bil': 1208, 'briton': 1404, 'xauusd': 9819, 'gld': 4003, 'upend': 9294, 'hum': 4510, 'dose': 2983, 'denial': 2704, 'medium': 5634, 'sub': 8491, 'rx': 7577, 'secondari': 7760, 'climb': 1888, 'dev': 2763, 'wrench': 9786, 'unpack': 9257, 'recogn': 7264, 'luxembourg': 5430, 'ideal': 4568, 'wednesdaywisdom': 9590, 'askdrh': 870, 'foodandbeverag': 3717, 'chinaliedpeopledi': 1790, 'covid19canada': 2332, 'coronaviruscanada': 2205, 'covid19u': 2362, 'basmati': 1075, 'jk': 4935, 'idl': 4574, 'meantim': 5618, 'uklockdown': 9164, 'coronavirushumor': 2212, 'endeavour': 3246, 'size': 8011, 'distract': 2900, 'semi': 7799, '19th': 111, 'wrote': 9795, 'cookinginacrisi': 2139, 'custard': 2517, 'venezuela': 9387, 'hotspot': 4469, 'attract': 918, 'greet': 4127, 'poster': 6844, 'paramed': 6502, 'tescoirl': 8765, 'rd': 7218, 'chase': 1740, 'persist': 6628, 'nycmayor': 6188, 'biker': 1207, 'diamond': 2783, 'analyst': 709, 'mike_p': 5714, 'rot': 7531, 'sampp': 7628, 'pois': 6792, 'financialmarket': 3613, 'distil': 2895, 'lunch': 5423, 'ruin': 7560, 'daysweek': 2599, 'programm': 6988, 'burlington': 1474, 'theater': 8790, 'enrol': 3263, 'virginia': 9442, 'retir': 7439, 'instanc': 4747, 'stronger': 8472, 'zeebusi': 9890, 'finminindia': 3624, 'nsitharaman': 6167, 'irvpaswan': 4833, 'jagograhakjago': 4877, 'effici': 3173, 'pelosi': 6592, 'dystopian': 3088, 'ph': 6656, 'cute': 2525, 'outfit': 6363, 'uspoli': 9332, 'speakerpelosi': 8208, 'berniesand': 1176, 'joebiden': 4943, 'chequ': 1764, 'marketingstrategi': 5551, 'memori': 5649, 'gasolin': 3925, 'land': 5140, 'nsw': 6169, 'broadcast': 1408, 'dire': 2825, 'mustard': 5916, 'royalmail': 7545, 'toiletpapershortag': 8936, 'toiletrollchalleng': 8941, 'thehil': 8796, 'advocaci': 534, '49': 279, 'landlord': 5141, 'onlinesal': 6298, 'manor': 5521, 'cock': 1925, 'sq': 8269, 'govât': 4086, 'ought': 6351, 'goal': 4028, 'eua': 3343, 'coronavirusdriven': 2210, 'catalog': 1641, 'landscap': 5142, 'shelteringinplac': 7881, 'scoop': 7724, 'caravan': 1593, 'int': 4762, 'avert': 965, 'cheerio': 1757, 'safeguard': 7595, 'softwar': 8127, 'carryout': 1620, 'âin': 9951, 'standstil': 8313, 'zimbabw': 9892, 'grain': 4097, 'sophist': 8166, 'cashapp': 1629, 'affirm': 542, 'schoolclosuresuk': 7718, 'strand': 8444, 'marksandspenc': 5556, 'choke': 1803, 'âsocial': 9977, 'distancingâ': 2893, 'airborn': 593, 'sanat': 7634, 'bullish': 1459, 'fallout': 3490, 'journey': 4964, 'quarantinecat': 7114, 'jason': 4899, 'j': 4871, 'swedish': 8617, '50000': 289, 'forgotten': 3772, 'etretail': 3338, '93': 396, 'councilâ': 2295, '37': 240, 'ff7r': 3583, 'singer': 7998, 'usdcad': 9324, 'multiyear': 5896, 'weaker': 9560, 'browni': 1420, 'cooler': 2141, 'soybean': 8188, 'sincer': 7993, 'peru': 6638, '91': 393, 'doom': 2973, 'gloom': 4016, 'wand': 9517, 'hypocrisi': 4547, 'broadway': 1410, 'ceil': 1678, 'eu_consum': 3342, 'ssa': 8279, 'ceas': 1677, 'viabl': 9411, 'agri': 573, 'sanction': 7635, 'djavad': 2921, 'inbox': 4630, 'divid': 2914, 'cuz': 2526, 'wealth': 9561, 'chunki': 1822, 'ddale8': 2604, 'log': 5359, 'yep': 9846, 'corvid19': 2271, 'column': 1960, 'onset': 6302, 'ai': 585, 'edg': 3156, 'michael': 5690, 'mamp': 5500, 'admit': 514, 'usn': 9329, 'sleev': 8038, 'fraudster': 3824, 'capitalis': 1586, 'jet': 4921, 'knock': 5077, 'court': 2316, 'hmoindia': 4402, 'ng': 6061, 'mag': 5458, 'lobbi': 5329, 'cod': 1929, 'dtiphilippin': 3055, 'cuppa': 2498, 'ondemand': 6284, 'held': 4337, 'ransom': 7195, 'labour': 5116, 'renaiss': 7352, 'essentialwork': 3317, 'iorestoacasa': 4808, 'xma': 9822, 'rob': 7503, 'gradual': 4094, 'drawn': 3018, 'approxim': 809, 'dynata': 3087, 'gavinnewsom': 3932, 'redact': 7277, 'goodwil': 4053, 'arrog': 847, 'businessown': 1489, 'random': 7189, 'coron': 2164, 'n95mask': 5935, 'covid19italia': 2342, 'overdr': 6398, 'ampl': 699, 'kitco': 5065, '2008': 129, 'commercialrealest': 1981, 'crime': 2442, 'moan': 5777, 'captur': 1591, 'ing': 4707, 'soldier': 8132, 'trumpdem': 9078, 'led': 5204, 'presidenti': 6917, 'prof': 6978, 'thur': 8869, 'coowner': 2147, 'ks': 5097, 'foodsupplychain': 3739, 'linger': 5289, 'coughsneez': 2287, '2002': 127, 'qe': 7097, 'relaunch': 7328, 'restart': 7409, 'corp': 2262, 'marketwatch': 5555, 'nativ': 5969, 'prix': 6962, 'award': 975, 'stew': 8388, 'leonard': 5229, 'pandemonium': 6477, 'cbcnew': 1661, 'gst': 4162, 'rebat': 7247, 'bankruptci': 1046, 'truste': 9093, '46': 273, 'fundament': 3883, 'moci': 5781, 'yoursafetyismysafeti': 9867, '57': 302, 'earthquak': 3102, 'motiv': 5856, 'mexican': 5681, 'subsid': 8499, 'shorten': 7927, 'golf': 4044, 'simul': 7988, 'lure': 5428, 'reward': 7459, 'homeoffic': 4430, '899': 383, 'govwhitm': 4085, 'eric': 3299, 'goggl': 4037, 'cashflow': 1632, 'equival': 3292, 'lmao': 5321, 'inequ': 4683, 'inflict': 4693, 'paramount': 6503, 'peo': 6604, 'occupi': 6226, 'recognis': 7265, 'writingcommnun': 9791, 'iv': 4864, 'fdac': 3548, 'nowaday': 6160, 'deficit': 2660, 'postcovid19': 6843, 'explos': 3432, 'pursu': 7079, 'greek': 4122, 'maddow': 5452, 'govlarryhogan': 4076, 'âour': 9970, 'petrolpric': 6653, 'crappi': 2417, 'newsalert': 6042, 'trumpâ': 9090, 'argument': 834, 'stood': 8425, 'nba': 5978, 'msg': 5874, 'britain': 1401, 'lorri': 5384, 'cabin': 1514, 'sonni': 8158, 'outcri': 6360, 'recal': 7252, 'glycerin': 4022, 'selloff': 7795, 'tom': 8949, 'danc': 2564, 'goto': 4059, 'wednesdaythought': 9589, 'consult': 2082, 'touchscreen': 8981, 'â10': 9905, 'biotech': 1221, 'gild': 3986, 'lake': 5131, '54': 299, 'iphon': 4812, 'staystrong': 8365, 'cushion': 2515, 'evolut': 3379, 'ukrainian': 9167, 'restructur': 7416, 'cfpb': 1704, 'sand': 7637, '64': 327, 'survivor': 8594, '150k': 74, 'eager': 3092, 'allianc': 639, 'woke': 9732, 'punish': 7068, 'valuabl': 9359, 'wereinthistogeth': 9622, 'spanish': 8199, 'communist': 1990, 'unsaf': 9271, 'robocal': 7508, 'underscor': 9205, 'flush': 3695, 'inadequ': 4628, 'crisp': 2448, 'ici': 4559, '7th': 368, 'athom': 900, 'rupe': 7568, 'brentoil': 1378, 'matur': 5589, 'gta': 4164, 'lodg': 5357, 'covid_19ph': 2378, 'upheav': 9296, 'revers': 7452, 'mint': 5749, 'eagl': 3093, 'bullion': 1458, 'dunnesstor': 3072, 'mrx': 5872, 'itch': 4856, 'puerto': 7056, 'rico': 7469, 'helpless': 4347, 'worship': 9771, 'playlist': 6751, 'beard': 1116, '14day': 69, 'nearbi': 5992, 'cincinnati': 1829, 'homedeliveri': 4426, 'chinesecoronaviru': 1794, 'repli': 7368, 'diego': 2797, 'creatur': 2430, 'denier': 2705, 'subscrib': 8496, 'brexit': 1385, 'gro': 4139, 'taiwan': 8656, 'empathi': 3227, '116': 41, 'algeria': 622, 'cameroon': 1546, 'ambul': 680, 'patrol': 6549, 'wore': 9747, 'audit': 928, 'nail': 5943, 'brunt': 1425, 'drought': 3041, 'caronaviru': 1614, 'swell': 8620, 'somber': 8145, 'mixtur': 5771, 'lookout': 5375, 'dna': 2928, 'âjust': 9956, 'assignmentsresearch': 884, 'labreport': 5117, 'annot': 745, 'bibliographi': 1194, 'cashappvenmo': 1630, 'fk': 3653, 'panickbuyinguk': 6486, 'kakenew': 4996, 'pathet': 6543, 'ramif': 7181, 'supplyanddemand': 8565, 'steel': 8374, 'keypad': 5036, 'goneâ': 4047, 'âthank': 9981, 'âyou': 9996, 'youâd': 9874, 'adaa': 497, 'default': 2650, 'erod': 3300, 'globalcalgari': 4007, 'coat': 1922, 'nigerian': 6084, 'spectrum': 8216, 'devalu': 2764, 'rake': 7175, 'infrequ': 4704, 'scent': 7709, 'proudli': 7026, 'awkward': 979, 'companion': 1996, 'audio': 927, 'regain': 7306, 'urgenc': 9312, 'coomb': 2142, 'blueyonder_ai': 1269, 'http': 4496, 'billionair': 1213, 'prosper': 7014, 'antibodi': 759, 'hydrogen': 4540, 'peroxid': 6626, 'alien': 627, 'gestur': 3967, 'âno': 9964, 'telecommut': 8728, 'stream': 8452, 'londonlockdown': 5366, 'bra': 1350, 'zoo': 9899, '255': 183, '7day': 363, 'mari': 5536, 'decemb': 2630, 'brag': 1354, '125': 50, 'downplay': 2998, 'contempl': 2109, 'penguin': 6599, 'treasur': 9038, 'morgan': 5833, 'freeman': 3832, 'captifi': 1589, 'grocerystorework': 4147, 'shopritestor': 7921, 'chrismurphyct': 1812, 'savel': 7676, 'llc': 5320, 'roast': 7502, 'prepared': 6907, 'supervis': 8560, 'auction': 924, 'multin': 5893, 'robert': 7505, '88': 381, 'greengroc': 4124, 'yoghurt': 9855, 'lg': 5244, 'retain': 7436, 'resolv': 7398, 'metrouk': 5680, 'consumerright': 2096, 'irishtim': 4824, '0800': 13, 'underpaid': 9203, '30th': 220, '140': 65, 'embrac': 3215, 'trajectori': 9018, 'newyorkc': 6054, 'warranti': 9533, 'homework': 4436, 'propublica': 7010, 'likelihood': 5277, 'unsur': 9280, 'dogood': 2947, 'californiaâ': 1533, 'shortfal': 7929, 'selfless': 7789, 'shake': 7852, 'o2': 6197, 'skyhelpteam': 8025, 'edutwitt': 3166, 'justsay': 4986, 'goddamn': 4032, 'venezuelan': 9388, 'theft': 8795, 'deregul': 2728, 'campu': 1550, '9000': 392, 'har': 4248, 'socialdistancingnow': 8111, 'winco': 9697, 'pak': 6457, 'stan': 8307, 'rubbish': 7555, 'gilead': 3987, 'sanitizerâ': 7647, 'photooftheday': 6682, 'dirt': 2831, 'ânormalâ': 9965, 'fc': 3539, 'richard': 7466, 'atlant': 902, 'afloat': 546, 'icon': 4562, 'andi': 720, 'philadelphia': 6667, 'copi': 2151, 'nevada': 6030, 'tiktok': 8885, 'da': 2542, 'concentr': 2027, 'cull': 2489, 'dawn': 2594, '84': 377, 'nextdoor': 6059, 'rattl': 7209, 'ââ': 9998, 'icymi': 4564, 'alberta': 608, 'outpac': 6377, 'calgari': 1527, 'edmonton': 3162, 'coronavirusnederland': 2231, 'eve': 3358, 'outâ': 6388, 'alleg': 633, 'invad': 4793, 'manifest': 5513, 'cargo': 1605, 'govuk': 4084, 'migrant': 5710, 'delhi': 2674, 'cabbi': 1513, 'pend': 6598, 'lockdownuk': 5352, 'lazi': 5183, 'nutter': 6183, 'vanpoli': 9364, 'ordeal': 6329, 'empow': 3234, 'disadvantag': 2835, 'skincar': 8021, 'trumppandem': 9083, 'socialdistanac': 8108, 'woodland': 9741, 'sea': 7748, 'cartoon': 1625, 'gmb': 4025, 'blatant': 1246, 'absent': 444, 'carpark': 1615, 'accomplish': 468, 'cmagovuk': 1910, 'âglobal': 9942, 'miguel': 5712, 'gomez': 4045, 'manipur': 5516, 'cm': 1908, 'giftcard': 3983, 'clearanc': 1875, 'kiss': 5062, 'meijer': 5639, 'peel': 6587, 'farmincom': 3515, 'preciou': 6887, '9999': 405, 'antimicrobi': 762, 'breach': 1366, '200000': 126, '8000': 373, '330': 230, 'wil': 9687, 'coronaâ': 2259, 'airfar': 595, 'ipa': 4811, 'togetherathom': 8921, 'soften': 8125, 'middleeast': 5699, 'workersâ': 9752, 'chrislhay': 1811, 'ghee': 3975, 'strang': 8445, 'shite': 7898, 'roulett': 7536, 'tonn': 8961, 'reinforc': 7320, 'uncontrol': 9194, 'consumersâ': 2097, 'iraq': 4819, 'kurdistan': 5104, 'bipartisan': 1223, 'thejusticedept': 8798, 'interven': 4783, 'anniversari': 744, 'consumerconfid': 2089, 'vacanc': 9349, 'airbnb': 592, 'stagger': 8297, 'upward': 9306, 'newsupd': 6051, 'scheme': 7711, 'tweep': 9130, 'kilo': 5050, 'pple': 6869, 'looni': 5377, '115': 40, 'complic': 2014, 'fg': 3585, 'divin': 2916, 'heaven': 4323, 'extern': 3443, 'onlineonli': 6297, 'problemat': 6969, 'fedex': 3560, 'stringent': 8467, 'debacl': 2619, 'muchneed': 5885, 'storeâ': 8438, 'dang': 2566, 'âprice': 9974, 'wari': 9529, 'curat': 2499, 'ultra': 9171, 'chore': 1806, 'pocketbook': 6784, 'protectthevulner': 7018, 'mco': 5610, 'inter': 4771, 'peston': 6641, 'focuss': 3709, 'lahor': 5129, 'thisâ': 8838, 'queri': 7130, 'stimuluspackage2020': 8404, 'huffpost': 4502, 'covid2019au': 2370, 'reckless': 7262, 'est': 3319, 'consol': 2072, 'taskforc': 8684, 'yorker': 9859, 'rb': 7215, 'upâ': 9307, 'matthew': 5587, 'hawk': 4283, 'clarif': 1857, 'underground': 9200, 'bunker': 1467, 'utah': 9336, 'telkomza': 8735, 'hotlink': 4468, 'deepen': 2647, 'widen': 9681, 'exam': 3387, 'pacif': 6440, 'âgood': 9944, '9th': 411, 'jesu': 4920, 'script': 7740, 'cambridg': 1543, 'dynam': 3086, 'eco': 3136, 'grade': 4092, 'overpr': 6408, 'bloke': 1259, 'vc': 9375, 'eleven': 3199, 'annual': 748, 'corpgov': 2263, 'mailonlin': 5469, 'covid19pandem': 2354, 'li': 5248, '530': 298, 'democrat': 2695, 'suspici': 8603, 'nonmed': 6117, 'thewalkingdead': 8817, 'latex': 5157, 'housingmarket': 4480, 'europeâ': 3349, 'alexand': 621, 'portland': 6832, 'contributor': 2123, 'carona': 1613, 'linen': 5286, 'instagram': 4745, 'srilanka': 8276, 'lka': 5318, 'clap': 1851, 'canton': 1576, 'hvgoenka': 4535, 'ktrtr': 5099, 'httweet': 4497, 'extract': 3449, 'wth': 9800, 'techforgood': 8709, 'clinton': 1890, 'boast': 1274, 'aaron': 422, 'evidencebas': 3377, 'decor': 2640, 'panel': 6478, 'loav': 5328, 'gent': 3954, 'powder': 6861, 'monger': 5813, 'para': 6496, 'cineplex': 1831, 'tb': 8695, 'superstar': 8557, 'comeback': 1967, 'concert': 2030, 'unchart': 9190, 'territori': 8761, 'diversifi': 2912, '2025': 152, 'revis': 7454, 'cpho_canada': 2404, 'madrid': 5456, 'et': 3325, 'navi': 5975, 'submiss': 8493, 'realtim': 7238, 'winnipeg': 9707, 'mothersday': 5852, 'editor': 3160, '12pack': 54, 'lb': 5184, 'stamped': 8306, 'fmcg': 3700, 'upto': 9304, 'ji': 4928, 'romania': 7521, '21st': 164, 'bandaid': 1032, '08': 12, 'spglobalplatt': 8227, 'paul': 6552, 'lewi': 5243, 'nosed': 6142, '1500': 72, 'vertic': 9405, 'drake': 3011, 'coronavirusscam': 2244, 'creditunion': 2436, 'aswel': 894, 'âturn': 9990, 'platt': 6746, 'argo': 830, 'oversuppli': 6417, 'sophi': 8165, 'madison': 5454, 'bayarea': 1088, 'bang': 1036, 'cocain': 1923, 'fuell': 3873, 'meâ': 5684, 'utterli': 9343, 'â999': 9918, 'clamp': 1850, 'thinkofoth': 8834, 'quebec': 7126, 'minion': 5743, 'grant': 4105, 'newnorm': 6039, 'stink': 8406, 'principl': 6950, 'teamwork': 8704, 'nourish': 6153, 'flavor': 3666, 'healthyfood': 4309, 'cast': 1636, 'strateg': 8448, 'ww2': 9811, 'govofco': 4079, 'demonstr': 2699, 'scientif': 7721, 'courag': 2313, 'cs': 2474, 'wmt': 9729, '77': 357, 'nascent': 5961, 'precari': 6883, 'americaâ': 686, 'sen': 7802, 'superstor': 8558, 'nt': 6170, 'covid19dc': 2334, 'wuhancoronaviru': 9806, 'covid19on': 2349, 'broader': 1409, 'shortterm': 7932, 'careless': 1601, 'oyo': 6433, 'shook': 7905, 'autoimmun': 952, 'township': 8993, 'playground': 6750, 'jami': 4884, 'bandit': 1035, 'applianc': 801, 'indulg': 4677, 'industryâ': 4679, 'pandemi': 6473, 'hseliv': 4493, 'ireland': 4821, 'proce': 6970, 'rome': 7522, 'silverlin': 7981, 'cleanli': 1872, 'congratul': 2056, 'az': 982, 'delinqu': 2680, 'dismal': 2867, 'smarter': 8062, 'unnot': 9255, 'ofâ': 6250, 'fampb': 3499, 'covid19nigeria': 2346, 'storeclosur': 8436, 'mon': 5803, 'overag': 6390, 'hollywood': 4420, 'sp': 8189, 'â7': 9915, 'employeesâ': 3233, 'robot': 7509, 'gen': 3945, 'z': 9886, 'victoria': 9417, '1400': 66, 'johntori': 4950, 'expat': 3414, 'wereallinthistogeth': 9621, 'healthcarework': 4301, 'foodi': 3723, 'govev': 4074, 'wouldnt': 9778, 'shed': 7871, 'reckon': 7263, 'brain': 1355, '24hr': 176, 'weekday': 9594, 'utilis': 9340, 'unveil': 9287, 'stimuluscheck': 8401, 'inhabit': 4713, 'itwir': 4860, 'cio': 1832, 'cdo': 1674, 'royal': 7544, 'incompet': 4644, 'spite': 8240, 'lap': 5145, 'uhuru': 9160, 'stern': 8385, 'coronavirusk': 2225, 'determin': 2758, 'govmurphi': 4078, 'dispensari': 2877, 'reshap': 7390, 'keeper': 5017, 'covidkind': 2391, 'bergamo': 1173, 'cemeteri': 1684, 'morgu': 5834, 'bcpoli': 1110, 'selfdistanc': 7782, 'bookstor': 1300, 'metpoliceuk': 5676, 'unopen': 9256, 'refriger': 7300, 'rear': 7241, 'andrew': 724, 'schoolclosureuk': 7719, 'forexnew': 3766, 'etf': 3329, 'esteem': 3323, 'pj': 6729, 'fastest': 3522, 'cannabisnew': 1569, 'gambl': 3910, 'nl': 6101, 'daniel': 2568, 'coronavirusl': 2227, 'arab': 818, 'cashless': 1634, 'mous': 5861, 'outta': 6386, 'weareinthistogeth': 9569, 'ne': 5990, 'bizarr': 1236, 'trash': 9034, 'shilla': 7891, 'swap': 8612, 'loyal': 5407, 'dishearten': 2863, 'conferenceboard': 2043, 'charact': 1730, 'bco': 1108, 'unload': 9251, 'lesser': 5232, 'scourg': 7733, 'oprah': 6322, 'comfi': 1970, 'curri': 2509, 'cab': 1511, 'nonexist': 6115, 'coviduk': 2394, 'toast': 8908, 'lehman': 5217, 'tokyo': 8943, 'ec': 3131, '2030': 153, 'rage': 7165, 'leagu': 5192, 'pepper': 6608, 'carlo': 1607, 'hose': 4461, 'citru': 1842, 'wefeedy': 9600, 'toh': 8925, 'ka': 4988, 'deodor': 2711, '1300': 59, 'âwhat': 9993, 'bbcyourquest': 1104, 'erupt': 3303, 'moodi': 5825, '2500': 180, 'humankind': 4513, 'swan': 8611, 'âthey': 9986, 'strengthen': 8458, 'johncornyn': 4948, 'preach': 6882, 'foodwast': 3741, 'coronavirusireland': 2221, 'hay': 4284, 'enrich': 3262, 'hesit': 4364, 'consumercentr': 2088, 'southwestair': 8184, 'delta': 2685, 'translat': 9026, 'diminish': 2815, 'cryptocurr': 2472, 'suiss': 8524, 'upgrad': 9295, 'âon': 9967, 'teen': 8717, 'broccoli': 1411, 'nahi': 5941, 'hop': 4451, 'aunt': 930, 'oldest': 6272, 'rampd': 7184, 'dwp': 3084, 'virologist': 9444, 'dobett': 2932, 'randomli': 7190, 'command': 1974, 'irgc': 4822, 'rug': 7559, 'whatsoev': 9645, 'soldout': 8133, 'spam': 8198, 'hillaryclinton': 4386, 'thug': 8867, '7k': 365, 'somewher': 8154, 'parallel': 6501, 'lockdownaustralia': 5341, 'everythingâ': 3372, 'aunti': 931, 'trampolin': 9019, 'freshdirect': 3841, 'monopoli': 5817, 'madmax': 5455, 'unscrupul': 9272, 'nhsengland': 6066, 'mvp': 5920, 'wusa9': 9808, 'specul': 8217, 'powel': 6862, 'unforeseen': 9224, 'dens': 2707, 'cpi': 2405, 'review': 7453, 'obamacar': 6203, 'consolid': 2073, 'pertain': 6636, 'needâ': 6006, 'harri': 4262, 'verg': 9397, 'insult': 4759, 'mug': 5889, 'si': 7958, 'behold': 1146, '30k': 214, 'amen': 681, 'destruct': 2749, 'recession2020': 7259, 'sensand': 7812, 'acid': 479, 'trumpcrash': 9077, 'shaken': 7853, 'profess': 6979, 'cousin': 2319, 'ml': 5773, 'covid19coronaviru': 2333, 'solar': 8130, 'elseâ': 3209, '210': 159, 'assembl': 878, 'textil': 8773, '22nd': 168, 'omfg': 6280, 'availableâ': 959, 'toâ': 8997, 'withâ': 9726, 'âstock': 9978, 'buckwheat': 1441, 'reg': 7305, 'ns': 6166, 'pun': 7065, 'naira': 5944, 'mbuhari': 5604, 'hh': 4367, 'decept': 2632, 'wembley': 9617, 'embarrass': 3214, 'lyon': 5438, '1m': 114, '39': 242, '32': 227, 'anandmahindra': 713, 'withhold': 9722, '2015': 137, 'dotherightth': 2985, 'hiphop': 4391, 'unjustifi': 9242, 'physician': 6686, 'chancellor': 1719, 'angela': 731, 'merkel': 5665, 'roughli': 7535, 'erad': 3295, 'joseph': 4960, 'nip': 6096, 'bud': 1442, 'graph': 4107, 'databas': 2584, 'borrow': 1319, 'height': 4334, 'socialdistancing2020': 8110, 'micro': 5693, 'shopsmal': 7922, 'tsunami': 9100, '7new': 366, 'bundl': 1466, 'desir': 2739, 'fao': 3504, 'dinosaur': 2821, 'modi': 5789, 'drill': 3028, 'janta': 4892, 'acknowledg': 481, 'sum': 8527, 'wto': 9802, 'punch': 7066, 'brew': 1381, 'happili': 4246, 'clash': 1861, 'nhshero': 6067, 'ravag': 7210, 'chinesewuhanviru': 1797, 'goodby': 4050, 'disturb': 2905, '18000': 96, 'manâ': 5527, '97': 400, 'supervalu': 8559, 'keywork': 5038, 'belfast': 1151, 'heartwarm': 4319, 'daily_express': 2548, 'shopnorm': 7912, 'cornwal': 2162, 'fleet': 3671, 'iranian': 4818, 'protest': 7021, 'coincid': 1939, 'positivevib': 6836, 'ampbas': 698, 'bbq': 1105, 'frm': 3853, 'superhero': 8546, 'hardwork': 4258, 'lakh': 5132, 'sept': 7823, 'bolster': 1290, 'penni': 6601, 'dot': 2984, 'kentucki': 5025, 'manger': 5509, '1k': 113, 'tf': 8774, 'exceed': 3390, 'gladli': 3999, 'equal': 3289, 'briefli': 1393, 'machinelearn': 5445, 'capitalist': 1587, 'ritual': 7493, 'blew': 1252, 'squirt': 8274, 'nisa': 6097, 'casual': 1638, 'covod19': 2396, 'cum': 2493, 'nhsworker': 6072, 'syria': 8640, 'snow': 8093, 'classifi': 1865, 'tranquileyes30': 9021, 'harass': 4250, 'marina': 5544, 'deflat': 2663, 'âgt': 9947, 'harrow': 4263, 'narr': 5959, 'va': 9348, 'ppeshortag': 6867, 'thursdaymotiv': 8871, 'savework': 7679, 'immens': 4598, 'disasterprepared': 2840, 'helicopt': 4338, 'ralli': 7176, 'admin': 510, 'teeter': 8719, '450': 271, 'uneduc': 9217, '12p': 53, '52': 296, 'covidtoronto': 2393, 'luzonlockdown': 5433, 'fortnit': 3787, 'lgbtq': 5246, 'trim': 9056, 'covid19russia': 2358, 'ahklivetick': 581, 'bristol': 1399, '69': 333, 'kumar': 5102, 'wireless': 9713, 'coronavirusoutbreakindia': 2238, 'everly_wel': 3364, 'aajtak': 419, 'knee': 5071, 'janatacurfew': 4887, 'counsel': 2296, 'acct': 472, 'ssn': 8281, 'login': 5361, 'password': 6532, 'phisher': 6674, 'coronviru': 2261, 'cv': 2527, 'heav': 4322, 'whichuk': 9660, 'handi': 4231, 'bookmark': 1299, 'il': 4584, 'palestinian': 6461, 'brutal': 1428, 'agenparl': 564, 'covidagenparl': 2384, 'incindia': 4638, 'beep': 1133, 'dailymailuk': 2551, '233': 170, 'headquart': 4293, 'favor': 3532, 'gulf': 4181, 'saudirussia': 7672, 'aluminium': 666, 'alumina': 665, 'ingot': 4710, 'whyâ': 9676, 'gut': 4187, 'churn': 1825, 'horrifi': 4458, 'changer': 1722, 'sharma': 7865, 'alongsid': 651, 'bandana': 1033, 'tack': 8649, 'âcovid19': 9931, 'senatemajldr': 7805, 'intel': 4765, 'senatorburr': 7806, 'burr': 1476, 'donor': 2966, 'resign': 7393, 'australialockdown': 942, 'stayhomecanada': 8350, 'cybersecur': 2534, 'cybercrim': 2532, 'mirror': 5754, 'hyperinfl': 4545, 'digniti': 2811, 'po': 6782, 'maniac': 5512, 'aramco': 821, 'transplant': 9030, 'mildli': 5719, 'confess': 2044, 'sin': 7990, 'jerk': 4918, 'cont': 2101, 'justic': 4981, 'hinder': 4388, '5m': 311, 'crave': 2421, 'jon': 4956, 'consumerprotect': 2095, 'lockdownlondon': 5347, 'undoubtedli': 9215, 'prob': 6966, 'takecar': 8659, 'devil': 2768, 'flashback': 3660, 'childhood': 1780, '186': 99, 'alphabet': 655, 'fizzi': 3652, 'protectyourself': 7019, 'directori': 2829, 'uninterrupt': 9232, 'plexiglass': 6764, 'instrument': 4756, 'melt': 5641, 'vermont': 9401, 'glut': 4019, 'sunni': 8540, 'canal': 1556, 'precovid19': 6891, 'offâ': 6248, 'shipt': 7895, 'birmingham': 1225, 'miseri': 5757, 'euet': 3344, 'steepest': 8376, 'mexico': 5682, 'exhibit': 3405, 'paycut': 6558, 'vice': 9413, 'pakistani': 6459, 'dashboard': 2580, 'malwar': 5495, 'ashokgehlot51': 864, 'busin': 1485, 'atom': 907, 'backissuek': 996, 'tablet': 8648, 'chloroquin': 1800, 'twitch': 9136, 'scamalert': 7690, '48hour': 277, 'eu_commiss': 3341, 'everlywel': 3365, 'ccpa': 1666, 'privaci': 6959, 'stloui': 8409, 'zomatoin': 9894, 'restur': 7417, 'exagger': 3386, 'wt': 9798, 'tht': 8865, 'usher': 9328, 'dig': 2806, 'yard': 9832, 'admir': 513, 'ppp': 6870, 'charter': 1739, 'tougher': 8983, 'basingstok': 1072, 'unleash': 9247, 'controversi': 2125, 'turbo': 9115, 'mifi': 5707, 'gb': 3935, 'willâ': 9695, 'ourâ': 6354, 'businessâ': 1490, 'anâ': 778, 'jen': 4910, '9newsau': 409, 'spreader': 8260, 'thursdaythought': 8872, 'tail': 8655, 'dior': 2822, '572': 303, 'dumbass': 3066, 'counsellor': 2297, 'handbag': 4229, 'rylan': 7580, 'throwback': 8861, 'contest': 2111, 'chemistri': 1762, 'sw': 8608, 'fraction': 3808, 'meaning': 5616, 'qsrmagazin': 7102, 'dragon': 3009, 'ear': 3094, 'muffin': 5888, 'coronavirusnewyork': 2232, 'coronavirusnyc': 2234, 'henri': 4352, 'cannon': 1570, 'indiaâ': 4667, 'bigbox': 1201, 'coronapandem': 2184, 'canuck': 1577, 'megan': 5638, 'comrad': 2025, 'kevin': 5033, 'delic': 2677, 'outperform': 6378, 'abc7': 429, 'ken': 5022, 'vet': 9407, 'pinch': 6712, 'lane': 5143, 'kent': 5024, 'tricki': 9052, 'unstabl': 9278, 'incub': 4651, 'unsettl': 9274, 'canberra': 1558, 'humanitarian': 4512, 'pmmodi': 6779, 'spur': 8267, 'gasbuddi': 3924, 'boycot': 1340, 'selfsuffici': 7792, '420': 267, 'jare': 4898, 'slice': 8039, 'fraser': 3821, 'cf': 1699, 'stricter': 8463, 'pessimist': 6640, 'musk': 5913, 'heist': 4336, 'confront': 2051, 'condemn': 2035, 'laurenthoma': 5170, 'lbc': 5185, 'lauren': 5169, 'trap': 9033, 'motorist': 5858, '199': 107, 'nm': 6102, 'quiltednorthern': 7144, 'dictat': 2791, 'coronavirusfuel': 2211, 'ânecessaryâ': 9962, 'warrior': 9536, 'adexchang': 507, 'earnest': 3100, 'croydon': 2461, 'drawer': 3017, 'wellington': 9613, 'glutenfre': 4021, 'gal': 3904, 'couldv': 2292, 'malaria': 5486, 'reportedli': 7371, 'milkman': 5724, 'luke': 5419, 'creek': 2437, 'fingernail': 3621, 'auckland': 923, 'deterg': 2756, 'handout': 4234, 'grandpar': 4104, 'wi': 9677, 'zombieapocalyps': 9896, 'georgia': 3961, 'split': 8242, 'mi': 5687, 'louisiana': 5398, 'capita': 1585, 'confidenti': 2046, 'gazett': 3934, '40000': 258, 'banner': 1048, 'maskup': 5570, 'allinthistogeth': 640, 'condo': 2038, 'slowdown': 8050, '414': 263, 'aoc': 779, 'ewarren': 3381, 'retailvscorona': 7432, 'roy': 7543, 'firemen': 3630, 'ofcours': 6234, 'bull': 1455, 'firstdayofspr': 3637, 'duncan': 3069, 'ebrahim': 3129, 'patel': 6539, 'forbid': 3754, 'thermomet': 8813, 'etsi': 3339, 'claus': 1867, 'nd': 5988, 'faculti': 3475, 'transunion': 9032, 'btc': 1433, 'dealt': 2614, 'handgel': 4230, 'sunglass': 8539, 'namast': 5947, 'furi': 3889, 'hungari': 4520, 'govmikedewin': 4077, '1930': 103, 'yummi': 9881, 'orlando': 6341, 'afterlif': 553, 'stockpilinguk': 8418, 'slack': 8031, 'hurri': 4527, 'daycar': 2598, 'doctorsnurs': 2936, 'kansa': 5002, 'overflow': 6400, 'nick': 6076, 'newcastl': 6033, 'bulb': 1452, 'dettol': 2762, 'juliahb1': 4973, 'â1': 9904, 'busier': 1483, 'shortliv': 7931, 'cite': 1838, 'bn': 1271, 'amazonâ': 677, 'newsnight': 6045, 'leverag': 5240, 'represent': 7374, 'trick': 9051, 'colruyt': 1958, 'abpnew': 440, 'cabl': 1517, 'socialcar': 8106, 'deloitt': 2684, 'bretbaier': 1380, 'gang': 3915, 'jantacurfew': 4893, 'drum': 3048, 'bend': 1163, 'joy': 4965, 'setup': 7838, 'psych': 7042, 'pickl': 6693, 'disney': 2871, 'unwash': 9289, 'coronainmaharashtra': 2177, 'fairi': 3481, 'environment': 3278, 'kingdom': 5060, 'distress': 2901, 'cage': 1520, 'menac': 5652, 'butâ': 1496, 'plumber': 6771, 'beaten': 1121, 'bollywood': 1289, 'ambassador': 679, 'ce': 1676, '3d': 244, '2013': 135, 'applaus': 799, 'holland': 4419, 'wale': 9504, 'flog': 3682, 'pli': 6765, 'slid': 8040, 'brookshir': 1416, 'scumbag': 7745, 'enorm': 3259, 'framework': 3814, 'cafeteria': 1519, 'colloid': 1950, 'barg': 1054, 'lisa': 5299, 'dick': 2789, 'penal': 6594, 'deduct': 2644, 'govpritzk': 4080, 'picknpay': 6694, 'simon': 7984, 'afar': 538, 'govabbott': 4066, 'compel': 2002, 'dreamt': 3022, 'respit': 7405, 'downgrad': 2996, 'stateâ': 8332, 'unlead': 9246, 'aaa': 418, 'swim': 8624, 'pool': 6811, 'webpag': 9581, '28': 192, '1pm': 116, 'hall': 4211, '8oz': 386, 'gfc': 3971, 'outliv': 6372, 'utmost': 9341, 'tab': 8646, 'usda': 9323, 'brian': 1386, 'deck': 2636, 'length': 5225, 'backbon': 993, 'irvin': 4832, 'sha': 7849, 'swipe': 8627, 'violent': 9439, 'coronavirus2020': 2201, 'sovereign': 8185, 'latam': 5153, 'rishisunak': 7488, 'windfal': 9699, 'naughti': 5972, 'hefti': 4333, '47': 274, 'formal': 3775, 'sparkl': 8203, 'pastor': 6535, 'approx': 808, 'keepsaf': 5018, 'wire': 9711, 'femal': 3574, 'inher': 4715, 'socialmedia': 8116, 'southwest': 8183, 'âweâv': 9992, 'thermal': 8812, 'oilga': 6258, 'dhaka': 2773, 'fck': 3545, 'grim': 4136, 'indispens': 4670, 'mighti': 5709, 'dispers': 2878, 'cofound': 1935, 'immin': 4600, 'merci': 5661, 'nbc': 5979, '2019cov': 143, 'coronavirusitalia': 2223, 'newspick': 6048, 'billgat': 1211, 'tariff': 8681, 'jose': 4959, 'woe': 9731, 'foxbusi': 3804, 'keyword': 5037, 'covid19impact': 2337, 'kerala': 5030, 'fat': 3524, 'churchil': 1824, 'tribut': 9050, 'depth': 2724, 'fab': 3458, 'pult': 7062, 'veteran': 9408, 'kn95': 5070, 'hydro': 4539, 'businessmen': 1487, 'shatter': 7869, 'coronavirusitalianew': 2224, 'elit': 3203, 'â30': 9911, 'pandemia': 6474, 'apt': 815, 'rio': 7481, 'brazil': 1365, 'accuraci': 475, 'rubber': 7554, 'tahini': 8654, 'idioci': 4571, 'essex': 3318, 'phoenix': 6675, 'calmli': 1539, 'cam': 1542, 'gi': 3977, 'viewer': 9425, 'expressnew': 3439, 'covid19outbreak': 2352, 'togetherwecan': 8922, 'âand': 9923, 'safetyfirst': 7602, 'giveback': 3996, 'fcc': 3543, 'middlemen': 5700, 'planner': 6738, 'singh': 7999, 'harsh': 4264, 'te': 8699, 'chinacoronaviru': 1787, 'ccpviru': 1667, 'resal': 7383, 'boutiqu': 1335, 'desinfect': 2738, 'obey': 6205, 'pamybotforex': 6466, 'concession': 2031, 'ian': 4553, 'withdraw': 9721, 'barcod': 1052, 'furlough': 3892, 'git': 3992, 'bollock': 1288, 'lament': 5136, 'ipso': 4814, 'pillow': 6709, 'awak': 973, 'backlash': 997, 'certifi': 1697, 'indi': 4659, 'backward': 1002, 'freeli': 3831, 'hourâ': 4473, 'hat': 4273, 'cor': 2154, 'cram': 2415, 'swarm': 8613, 'backdrop': 994, 'queen': 7128, 'turnip': 9122, 'optim': 6325, 'clearer': 1876, 'fossilfuel': 3794, 'subsidi': 8500, 'attribut': 919, 'seal': 7750, 'dread': 3020, 'samâ': 7631, 'synthet': 8639, 'polym': 6808, 'fiber': 3587, 'skint': 8022, 'divorc': 2918, 'bbcqt': 1101, '1200': 48, 'cruiseship': 2467, 'concret': 2034, 'zoonot': 9902, 'smooth': 8077, 'distort': 2899, 'detroit': 2760, 'microwav': 5695, 'tooth': 8965, 'canist': 1566, 'bow': 1336, 'element': 3197, 'builder': 1450, 'theellenshow': 8793, 'grocerywork': 4148, 'vitaminc': 9461, 'ffp2': 3584, 'offens': 6237, 'moder': 5785, 'gourmet': 4064, 'loudli': 5396, 'harold': 4260, 'hamm': 4218, 'lhfang': 5247, 'contra': 2117, 'supermercado': 8554, 'loblawco': 5331, 'master': 5576, 'diagnost': 2781, 'necessarili': 6000, 'pe': 6573, 'showroom': 7947, 'lover': 5401, 'heed': 4331, 'normanswan': 6132, 'janitori': 4891, 'dayâ': 2602, 'chronicl': 1819, 'quest': 7131, 'liberti': 5253, '71': 347, 'imper': 4611, 'mindset': 5735, 'coronaviruscovid19': 2207, 'familiar': 3495, 'surrey': 8588, 'lincoln': 5284, 'teenag': 8718, 'sneak': 8088, 'whammi': 9642, 'warâ': 9538, 'martinslewi': 5563, 'aâ': 983, 'pei': 6591, 'abuja': 450, 'sober': 8099, 'haggl': 4199, 'automot': 956, 'photographi': 6681, 'venmo': 9389, 'bazaar': 1089, 'blvd': 1270, 'stayposit': 8360, 'mama': 5498, 'scooter': 7726, 'bureaucrat': 1471, 'eejit': 3168, 'river': 7495, 'cashback': 1631, 'wagon': 9496, 'trumpistheworstpresidentev': 9079, 'goldmansach': 4042, 'biofuel': 1219, 'par': 6495, '250000': 182, 'unappreci': 9180, 'ink': 4724, 'nhsthankyou': 6070, '33': 229, 'clariti': 1859, 'stun': 8486, 'oilsand': 6263, 'oilpatch': 6259, 'anthonymac': 755, 'discoveri': 2852, 'recreat': 7273, 'underappreci': 9198, 'therapeut': 8804, 'gr': 4089, 'insolv': 4739, 'statutori': 8336, 'servo': 7832, 'fuelpric': 3874, 'sickleav': 7962, 'cue': 2487, 'globalist': 4011, 'flavour': 3667, 'shine': 7892, 'massachusett': 5573, 'boston': 1321, 'assign': 883, 'cv19': 2528, '1u': 119, 'âsupermarket': 9979, 'sacramento': 7587, 'wrap': 9783, 'metalmin': 5672, 'ador': 517, 'pt': 7045, 'âemerg': 9937, 'merger': 5663, 'proxi': 7036, 'spiritu': 8238, 'lancashir': 5138, 'trumpviruscoverup': 9089, 'retailâ': 7435, 'incent': 4634, 'millionair': 5729, 'jacjac66': 4873, 'spiral': 8236, 'kohl': 5084, 'rave': 7211, 'spiv': 8241, '10am': 27, 'cocoon': 1928, 'aftermath': 554, 'perpetr': 6627, 'jamaica': 4882, 'backsid': 1000, 'fe': 3550, 'crystal': 2473, 'susannareid100': 8597, 'catchup': 1646, 'aud': 925, 'netelixir': 6024, 'goodi': 4051, 'beirut': 1148, '830': 376, 'poop': 6812, 'pharmacyâ': 6661, 'daft': 2546, 'flirt': 3679, 'islam': 4836, 'holi': 4416, 'farmersmarket': 3513, 'buyloc': 1502, 'indonesian': 4673, 'rv': 7573, '1973': 105, '40p': 261, 'â1000': 9907, 'dump': 3068, 'ecb': 3132, 'stabilis': 8288, 'â750bn': 9916, 'pillar': 6708, 'kiwi': 5066, 'covid19induc': 2339, 'wander': 9518, 'germaphob': 3966, 'descend': 2730, 'tanzania': 8676, 'itâd': 4862, 'cgc': 1705, 'domino': 2957, 'halv': 4214, 'ukâ': 9168, 'offshor': 6247, 'yelp': 9843, 'oigetit': 6255, 'wefilterfakenew': 9601, 'georgian': 3962, 'pan': 6467, 'qanta': 7094, 'forti': 3784, 'heroic': 4363, 'reader': 7224, '3dprint': 245, 'toss': 8975, 'tcot': 8698, 'apron': 814, 'dollartre': 2953, '368': 239, 'phrase': 6683, 'cuban': 2485, 'closest': 1898, 'jar': 4897, 'backup': 1001, 'eustic': 3352, 'understaf': 9206, 'stoke': 8420, 'gsa': 4161, 'fking': 3654, 'ultralow': 9172, 'greatli': 4118, 'path': 6542, 'hors': 4460, 'lump': 5422, 'bankofengland': 1044, 'precipit': 6888, '1100': 36, '970': 401, 'defect': 2652, 'qsr': 7101, 'criteria': 2449, 'nigeriaâ': 6085, '311': 222, 'quilt': 7143, 'blanket': 1244, 'whiskey': 9662, 'c4new': 1509, 'zombieland': 9897, 'stewleonard': 8390, 'norwegian': 6140, 'callou': 1537, 'pricehik': 6935, 'versu': 9404, 'bouncer': 1329, 'chap': 1728, 'finnish': 3625, 'showcas': 7944, 'tier': 8879, 'underprivileg': 9204, 'advert': 526, 'lit': 5302, 'matt': 5584, 'tgt': 8776, 'vodka': 9468, 'confisc': 2049, 'salon': 7620, 'repel': 7365, 'hamsteren': 4224, 'hairdress': 4205, 'rancher': 7187, 'cdnecon': 1672, 'ru': 7552, 'squar': 8271, 'batflu': 1079, 'bioweapon': 1222, 'scanner': 7695, 'endless': 3247, 'newest': 6035, 'somewhat': 8153, 'blank': 1243, 'cuddl': 2486, 'concept': 2028, 'shutin': 7954, 'ignit': 4580, 'rotat': 7532, 'remedi': 7344, 'ws': 9796, 'bekindtoeachoth': 1150, 'moneytelegraph': 5812, 'coopuk': 2145, 'costa': 2275, 'disembark': 2858, 'canari': 1557, 'defer': 2657, 'tenant': 8748, '8th': 388, 'grader': 4093, 'automak': 954, 'earner': 3099, 'sg': 7847, 'checkâ': 1754, 'bengal': 1167, 'petco': 6643, 'huddl': 4500, 'experiment': 3423, 'constraint': 2080, 'unawar': 9183, 'dvd': 3081, 'prepay': 6908, '1980': 106, 'montana': 5819, 'p2': 6437, 'dj': 2920, 'walgreen': 9505, 'stumbl': 8485, 'belt': 1159, 'carb': 1594, 'coronaquarantin': 2188, 'hedgehog': 4330, 'taker': 8663, 'sweat': 8615, 'marianosmarket': 5540, 'centric': 1689, 'atta': 909, 'm4a': 5441, 'unrel': 9267, 'bye': 1504, 'gandhi': 3914, 'napkin': 5955, 'fella': 3569, 'infosec': 4700, 'technew': 8710, 'stake': 8301, 'succumb': 8512, 'sri': 8275, 'wouldâv': 9781, 'remotework': 7350, 'westend': 9627, 'elus': 3210, 'dutton': 3080, 'deaf': 2610, 'borisout': 1316, 'jordan': 4958, 'hannaford': 4242, 'fruitveg': 3861, 'borough': 1318, 'nhsstaff': 6069, 'batch': 1078, 'reform': 7297, 'cartridg': 1626, 'newjersey': 6036, 'imf': 4594, 'cautionyespanicno': 1656, '155': 75, 'pti': 7046, 'occident': 6224, 'edmpirg': 3163, 'damonsilv': 2560, 'tweak': 9129, '360': 238, 'unclear': 9192, 'unitedst': 9238, 'nhsuk': 6071, 'forâ': 3792, 'tasti': 8686, 'homestead': 4434, 'rew': 7458, 'stayhomeaustralia': 8349, 'moon': 5826, 'gari': 3920, 'mauritiu': 5590, 'slum': 8053, 'buhari': 1448, 'farmwork': 3516, 'ghanaian': 3974, 'tel': 8721, 'yield': 9849, 'phe_uk': 6664, 'throwbackthursday': 8862, 'tito': 8903, 'diarrhea': 2786, 'lethal': 5235, 'violenc': 9438, 'elain': 3186, 'pc': 6568, 'sterl': 8384, 'withstand': 9725, 'tide': 8876, 'safehand': 7596, 'lyft': 5436, 'strawberri': 8451, 'foto': 3796, 'desd': 2733, 'khan': 5041, 'stakehold': 8302, 'ig': 4577, 'southkorea': 8182, 'vale': 9354, 'supplydemand': 8567, 'bâ': 1506, 'inabl': 4627, 'spotifi': 8255, 'evapor': 3357, 'payout': 6562, 'nhl': 6064, '30day': 213, 'hyper': 4544, 'counselor': 2298, 'auspol2020': 937, '4a': 280, 'stadium': 8292, 'doha': 2948, 'thankfulthursday': 8784, 'compon': 2016, 'senategop': 7804, 'inhous': 4717, 'ev': 3353, 'fertil': 3575, 'leas': 5198, 'filter': 3604, 'unitedkingdom': 9236, 'corrupt': 2270, '500000': 290, 'celeb': 1679, 'airplan': 597, 'naija': 5942, '9ja': 407, 'lago': 5126, 'soft': 8124, '20000': 125, 'disqo': 2884, 'nfl': 6060, 'midtown': 5705, 'biscuit': 1229, 'howâ': 4488, 'uncl': 9191, 'salli': 7618, 'covid19ug': 2363, 'selfi': 7784, 'atmospher': 906, '15hour': 77, 'daddi': 2545, '68': 332, 'grey': 4132, 'bruce': 1423, 'inflationari': 4691, 'updayuk': 9293, 'askebay': 871, 'shud': 7950, 'peg': 6590, 'takeov': 8662, 'nocontact': 6105, 'carter': 1623, 'picoftheday': 6697, 'overwork': 6425, 'smb': 8066, 'rap': 7198, 'kg': 5040, 'qld': 7098, 'swiftli': 8623, 'hai': 4201, 'philip': 6668, 'input': 4730, 'wirbleibenzuhaus': 9710, 'coronakris': 2179, '6â': 340, 'newworldord': 6052, 'injustic': 4723, 'coma': 1962, 'amplifi': 700, 'deport': 2717, 'geez': 3941, 'godrej': 4034, 'patanjali': 6537, 'bowl': 1337, 'kremlin': 5093, 'riyadh': 7497, 'nuclear': 6172, 'thiev': 8830, 'moham': 5793, 'inhof': 4716, 'revok': 7456, 'midday': 5697, 'cr': 2406, 'worn': 9766, 'scandal': 7694, 'twelv': 9132, 'lwc': 5435, 'bumper': 1463, 'shithous': 7900, 'explan': 3428, 'daraz': 2574, 'pineappl': 6713, 'matthewlesh': 5588, 'campbel': 1549, 'â100': 9906, 'hampton': 4222, 'hudson': 4501, 'conscious': 2065, 'prank': 6878, '___': 415, 'animalcrossingnewhorizon': 741, 'graham': 4096, 'ju': 4967, 'x1': 9818, 'comparison': 1999, 'smack': 8056, 'jewel': 4922, 'um': 9173, 'brescia': 1379, 'nurseâ': 6178, '02': 5, 'passport': 6531, 'demon': 2698, 'atiku': 901, 'iso': 4841, 'rona': 7524, 'vuitton': 9488, 'vox': 9482, 'absenc': 443, 'dec': 2627, 'peddl': 6581, '48h': 276, 'sikh': 7975, 'fridaythought': 3846, 'lsjnew': 5410, 'bilbrough': 1209, 'burst': 1477, 'vladimir': 9462, '06': 10, 'wing': 9705, 'replic': 7369, 'teller': 8737, 'laundromat': 5167, 'xx': 9823, 'jobless': 4940, 'prototyp': 7024, 'scarf': 7702, 'tutor': 9124, '200ml': 131, 'rs100': 7549, 'plc': 6754, 'alabama': 603, 'postman': 6846, 'solo': 8140, 'written': 9793, 'indigen': 4669, 'morrisonâ': 5842, 'everytim': 3373, 'sprung': 8266, 'dye': 3085, 'purpl': 7076, 'cornoravirusuk': 2161, 'outofcontrol': 6374, 'asthmat': 891, 'dublin': 3060, 'brandon': 1360, '8m': 385, 'tyson': 9146, 'windsor': 9701, 'poorli': 6817, 'sprout': 8265, 'doubledigit': 2987, 'teamâ': 8705, 'penc': 6597, 'babysitt': 991, 'unchang': 9189, 'buyinghoard': 1500, 'finest': 3618, 'honour': 4446, 'impair': 4609, 'inund': 4792, 'fossil': 3793, 'uninsur': 9231, 'interior': 4776, 'spencer': 8223, 'wrestlemania': 9788, 'worthless': 9775, 'warfar': 9528, 'norway': 6139, 'financialtim': 3614, 'retailstor': 7429, 'retailindustri': 7426, 'groceryindustri': 4144, 'reassess': 7245, 'liquefi': 5296, 'prescrib': 6910, 'han': 4226, 'por': 6822, 'shove': 7942, 'mybmc': 5923, 'qt': 7103, 'safeâ': 7604, 'electricitymarket': 3195, 'ttf': 9101, 'co2': 1918, 'psalm': 7041, 'catalyst': 1642, 'partnership': 6524, 'saudiaramco': 7671, 'geopolit': 3959, 'expedit': 3416, 'loeffler': 5358, 'vow': 9481, 'lifethreaten': 5268, 'dietari': 2800, 'yeast': 9839, 'maldiv': 5491, 'memo': 5648, 'envis': 3279, 'argentina': 829, 'chuck': 1820, 'youllneverwalkalon': 9864, 'republ': 7377, 'whoâv': 9675, 'debut': 2626, 'quietli': 7142, 'cricket': 2441, 'âmi': 9960, 'ottawa': 6349, 'idaho': 4566, 'cma': 1909, 'spotlight': 8256, 'ut': 9335, 'creation': 2427, 'amwrit': 704, 'fridayfeel': 3844, 'fridayvib': 3847, 'grossli': 4152, 'nitril': 6099, 'haram': 4249, 'foodpric': 3729, 'upstream': 9302, 'polar': 6796, 'oliv': 6275, 'align': 628, 'msisodia': 5875, '62': 322, 'retard': 7437, 'rape': 7200, 'nestl': 6022, 'chan': 1717, 'kaduna': 4990, 'craigslist': 2413, 'coronaviruspakistan': 2239, 'shitâ': 7902, 'socialisol': 8114, 'threw': 8852, 'peril': 6619, 'passion': 6529, '2011': 133, 'drain': 3010, 'satisfi': 7660, 'injuri': 4722, 'refresh': 7299, 'prone': 7000, 'visor': 9457, 'crate': 2419, 'cochran': 1924, 'batman': 1083, 'intens': 4768, 'exit': 3408, 'liver': 5311, 'median': 5626, 'penalis': 6595, 'saferathom': 7599, 'rollercoast': 7518, 'editori': 3161, 'mapoli': 5529, 'abid': 435, 'afterhour': 552, 'acnh': 483, 'ethereum': 3331, 'comedian': 1969, 'nebraska': 5997, 'umbrella': 9174, 'trevornoah': 9046, 'outstrip': 6385, 'brighton': 1395, 'percentag': 6612, 'antimalari': 761, 'continent': 2114, '300000': 211, 'thoma': 8840, '401k': 260, 'satir': 7659, 'âkey': 9957, 'togetherâ': 8923, 'congrat': 2055, 'appetit': 796, 'anecdot': 728, 'ugandan': 9156, 'busiest': 1484, 'consumerdriven': 2090, 'remark': 7342, 'customerservic': 2521, 'stunt': 8487, 'cop': 2148, 'coronaviruscrisi': 2208, 'coil': 1936, 'pizzeria': 6728, 'magecart': 5462, 'phenomenon': 6665, 'scottish': 7731, '3900': 243, 'ck': 1847, 'lupu': 5427, 'hydroxychloroquin': 4541, 'stopit': 8430, 'dummi': 3067, 'ponder': 6809, 'artwork': 857, 'greeter': 4128, 'growyourown': 4159, 'dnc': 2929, 'lawn': 5175, 'goldpric': 4043, 'unwant': 9288, 'quaratineandchil': 7119, 'invalu': 4794, '61': 321, 'loosen': 5381, 'tower': 8991, 'rite': 7492, 'riversid': 7496, 'hq': 4489, 'undeni': 9197, 'defi': 2659, 'pie': 6699, 'senatorloeffl': 7807, 'ausgangssperrejetzt': 934, 'ynwa': 9851, 'davido': 2593, 'calockdown': 1540, 'anthem': 753, 'rebecca': 7248, 'seismic': 7776, '15k': 78, 'asx': 895, 'amazonprim': 674, 'matthancock': 5586, 'insurancefraud': 4761, 'healthcarefraud': 4299, 'pursuit': 7080, 'jefferson': 4908, 'tosser': 8976, 'mat': 5578, 'epa': 3281, 'shouldâv': 7939, 'coronavirusinnigeria': 2217, 'integr': 4764, 'nodeal': 6106, 'thick': 8828, 'fragranc': 3811, 'scamsâ': 7692, 'mil': 5716, 'vision': 9454, 'xd': 9821, 'nab': 5937, 'quantit': 7108, 'guru': 4185, 'stone': 8424, 'mankind': 5518, 'â100000': 9908, 'petrifi': 6649, 'mcorkery5': 5611, 'yaffebellani': 9826, 'rachelwharton': 7154, 'champion': 1716, 'amex': 687, 'stayinsid': 8359, 'jame': 4883, 'havefun': 4277, 'pb': 6567, 'whichev': 9659, 'badg': 1009, '1990': 108, 'karen': 5005, 'nightclub': 6088, '74': 351, 'remitt': 7347, 'tighter': 8883, 'crop': 2455, 'ndtv': 5989, 'booth': 1305, 'puertorico': 7057, 'trumpmeltdown': 9082, 'canadacovid19': 1553, 'fabul': 3460, 'gown': 4087, 'rum': 7562, 'climatecrisi': 1887, 'healthylifestyl': 4310, 'oldham': 6273, 'therapist': 8806, 'dougla': 2992, 'internationaldayofhappi': 4778, '1x': 120, 'core': 2155, 'whoop': 9671, 'disregard': 2885, 'channel4new': 1725, 'shambl': 7857, 'garylinek': 3923, 'kungflu': 5103, '4k': 281, 'jumia': 4974, 'fridaymotiv': 3845, 'shoprite_sa': 7920, '20th': 157, '23rd': 172, 'effeclean': 3171, 'delight': 2679, '2m': 200, 'discharg': 2844, 'nhsmillion': 6068, 'covid2020': 2373, 'covid19upd': 2365, 'todo': 8916, 'walker': 9507, 'malawi': 5487, 'isopropyl': 4844, 'tomorrowâ': 8953, 'untouch': 9284, 'experian': 3421, 'und': 9196, 'trail': 9015, 'disposablefacemask': 2881, 'bcoz': 1109, '53': 297, 'teas': 8707, 'quadrupl': 7105, 'scaremong': 7701, 'beam': 1113, 'lifeâ': 5270, 'foodstorag': 3736, 'cocoa': 1927, 'inclus': 4642, 'slope': 8047, 'mingl': 5738, 'victori': 9416, 'brewdog': 1382, 'globaldata': 4008, 'counterpart': 2303, 'chosen': 1808, 'drfauci': 3025, 'aerosol': 535, 'galaxi': 3905, 'coronavirustest': 2246, 'dane': 2565, 'toiletpapi': 8938, 'jane': 4888, 'âall': 9921, 'âconcern': 9927, 'ârememb': 9975, 'propertymarket': 7007, 'genz': 3957, 'horizon': 4455, 'overcharg': 6394, 'unfairli': 9222, 'helmet': 4342, 'gtgtgt': 4167, 'philli': 6670, 'ore': 6334, 'apologis': 788, 'grofer': 4149, 'desi': 2736, 'unprepar': 9261, 'redistribut': 7281, 'weep': 9598, 'hmu': 4403, 'governortomwolf': 4072, 'nap': 5953, 'bbcpolit': 1100, 'usp': 9331, 'derbi': 2727, 'lib': 5250, 'ope': 6313, 'jacket': 4875, 'echo': 3134, 'supermarketcoronaviru': 8549, 'asshat': 881, 'cleanest': 1871, '78': 359, '89': 382, 'dash': 2579, 'salvat': 7623, 'hiv': 4397, 'milleni': 5726, 'essentialservic': 3316, 'cl': 1848, 'ordinari': 6333, 'tuition': 9110, '400000': 259, 'staffer': 8295, 'covid19kenya': 2344, 'kigali': 5047, 'romanc': 7520, 'beneath': 1164, 'coronastopkarona': 2189, 'wareh': 9526, 'weirdest': 9607, 'toiletpaperg': 8933, 'spill': 8233, 'drown': 3043, 'knowingli': 5079, 'benic': 1169, 'coronavirusinsouthafrica': 2220, 'thejeremyvin': 8797, 'staysafeshoponlin': 8362, 'jkenney': 4936, 'limbo': 5280, 'govandybeshear': 4067, 'kindl': 5057, 'wasn': 9547, 'piti': 6722, 'berespons': 1172, 'âone': 9968, 'wifi': 9685, 'stayhomesavel': 8354, 'abdul': 433, 'oblivi': 6208, 'ug': 9154, 'costum': 2279, 'capitol': 1588, 'pier': 6701, 'hancock': 4227, 'sync': 8638, 'neoliber': 6016, 'selfcheckout': 7781, 'plush': 6774, '110': 35, 'fairer': 3480, 'recap': 7253, 'pune': 7067, 'throng': 8857, 'agit': 569, 'frysfoodstor': 3863, 'inspector': 4741, 'marathon': 5531, 'sth': 8392, 'rhetor': 7462, 'anxious': 770, 'gloriou': 4017, 'loser': 5388, 'scotgov': 7728, 'snp': 8094, '4x': 284, 'loud': 5394, 'yahoo': 9827, 'cabinfev': 1516, 'reluct': 7340, 'disguis': 2860, 'workingfromhomelif': 9757, 'carniv': 1610, 'dal': 2555, 'ssp': 8282, 'preston': 6921, 'washhand': 9541, 'lamb': 5134, '50ml': 294, 'bbcwatchdog': 1102, 'dailymail': 2550, 'christchurch': 1814, '2009': 130, 'mtn': 5881, 'saa': 7583, 'politico': 6805, 'haircut': 4204, 'academi': 456, 'etiquett': 3337, 'plug': 6769, 'caption': 1590, 'plaza': 6753, 'lighten': 5273, '58': 304, 'strategist': 8450, 'cotton': 2281, 'livid': 5316, 'laughteristhebestmedicin': 5164, 'poo': 6810, 'bjp4india': 1239, 'videoconferenc': 9420, 'mumâ': 5900, '9new': 408, 'decre': 2641, 'southampton': 8179, 'boat': 1275, 'headset': 4294, 'bingo': 1216, 'instock': 4753, 'bloomberg': 1262, 'lockout': 5355, 'refineri': 7294, 'ein': 3183, 'klopapi': 5068, 'vila': 9428, 'flaw': 3668, 'daunt': 2589, 'permiss': 6624, 'substanc': 8504, 'newyorkstateag': 6056, 'poopchalleng': 6813, 'toiletpaperwar': 8937, 'pricechopp': 6933, 'lpg': 5409, 'cylind': 2537, 'dominicraab': 2956, 'nada': 5938, 'correspond': 2269, 'mypandemicsurvivalplan': 5929, 'dhscgovuk': 2775, 'shopsupermarket': 7923, 'crumbl': 2468, 'refin': 7293, 'outbid': 6356, 'nationalpost': 5966, 'shelvesâ': 7884, 'ray': 7213, 'drzwelimkh': 3050, 'juggl': 4970, 'bourbon': 1333, 'majeur': 5476, 'ali': 624, 'bopi': 1309, 'modest': 5787, 'readili': 7226, 'aveng': 961, 'cmomaharashtra': 1912, 'officeofut': 6240, 'breadlin': 1368, 'handsâ': 4239, 'linkinbio': 5292, 'foodshop': 3734, 'gd': 3937, 'stayhomestaysaf': 8356, 'paperback': 6493, 'pee': 6586, 'wool': 9742, 'fleec': 3670, 'pod': 6785, 'convent': 2128, 'martial': 5561, 'bojo': 1286, 'tannoy': 8674, 'pedophil': 6584, 'sharpli': 7868, 'reject': 7324, 'cvspharmaci': 2529, 'yay': 9833, 'ist': 4849, 'nicolasturgeon': 6079, 'mb': 5601, 'bbcworld': 1103, 'mtnza': 5883, 'safehaven': 7597, 'housepric': 4478, 'retreat': 7440, 'oilwar': 6265, 'promotionalproduct': 6997, '4pm': 282, 'hemp': 4350, 'deleg': 2672, 'coronavtj': 2256, 'heartbroken': 4316, 'webcam': 9577, '25000': 181, 'spreaker': 8261, 'render': 7353, 'servant': 7829, 'sanantonio': 7633, 'bucket': 1438, 'renegoti': 7354, 'shaw': 7870, 'robin': 7506, 'eatathom': 3120, 'ranch': 7186, 'ngo': 6062, 'tmobil': 8906, '_____': 417, 'losangeleslockdown': 5386, 'couch': 2284, 'glasgow': 4001, 'comp': 1994, 'consumertrend': 2098, 'hassl': 4272, 'junior': 4977, 'foodinsecur': 3725, 'nickel': 6077, 'wallpap': 9512, 'plot': 6766, 'vine': 9432, 'resin': 7395, 'handmad': 4233, 'uniform': 9228, 'bleed': 1250, '5g': 307, 'etail': 3326, 'nypost': 6190, 'troop': 9063, 'covid19nl': 2347, 'avid': 968, 'epilepsi': 3287, '225': 167, 'redeploy': 7279, 'economicimpact': 3144, 'nite': 6098, 'disneyland': 2872, 'pessim': 6639, 'milan': 5717, 'unrealist': 9265, 'my_spar': 5921, '15000': 73, 'mutahi': 5918, 'kagw': 4994, 'coronavirusbrasil': 2204, 'generos': 3950, 'detox': 2759, 'hm': 4399, 'dey': 2770, 'den': 2701, 'rearrang': 7242, 'pricey': 6938, 'outofwork': 6376, 'dementia': 2691, '25m': 184, 'checker': 1749, 'âkill': 9958, 'buzz': 1503, 'behaviorâ': 1143, 'stevenmnuchin1': 8387, 'wouldv': 9780, 'coronacrisisuk': 2173, '2pli': 202, '2pm': 203, 'sewer': 7843, 'ke': 5013, 'disconnect': 2848, 'racin': 7156, 'saturdaythought': 7665, 'saturdaymorn': 7663, 'coronachainscar': 2171, 'fought': 3797, 'pg': 6655, 'jnj': 4937, 'cherri': 1766, '2019ncov': 144, 'toiletpaperchalleng': 8930, 'ratio': 7207, '2022': 150, 'nhscovidhero': 6065, 'overdos': 6397, 'techniqu': 8713, 'mtnng': 5882, 'rollback': 7517, 'levi': 5241, 'therebi': 8808, 'instantli': 4749, '9to5mac': 412, 'offend': 6236, 'semblanc': 7798, 'anna': 743, 'damascu': 2558, 'yogi': 9856, 'âhow': 9948, 'leak': 5193, 'particl': 6519, 'shorter': 7928, 'acityunit': 480, 'manutd': 5526, 'manciti': 5505, 'parasit': 6506, 'wwe': 9813, 'taobao': 8677, 'californiaquarantin': 1532, 'flash': 3659, 'whenthisisallov': 9652, 'mckinsey': 5608, 'dent': 2708, 'greec': 4119, 'annuiti': 749, 'culprit': 2490, 'coronavirusinkenya': 2216, 'abhabhattarai': 434, 'turkish': 9118, 'jogger': 4946, 'buyback': 1498, 'solicitor': 8136, 'htt': 4495, 'farc': 3507, 'poetri': 6788, 'knight': 5073, 'quaratinelif': 7120, 'saliva': 7617, 'nih': 6090, 'washyourhandsâ': 9546, 'distant': 2894, 'gif': 3981, 'lockeddown': 5354, 'ac': 453, 'maskhand': 5567, '128': 51, 'tender': 8751, 'quarantineact': 7111, 'rollout': 7519, 'boulevard': 1327, 'tightli': 8884, 'lifebuoy': 5264, 'jai': 4878, 'hind': 4387, 'sec': 7758, 'milton': 5730, 'keyn': 5035, 'cider': 1826, 'poorer': 6815, 'nook': 6123, 'marvel': 5564, 'economictim': 3146, 'âyour': 9997, 'puff': 7058, 'accid': 464, 'newjerseyoag': 6037, 'pushback': 7082, 'outsiz': 6383, 'bruh': 1424, 'bangalor': 1037, '30pm': 218, 'kenney': 5023, 'provinceâ': 7031, 'correctli': 2267, 'fog': 3710, 'android': 726, 'stopandshop': 8428, 'marketbasket': 5548, 'multicultur': 5892, 'woolworths_sa': 9745, 'checkerssa': 1750, 'agric': 575, 'writingcommun': 9792, 'saturdaymotiv': 7664, 'curbedni': 2501, 'cottonel': 2282, 'rbc': 7216, '76': 356, 'ish': 4834, 'âgranâ': 9945, 'emma': 3222, 'homecook': 4425, 'shereenbhan': 7885, 'highend': 4373, 'jackpot': 4876, 'matatu': 5579, 'chennai': 1763, 'remdesivir': 7343, 'oneway': 6288, 'sheriff': 7886, 'covidiot': 2390, 'csa': 2475, '5am': 306, 'solvent': 8143, 'stanley': 8314, 'clueless': 1906, 'vinyl': 9436, 'covid19insa': 2340, 'dart': 2577, 'scarv': 7705, 'govrondesanti': 4081, 'salem': 7616, 'chicagoarea': 1771, 'gamer': 3912, 'hobbi': 4408, 'infrar': 4702, 'japanes': 4896, 'stayhome24in48': 8348, 'cna': 1913, 'deflationari': 2664, 'flushabl': 3696, 'reconcil': 7268, 'doj': 2949, 'herculean': 4356, 'sigh': 7968, 'globalpandem': 4012, 'mothersday2020': 5853, 'lnp': 5323, 'legaci': 5210, 'septemb': 7824, 'halloween': 4212, 'irl': 4825, 'ctsi_uk': 2481, 'tradingstandard': 9010, 'mam': 5497, '30min': 216, 'perspex': 6634, 'grammar': 4099, 'iger': 4579, 'blossom': 1263, 'mold': 5797, 'frail': 3812, 'chriscuomo': 1810, 'undervalu': 9211, 'owen': 6427, 'reus': 7444, 'halfway': 4209, 'webcom': 9579, 'onlinegroceri': 6295, 'argos_onlin': 831, 'easiest': 3106, 'â1bn': 9909, 'gene': 3947, 'foolish': 3744, 'suspicion': 8604, 'blogger': 1258, 'belgian': 1152, 'trumpliespeopledi': 9081, 'unimagin': 9230, 'parodi': 6513, 'groom': 4150, 'hammer': 4219, 'harbour': 4251, 'como': 1993, 'silenc': 7976, '5gtower': 308, 'outing': 6367, 'libertarian': 5252, 'byâ': 1505, 'chickpea': 1775, 'sniffl': 8091, 'chinaliedandpeopledi': 1789, 'picnic': 6696, 'crab': 2407, 'onward': 6308, 'peanutbutt': 6579, '87': 380, 'beverli': 1188, 'descript': 2732, 'firstworldproblem': 3640, 'greenwich': 4126, 'obv': 6217, 'spew': 8226, 'sue': 8517, 'loweâ': 5405, 'walmartâ': 9516, '50k': 292, 'io': 4806, 'strongertogeth': 8473, 'livesâ': 5315, 'canva': 1578, 'qampa': 7092, 'clapforourcar': 1855, 'browser': 1422, 'comm': 1973, 'drunk': 3049, 'oat': 6200, 'restroom': 7415, 'onlinebusi': 6293, 'mammoth': 5499, 'ketchup': 5031, 'governorva': 4073, 'competitor': 2006, 'âmore': 9961, 'dankmem': 2573, 'sickâ': 7963, 'dominos_uk': 2958, 'incarcer': 4632, 'sandpap': 7639, 'suv': 8606, 'dismantl': 2868, 'kilomet': 5051, 'overdu': 6399, 'kirana': 5061, 'unafford': 9179, 'pubsclos': 7054, 'perth': 6637, 'neglect': 6008, 'jharkhand': 4926, 'bazar': 1090, 'paradis': 6499, 'economiccrisi': 3143, 'dank': 2572, 'goat': 4029, 'fro': 3854, 'jewelosco': 4923, 'debenham': 2622, '3pli': 248, 'shi': 7888, 'combo': 1965, 'tenfold': 8752, 'inquiri': 4732, 'chidinmaekil': 1776, 'pricelessaycal': 6936, 'ir': 4816, 'divert': 2913, 'jolli': 4955, 'hv': 4533, 'coronaupdatesinindia': 2194, 'panama': 6469, 'pete': 6644, 'frontlinework': 3858, 'overtak': 6418, 'astound': 892, 'getmepp': 3969, 'hvac': 4534, 'worthi': 9774, 'coronac': 2170, 'pirat': 6719, 'surgicalmask': 8582, 'snapchat': 8085, 'wilder': 9689, 'trustworthi': 9094, 'porsch': 6825, 'quaratin': 7118, 'acquisit': 485, 'templ': 8741, 'constitut': 2078, 'graviti': 4114, 'newyorklockdown': 6055, 'sme': 8067, 'baltimor': 1028, 'payback': 6556, 'vera': 9394, 'eerili': 3170, 'pip': 6716, 'auchan': 922, 'yemen': 9844, 'marin': 5543, 'tantrum': 8675, 'alpha': 654, 'vodafoneuk': 9467, 'saturdayvib': 7666, 'âcovid19â': 9932, 'starwar': 8325, 'primevideo': 6946, 'defenc': 2653, 'commenc': 1975, 'interst': 4782, 'glimps': 4005, 'âcritic': 9933, 'telanganacmo': 8723, 'telangana': 8722, 'ding': 2819, 'dong': 2965, 'ditch': 2906, 'duke': 3064, 'personalfin': 6631, 'naiva': 5946, '299': 194, 'fisheri': 3644, 'lionelrichi': 5294, 'toughest': 8984, 'moh_kenya': 5792, 'ausgov': 935, 'deceiv': 2629, 'washabl': 9540, 'senschum': 7813, 'token': 8942, 'fdic': 3549, 'clog': 1894, 'oilse': 6264, 'barronsonlin': 1062, '6082748199': 319, 'karachi': 5004, 'resolut': 7397, 'maskshortag': 5569, 'samsung': 7630, 'div': 2907, 'indiafightcorona': 4661, 'connecticut': 2061, 'moistur': 5795, 'deferr': 2658, 'contractor': 2119, 'ref': 7289, 'kyli': 5109, 'jenner': 4912, 'unjust': 9241, 'mosquito': 5848, 'implor': 4616, 'barr': 1057, 'effortlessli': 3175, 'dorset': 2982, 'covid_19sa': 2379, 'lockdownuknow': 5353, 'ineffici': 4681, 'messeng': 5669, 'samsclub': 7629, 'pandemic2020': 6475, 'frack': 3807, 'croozefmnew': 2454, 'ncr': 5987, 'unicorn': 9227, '19australia': 110, 'ncdcgov': 5984, 'jidesanwoolu': 4929, 'savlon': 7680, 'nwo': 6184, 'karnataka': 5007, 'outlaw': 6369, 'ksa': 5098, 'qr': 7100, 'stfu': 8391, 'griev': 4134, '621': 323, 'covid_19australia': 2375, 'busch': 1478, 'kagutamuseveni': 4993, 'sticker': 8394, 'gouger': 4063, 'loui': 5397, 'pvt': 7086, '03': 6, 'ibadan': 4554, 'tee': 8716, 'womenâ': 9735, 'lavend': 5172, 'mueller': 5886, 'sundaythought': 8538, 'coronavirustip': 2248, 'maiz': 5475, 'payrol': 6564, 'dual': 3057, 'janeruth_aceng': 4889, 'pride': 6940, 'tesconew': 8766, 'spici': 8231, 'tamil': 8670, 'nadu': 5939, 'coronaupd': 2192, 'theview': 8816, 'necessaryâ': 6001, 'reap': 7240, 'qatarairway': 7096, 'walkthrough': 9509, 'nanni': 5952, 'tattoo': 8688, 'usconsum': 9321, 'setback': 7835, 'inocul': 4728, 'steer': 8377, 'hobbylobbi': 4409, 'flattenthecuv': 3665, 'jay': 4901, 'ohiolockdown': 6254, 'alcoholbas': 613, 'antitrust': 764, 'oo': 6310, 'sew': 7841, 'alo': 647, 'poker': 6794, 'hull': 4508, 'brewer': 1383, 'dwnew': 3083, 'holidaymak': 4418, 'covid_19india': 2376, 'coronaupdatesindia': 2193, 'troy': 9066, 'dir': 2824, '0300pm': 7, 'kalli': 4997, 'khoelcher': 5042, 'gmail': 4024, 'goodyear': 4054, 'coldwellbank': 1942, '2692408824': 187, 'avondal': 970, 'buckey': 1439, 'coronaaustralia': 2168, 'âgo': 9943, 'reiter': 7323, 'papa': 6491, 'ea': 3090, 'repriev': 7375, 'intro': 4789, 'newstart': 6050, 'advent': 523, 'calendar': 1526, 'stayathomesavel': 8342, 'affluent': 543, '111': 38, 'wegman': 9602, 'variabl': 9369, 'coronavãru': 2257, 'anheuserbusch': 736, '165': 83, 'fisher': 3643, 'inept': 4682, 'witch': 9720, 'sundaymotiv': 8537, 'federalreserv': 3559, 'dkk': 2924, 'uklockdownnow': 9165, 'âafter': 9920, 'cgiar': 1706, 'greenvil': 4125, 'livestock': 5313, 'ecosystem': 3151, 'jammu': 4885, 'itc': 4854, 'photograph': 6680, 'streetphotographi': 8456, 'coronavirã¼': 2255, 'mirza': 5755, 'clientel': 1883, 'handsoap': 4238, 'asparagu': 873, 'betti': 1185, 'barber': 1050, 'ben': 1160, 'social_distanc': 8105, 'gofundm': 4036, 'toiletpapermem': 8934, 'salman': 7619, 'junki': 4979, 'dailyn': 2552, 'valentin': 9355, '15m': 79, 'puppi': 7070, 'countrysid': 2309, 'jacindaardern': 4872, 'thali': 8781, 'pipelin': 6718, 'sundaymorn': 8536, 'mcconnel': 5605, 'waterston': 9554, 'bangaloremirror': 1038, 'fifti': 3591, 'talkradio': 8667, 'thrift': 8853, 'panda': 6471, 'basement': 1068, 'strap': 8447, 'momâ': 5802, 'bouquet': 1332, '09': 15, 'wey': 9633, 'copolit': 2152, 'mississauga': 5764, 'mega': 5637, 'lobster': 5333, 'lockdownsouthafrica': 5351, 'jeffreestar': 4909, 'potti': 6855, 'gag': 3902, 'scapegoat': 7696, 'âan': 9922, 'disloc': 2866, 'navarro': 5973, 'fart': 3517, 'lion': 5293, 'reelect': 7287, 'ninja': 6094, 'closet': 1899, 'npdgroup': 6163, '41oz': 265, '48oz': 278, 'uv': 9344, 'violet': 9440, 'magnitud': 5464, 'tart': 8682, 'friendship': 3851, 'memesdaili': 5647, 'softer': 8126, 'jimmykimmel': 4934, 'jimmyfallon': 4933, 'expo': 3433, 'bsybjp': 1431, 'outlast': 6368, '2040': 154, 'âcan': 9926, 'yup': 9882, 'steward': 8389, 'pinella': 6714, 'tomilahren': 8951, 'understood': 9208, 'famin': 3497, 'whack': 9641, 'bandanna': 1034, 'standardnew': 8312, 'trickl': 9053, 'candl': 1563, 'protection': 7016, 'itccorpcom': 4855, 'sitrep': 8007, 'cartel': 1622, 'superspread': 8556, 'monument': 5823, 'wetherspoon': 9631, 'spgmarketintel': 8228, 'motherâ': 5854, 'occasion': 6223, 'anderson': 719, 'plumb': 6770, 'offpeak': 6245, 'orlean': 6342, 'retailtech': 7430, 'wider': 9682, 'ancestor': 715, 'fishermen': 3645, 'consecut': 2066, 'sear': 7752, 'toe': 8917, 'videogam': 9421, 'coronaviruslockdown': 2228, '60ml': 320, 'usacoronaviru': 9318, 'attorneygener': 917, 'conferenc': 2042, 'tall': 8668, 'bakersfield': 1022, 'tongu': 8956, 'alexa': 620, 'msp': 5878, 'obsolet': 6214, 'verb': 9395, 'forest': 3763, 'carol': 1611, 'rex': 7461, 'drank': 3014, 'sanitz': 7648, 'seashel': 7754, 'soccer': 8103, 'sona': 8156, 'simpler': 7986, 'covid_19nz': 2377, 'seminar': 7801, 'album': 611, '15gb': 76, 'tpci': 8999, 'mondaythought': 5809, 'lockdownnz': 5349, 'kia': 5043, 'rubl': 7557, 'hemantsorenjmm': 4349, 'anand': 712, 'drip': 3030, 'expend': 3417, 'heap': 4311, 'covidactnow': 2383, 'zambia': 9888, 'sara': 7654, 'forrest': 3780, 'lockdownnow': 5348, '12th': 56, 'covididiot': 2388, 'speedi': 8221, 'wfp': 9639, 'infra': 4701, 'sheffield': 7876, 'overse': 6412, 'rife': 7475, 'diverg': 2909, 'northam': 6134, 'stayathomeord': 8341, 'democratsaredestroyingamerica': 2696, 'mondaymorn': 5806, 'potent': 6853, 'cp': 2401, 'thinkwithgoogl': 8835, 'antonio': 766, 'mia': 5688, 'ebeano': 3126, 'lekki': 5220, 'âcould': 9930, 'pleaseâ': 6760, 'seinfeld': 7775, 'lockdownsa': 5350, 'apr': 811, 'albertan': 609, 'buffet': 1446, 'coimbator': 1937, 'dmart': 2926, 'undertaken': 9210, 'insulin': 4758, 'rakamoto': 7174, 'blu': 1266, 'canteen': 1575, 'eur': 3345, 'templat': 8742, 'olymp': 6276, 'ont': 6304, 'agbecerra': 560, 'hed': 4328, '24th': 177, 'deforest': 2665, 'pummel': 7063, 'sticki': 8395, 'cdt': 1675, 'âpeopl': 9972, 'alumni': 667, 'vape': 9366, 'cannabiscommun': 1568, 'miracl': 5753, '81': 374, 'teeth': 8720, 'mafia': 5457, 'hydcitypolic': 4537, 'manpow': 5522, 'outreach': 6381, 'defenseproductionact': 2656, 'bidder': 1197, 'diff': 2801, 'flatteningthecurv': 3663, 'workerâ': 9753, 'moreov': 5831, 'slaughterhous': 8036, 'ol': 6269, 'covid19respons': 2357, 'popup': 6821, 'hood': 4447, 'mondaymotivaton': 5808, 'fortifi': 3785, 'dub': 3058, 'yoda': 9853, 'netflixth': 6026, 'kot': 5089, 'mondaymood': 5805, 'becerra': 1126, 'imhotep': 4595, 'somalia': 8144, 'housewar': 4479, 'homeworld': 4437, 'ancillari': 718, 'datadriven': 2585, 'infus': 4706, 'retaillif': 7427, 'clipper': 1892, 'channel4': 1724, 'nb': 5977, 'hog': 4411, 'mitch': 5767, 'shithol': 7899, 'countriesâ': 2307, 'biolog': 1220, 'unitedn': 9237, 'banksâ': 1047, 'vend': 9385, 'parson': 6514, 'therona': 8814, 'deadliest': 2608, 'spade': 8194, 'dealership': 2613, 'josh': 4961, 'mcm': 5609, 'uvc': 9345, 'mai': 5466, 'funnymem': 3888, 'datasci': 2586, 'hyd': 4536, 'nclc4consum': 5986, 'ozon': 6435, 'gmt': 4026, 'ecom': 3138, 'mgmt': 5686, 'syrian': 8641, 'bearish': 1117, 'disastr': 2842, 'formul': 3778, 'coronawarrior': 2258, 'telanganadgp': 8724, 'ingest': 4709, 'agro': 578, '315': 223, 'hotchick': 4465, 'badasswoman': 1008, 'dirtypeopl': 2833, 'socialdistancingâ': 8112, 'healthcarehero': 4300, 'onlinemarket': 6296, 'wef': 9599, 'businessinsid': 1486, 'droz': 3044, 'financialxpress': 3615, 'versova': 9403, 'supermarketmag': 8550, 'authoris': 949, 'spar': 8200, 'defraud': 2666, 'stoolpresident': 8426, 'dakota': 2554, 'wig': 9686, 'conveyor': 2131, 'arkansa': 838, 'agribusi': 574, '202': 145, 'gocoronago': 4030, 'asiapacif': 867, 'nigga': 6086, 'oilproduc': 6262, 'ecuador': 3153, 'ccp': 1665, 'icliniq100hr': 4560, 'ethyl': 3335, 'pierc': 6702, 'chevron': 1768, 'museveni': 5910, 'tireless': 8898, 'torch': 8969, 'primer': 6945, 'narendra': 5957, 'warrenton': 9535, 'codi': 1931, 'pfister': 6654, 'outer': 6362, 'dnd': 2930, 'aquarium': 816, 'machineri': 5446, 'gianteagl': 3979, 'jeremyphoward': 4917, 'sportsdirect': 8252, 'boycottsportsdirect': 1344, 'nanci': 5951, 'daca': 2543, 'notdying4wallstreet': 6146, 'villain': 9431, '18003514889': 98, 'lagov': 5127, 'telecommun': 8727, 'emir': 3220, 'gurugram': 4186, 'hantaviru': 4243, 'factbox': 3471, 'coronapandemi': 2185, 'sy': 8632, 'phosphat': 6678, 'ntuc': 6171, 'didiza': 2792, 'lynn': 5437, 'desktop': 2741, 'cfa': 1700, 'angl': 733, 'mustread': 5917, 'finalis': 3609, 'forbear': 3753, 'cargil': 1604, 'agrisa': 577, 'webberwentzel': 9576, 'uncov': 9195, 'adag': 498, 'dia': 2777, 'thecount': 8792, 'impost': 4621, 'outhous': 6366, 'timeofus': 8891, 'succeed': 8510, 'usnew': 9330, 'incorpor': 4647, 'yahoofin': 9828, 'covid19pakistan': 2353, 'cigar': 1827, 'cornaviru': 2157, 'authent': 947, 'nomoney': 6111, 'âdemand': 9934, 'indialockdown': 4664, 'crown': 2460, 'ryan': 7578, 'printer': 6952, 'nzherald': 6195, 'conquer': 2062, 'bahrain': 1015, 'spoil': 8243, 'dave': 2590, 'footwear': 3750, 'sportsdirectuk': 8253, 'flout': 3689, 'howeic': 4485, 'activist': 490, 'covid19out': 2351, 'staysafeug': 8364, '21dayslockdown': 163, 'omdia': 6279, 'myanmar': 5922, 'thenewnorm': 8802, 'string': 8466, 'swoop': 8631, 'erect': 3298, 'narrow': 5960, 'allen': 635, 'amazonsmil': 675, 'olgakhazan': 6274, 'ballard': 1027, 'spahr': 8196, 'yahoonew': 9829, 'calam': 1524, 'newsroom': 6049, 'ux': 9346, 'aapl': 421, 'sk': 8012, 'wireduk': 9712, 'coronavi': 2196, 'emi': 3218, 'socialmediamarket': 8117, 'realestatenew': 7230, 'quiz': 7147, 'poem': 6787, 'cfi': 1702, '11000': 37, 'bicycl': 1195, 'mason': 5571, 'tha': 8778, 'psychologist': 7044, 'kwh': 5106, 'iodin': 4807, 'mycovidstori': 5924, 'workstream': 9760, 'hrtech': 4491, 'arguabl': 833, 'iam': 4552, 'enfield': 3251, 'subsidis': 8502, 'ncdc': 5983, 'detaine': 2752, 'esg': 3307, 'trumpliesamericansdi': 9080, 'stipend': 8407, 'masks4al': 5568, 'markup': 5557, 'cha': 1707, 'coronaviruslockdownuk': 2229, '21daylockdown': 162, 'waitlist': 9498, 'g20': 3900, 'mena': 5651, 'mandi': 5508, 'galway': 3908, 'doorknob': 2978, 'dth': 3054, 'yen': 9845, 'hayfev': 4285, 'enca': 3241, 'consumer_cel': 2085, 'davidndii': 2592, 'âcough': 9929, 'ecopi': 3150, 'napa': 5954, 'ladoj': 5123, 'laleg': 5133, 'afyarekod': 557, 'healthtech': 4305, 'falcon': 3487, 'rotorua': 7533, 'beekeep': 1132, 'anchor': 716, '709': 345, 'r102m': 7150, 'ethiopia': 3333, 'denatur': 2702, 'outweigh': 6387, 'obrien': 6210, 'mol': 5796, 'poland': 6795, 'remodel': 7348, 'misguid': 5759, 'femail': 3573, 'spacex': 8193, 'unsurprisingli': 9281, 'retailweek': 7433, '201920': 142, 'sunbath': 8534, 'reinvest': 7321, 'irrit': 4831, 'quarantinethought': 7117, 'overvalu': 6421, 'prowl': 7035, 'umich': 9175, 'ftcscambingo': 3867, 'stimulusplan': 8405, 'roundtabl': 7538, 'kamloop': 4998, 'suntim': 8542, 'cornel': 2159, 'unneed': 9254, 'abudhabi': 449, 'arabnew': 820, 'nclc': 5985, 'vest': 9406, 'incentiv': 4635, 'dnr': 2931, 'promptli': 6999, '16m': 84, 'pi': 6687, 'âconsist': 9928, 'overpricingâ': 6409, 'cottoninc': 2283, 'pd': 6570, 'weareallinthistogeth': 9566, 'eras': 3296, 'anger': 732, 'policemen': 6799, 'galleri': 3906, 'lockdown21': 5340, 'sap_cx': 7652, 'yu': 9880, 'purchaselimit': 7072, 'wellmean': 9614, 'exw': 3452, 'stimulusbil': 8400, 'cycleway': 2536, 'pedestrian': 6582, 'revel': 7450, 'economyâ': 3149, 'cest': 1698, 'zinc': 9893, 'todd': 8914, 'ogun': 6251, 'overview': 6422, 'heretohelp': 4359, 'fixturescloseup': 3651, 'koboko': 5083, 'chainâ': 1711, 'assam': 876, 'overus': 6420, 'gartnermktg': 3922, 'expertis': 3425, 'orphan': 6343, 'thankyounh': 8786, 'easyfundrais': 3116, 'schneider': 7714, 'highqual': 4378, 'waiver': 9501, '70000': 344, 'fightagainstcoronaviru': 3593, 'innoc': 4726, 'iot': 4809, 'americanbusi': 685, 'baselin': 1067, 'powerbal': 6864, 'slaughter': 8035, 'ethylen': 3336, 'subsaharan': 8495, 'passag': 6527, '20k': 156, 'creditchat': 2434, 'forresterâ': 3781, 'dean': 2615, 'gtbank': 4165, 'trumppressconf': 9086, 'sykescottag': 8634, '14000': 67, 'royalti': 7546, 'esteelaud': 3322, 'cityâ': 1843, 'superb': 8545, 'staywok': 8368, 'coronahoax': 2175, 'amway': 703, 'dhirajson': 2774, 'chinaflu': 1788, 'muscl': 5906, 'ordernow': 6332, 'globaltrad': 4013, 'mba': 5602, 'streetart': 8455, 'propylen': 7011, 'muhyiddinyassin': 5890, 'authackeray': 946, 'stayhomeindia': 8352, 'nonfood': 6116, 'firesal': 3631, '07': 11, 'sidelin': 7965, 'howto': 4487, 'composit': 2018, 'feedstock': 3564, 'maxwel': 5594, 'weren': 9623, 'realti': 7237, 'ecigarett': 3135, 'libya': 5255, 'slight': 8042, 'filtrat': 3607, 'mrjamesob': 5870, 'pradesh': 6876, '45000': 272, 'samestor': 7626, 'smartnew': 8063, 'âbecaus': 9925, 'mariannahunt5': 5538, 'biweekli': 1234, '100ml': 23, '205': 155, 'partit': 6522, '12000': 49, 'emergesmart': 3217, 'intimid': 4787, 'fairpric': 3483, 'myogiadityanath': 5928, 'tucker': 9104, 'mansion': 5523, '83': 375, 'ariel': 835, 'makind': 5484, 'appalachian': 791, '35k': 236, 'housekeep': 4477, 'jeddah': 4905, '35000': 235, 'stroll': 8470, 'goddess': 4033, 'vapor': 9367, 'autonom': 957, '1newsnz': 115, 'coronavillain': 2198, 'policymak': 6801, 'clapfornh': 1854, 'gfk': 3972, 'infograph': 4698, 'sup': 8543, 'payday': 6559, 'lancast': 5139, 'clapforcar': 1852, 'coronavirusoubreak': 2236, 'krg': 5094, 'clapforthenh': 1856, '202021': 148, 'foodsystem': 3740, 'coronalockdown': 2180, 'hoodi': 4448, 'covidalert': 2385, 'vanr': 9365, 'coronaviruskenya': 2226, 'codvid19': 1932, 'nairobi': 5945, 'sharpest': 7867, 'scmpnew': 7723, 'ms': 5873, 'latino': 5160, 'complimentari': 2015, 'daytoday': 2601, 'twitterkurd': 9138, 'lga': 5245, 'ilorin': 4589, 'raymond': 7214, 'chinesevirus19': 1796, 'ana': 706, 'marketingweek': 5552, 'wearamask': 9565, 'cottag': 2280, 'healthtip': 4306, 'demandsid': 2689, 'seanhann': 7751, 'cerb': 1692, 'tote': 8979, 'pmg': 6777, 'stayawarestaysaf': 8343, '86': 379, 'rpa': 7547, 'isolationlif': 4843, 'persuad': 6635, 'onethird': 6287, '2012': 134, 'ababank': 424, 'feud': 3578, 'asleep': 872, 'boycottvodafon': 1345, 'd2c': 2541, 'constrain': 2079, 'coronalockdownuk': 2181, 'boycottchina': 1342, 'stayathomeandstaysaf': 8339, 'reprogram': 7376, 'faceshield': 3464, 'holdchinaaccount': 4413, 'riskâ': 7491, 'schmele': 7712, 'coronavirustruth': 2250, 'crowdsourc': 2459, 'airtravel': 599, 'packageholiday': 6443, 'bride': 1389, '20200nm': 147, 'thefca': 8794, 'fca': 3540, 'abc7ni': 431, 'foodmanufactur': 3727, 'nrfnew': 6165, 'thelockdown': 8799, 'postpandem': 6849, 'humanli': 4514, 'hulu': 4509, 'malwarebyt': 5496, 'faulti': 3530, 'harper': 4261, 'crainsdetroit': 2414, 'pti_new': 7047, 'bst': 1430, 'caresact': 1603, 'threeuk': 8850, 'rival': 7494, 'sourcingjourn': 8175, 'homepric': 4432, 'dole': 2950, 'dropship': 3040, 'corps': 2265, 'exxon': 3453, 'peterpsquar': 6647, '73': 349, 'wearer': 9571, 'healthday': 4302, '50m': 293, 'traceabl': 9003, 'wearin': 9573, 'winer': 9703, 'âsurviv': 9980, 'modeâ': 5788, '1950': 104, 'keyworkerhero': 5039, 'beatcovid19': 1120, 'tpm': 9000, 'precoronaviru': 6890, 'socioeconom': 8120, 'binmen': 1217, 'qqq': 7099, 'ahm': 582, 'lumber': 5421, 'upbeat': 9290, 'glenn': 4004, 'truce': 9067, 'armor': 842, 'zoomupyourlif': 9901, 'pmi': 6778, 'muscottbrown': 5907, 'guinea': 4180, 'clapforkeywork': 1853, 'stainless': 8299, 'lilli': 5279, '____': 416, 'posti': 6845, 'bpd': 1348, 'elmhurst': 3205, 'trumppressbrief': 9085, 'jst': 4966, 'flare': 3658, '27yearold': 191, 'profitero': 6984, 'superpow': 8555, 'naturalga': 5971, 'tsla': 9099, 'postag': 6839, 'dailybrief': 2549, 'apnea': 783, 'chad': 1708, 'fraudprevent': 3823, 'benzen': 1171, 'adulter': 520, 'kno': 5075, 'bench': 1161, 'lighter': 5274, 'firsthand': 3638, 'soy': 8187, 'tuckercarlson': 9105, 'day8oflockdown': 2597, 'reit': 7322, 'gdcampaign': 3938, 'grubhub': 4160, 'â325': 9912, 'baruch': 1064, 'feldheim': 3567, 'litig': 5305, 'kmart': 5069, 'interestingli': 4774, 'protectthenh': 7017, 'ownership': 6431, 'irrelev': 4829, 'dissemin': 2888, 'palli': 6463, 'resurrect': 7421, 'midmarch': 5702, 'compris': 2021, 'economicslowdown': 3145, 'arrow': 848, 'kim': 5052, 'marriag': 5559, 'exosom': 3410, 'fitch': 3647, 'anxietydriven': 768, 'debbi': 2621, 'washlit': 9544, 'biggestev': 1204, 'solidaritywithhospit': 8139, 'coveryourfac': 2324, 'soil': 8128, 'rahulgandhi': 7166, 'supervisor': 8561, 'vodafonegroup': 9466, '30moreday': 217, 'snyder': 8095, 'djdabotrabo': 2922, 'pud': 7055, 'firestick': 3632, 'webrymedia': 9582, 'keir_starm': 5020, 'pavement': 6554, 'quarantinediari': 7115, 'adot': 518, 'ayurvedsoci': 981, 'distancingcleanli': 2892, 'foodavoid': 3718, 'northland': 6137, 'wena': 9619, 'mylan': 5927, 'fractur': 3809, 'eliquid': 3202, 'vshape': 9487, 'dissip': 2889, 'rapaport': 7199, 'brandsâ': 1361, 'beautynew': 1123, 'surgeon': 8579, 'rubi': 7556, 'princess': 6948, 'athabasca': 898, 'mitchellvii': 5768, 'std': 8369, 'thaw': 8788, 'palm': 6464, 'starter': 8321, 'eminem': 3219, 'viruss': 9450, 'postcovid': 6842, 'pct': 6569, 'cougher': 2286, 'palmsunday': 6465, 'apex': 782, 'kaikoh': 4995, 'sinceivebeenquarantin': 7992, 'bridport': 1391, 'lockdowneffect': 5343, 'jenkin': 4911, 'stayhomesa': 8353, 'gcc': 3936, 'exxonmobil': 3454, 'novarti': 6155, 'ppv': 6871, 'skid': 8015, 'largo': 5150, 'leilani': 5218, 'dismay': 2869, 'scarsdal': 7704, 'voxdotcom': 9483, 'anantapur': 714, 'allstat': 643, 'bj': 1237, 'unb': 9184, 'safeathom': 7594, 'lda': 5186, 'kri': 5095, 'healthyathom': 4308, 'quarantinebirthday': 7113, 'sterilis': 8383, 'cong': 2053, '172': 90, 'officialpdpnig': 6243, 'militia': 5722, 'youthl': 9870, 'tohoku': 8926, 'yangon': 9831, 'boc': 1277, 'aaltounivers': 420, 'workbook': 9750, 'redefin': 7278, 'dunkindonut': 3070, 'contango': 2108, 'huntsman': 4526, 'tiger': 8880, 'stroke': 8469, 'differenti': 2803, 'inflect': 4692, '23andm': 171, 'deb': 2618, 'canibrand': 1564, 'echl': 3133, 'canicleans': 1565, 'len': 5222, 'panelist': 6479, 'rewrot': 7460, 'gupta': 4184, 'marico': 5541, 'worldhealthday': 9762, 'z011322': 9887, 'danieldumbril': 2570, 'dha': 2772, 'wtop': 9803, 'ipo': 4813, 'tata': 8687, 'worldhealthday2020': 9763, 'gambia': 3909, 'uranium': 9309, 'giftor': 3984, 'thoughtsmi': 8844, '7eleven': 364, 'demystdata': 2700, 'externaldata': 3444, 'fuelupd': 3875, 'stagnant': 8298, 'elast': 3187, 'halifax': 4210, '7year': 369, 'refug': 7301, 'geltwo': 3943, 'indu': 4675, 'financialbrand': 3612, 'mikequindazzi': 5715, 'espn': 3311, 'mopani': 5827, 'essentialcommod': 3315, 'deckâ': 2637, 'secreci': 7761, 'africaautoinsight': 550, 'notari': 6145, 'lockdownextens': 5345, 'soc': 8101, 'alibabagcfr': 626, 'marketingd': 5550, 'titosvodka': 8904, '416': 264, 'chandler': 1720, 'bedevil': 1129, 'catapult': 1643, 'smithfield': 8072, 'longtim': 5372, 'unruli': 9269, 'resurg': 7420, 'unrulyco': 9270, 'csr': 2478, '6feetapart': 336, 'hispan': 4393, 'mbb': 5603, 'espionag': 3310, 'ransomwar': 7196, 'ssupnow': 8283, 'contestalert': 2112, 'giveawayalert': 3995, 'canon_india': 1572, 'canonforcommun': 1573, '1sanit': 117, '2itali': 198, '3wuhan': 252, 'susanedub': 8596, 'sokonew': 8129, 'eastermonday': 3112, 'kolonya': 5085, 'alphabetâ': 656, 'lockdownextend': 5344, 'easter2020': 3110, 'easterbunni': 3111, 'flinch': 3676, 'morrisey': 5840, 'easterweekend': 3115, 'vijayshekhar': 9427, 'paytm': 6565, 'stayhomesavelif': 8355, 'happyeast': 4247, 'lockdownextent': 5346, 'wearecput': 9567, 'wearecputmedia': 9568, 'sruhl': 8277, 'panagi': 6468, 'pedigre': 6583, 'reasi': 7243, 'runwaloffici': 7567, 'eastersunday': 3114, 'jasoosshow': 4900, 'plow': 6767, 'ocha': 6229, 'alovera': 653, 'jojoba': 4953, 'ahmedabad': 583, 'reduceinternetpric': 7283, 'stimulusdeposit': 8402, '75000': 354, 'day18oflockdown': 2596, 'skimmer': 8019, 'jimmi': 4932, 'quiroga': 7145, 'lockdown2': 5339, 'truffl': 9073}\n"
          ]
        }
      ]
    },
    {
      "cell_type": "markdown",
      "metadata": {
        "id": "eEuNvpJZs0XJ"
      },
      "source": [
        "**h) Fit a Naive Bayes model to your data. Report the training and test error of the model. Use accuracy as the error metric. Also, report the 5 most probable words in each class, along with their counts. You might find Scikit-learn’s MultinomialNB() transformer useful. Use Laplace smoothing to prevent probabilities of zero.**"
      ]
    },
    {
      "cell_type": "code",
      "source": [
        "df_test.head(5)"
      ],
      "metadata": {
        "colab": {
          "base_uri": "https://localhost:8080/",
          "height": 206
        },
        "id": "DjKkDuLog2RD",
        "outputId": "3159f718-10bf-4397-922f-fc5dd9b55629"
      },
      "execution_count": 23,
      "outputs": [
        {
          "output_type": "execute_result",
          "data": {
            "text/plain": [
              "   UserName  ScreenName             Location     TweetAt  \\\n",
              "0         1       44953                  NYC  02-03-2020   \n",
              "1         2       44954          Seattle, WA  02-03-2020   \n",
              "2         3       44955                  NaN  02-03-2020   \n",
              "3         4       44956          Chicagoland  02-03-2020   \n",
              "4         5       44957  Melbourne, Victoria  03-03-2020   \n",
              "\n",
              "                                       OriginalTweet           Sentiment  \n",
              "0  TRENDING: New Yorkers encounter empty supermar...  Extremely Negative  \n",
              "1  When I couldn't find hand sanitizer at Fred Me...            Positive  \n",
              "2  Find out how you can protect yourself and love...  Extremely Positive  \n",
              "3  #Panic buying hits #NewYork City as anxious sh...            Negative  \n",
              "4  #toiletpaper #dunnypaper #coronavirus #coronav...             Neutral  "
            ],
            "text/html": [
              "\n",
              "  <div id=\"df-da77d241-09c8-4cc2-8a2b-f4ea05191065\">\n",
              "    <div class=\"colab-df-container\">\n",
              "      <div>\n",
              "<style scoped>\n",
              "    .dataframe tbody tr th:only-of-type {\n",
              "        vertical-align: middle;\n",
              "    }\n",
              "\n",
              "    .dataframe tbody tr th {\n",
              "        vertical-align: top;\n",
              "    }\n",
              "\n",
              "    .dataframe thead th {\n",
              "        text-align: right;\n",
              "    }\n",
              "</style>\n",
              "<table border=\"1\" class=\"dataframe\">\n",
              "  <thead>\n",
              "    <tr style=\"text-align: right;\">\n",
              "      <th></th>\n",
              "      <th>UserName</th>\n",
              "      <th>ScreenName</th>\n",
              "      <th>Location</th>\n",
              "      <th>TweetAt</th>\n",
              "      <th>OriginalTweet</th>\n",
              "      <th>Sentiment</th>\n",
              "    </tr>\n",
              "  </thead>\n",
              "  <tbody>\n",
              "    <tr>\n",
              "      <th>0</th>\n",
              "      <td>1</td>\n",
              "      <td>44953</td>\n",
              "      <td>NYC</td>\n",
              "      <td>02-03-2020</td>\n",
              "      <td>TRENDING: New Yorkers encounter empty supermar...</td>\n",
              "      <td>Extremely Negative</td>\n",
              "    </tr>\n",
              "    <tr>\n",
              "      <th>1</th>\n",
              "      <td>2</td>\n",
              "      <td>44954</td>\n",
              "      <td>Seattle, WA</td>\n",
              "      <td>02-03-2020</td>\n",
              "      <td>When I couldn't find hand sanitizer at Fred Me...</td>\n",
              "      <td>Positive</td>\n",
              "    </tr>\n",
              "    <tr>\n",
              "      <th>2</th>\n",
              "      <td>3</td>\n",
              "      <td>44955</td>\n",
              "      <td>NaN</td>\n",
              "      <td>02-03-2020</td>\n",
              "      <td>Find out how you can protect yourself and love...</td>\n",
              "      <td>Extremely Positive</td>\n",
              "    </tr>\n",
              "    <tr>\n",
              "      <th>3</th>\n",
              "      <td>4</td>\n",
              "      <td>44956</td>\n",
              "      <td>Chicagoland</td>\n",
              "      <td>02-03-2020</td>\n",
              "      <td>#Panic buying hits #NewYork City as anxious sh...</td>\n",
              "      <td>Negative</td>\n",
              "    </tr>\n",
              "    <tr>\n",
              "      <th>4</th>\n",
              "      <td>5</td>\n",
              "      <td>44957</td>\n",
              "      <td>Melbourne, Victoria</td>\n",
              "      <td>03-03-2020</td>\n",
              "      <td>#toiletpaper #dunnypaper #coronavirus #coronav...</td>\n",
              "      <td>Neutral</td>\n",
              "    </tr>\n",
              "  </tbody>\n",
              "</table>\n",
              "</div>\n",
              "      <button class=\"colab-df-convert\" onclick=\"convertToInteractive('df-da77d241-09c8-4cc2-8a2b-f4ea05191065')\"\n",
              "              title=\"Convert this dataframe to an interactive table.\"\n",
              "              style=\"display:none;\">\n",
              "        \n",
              "  <svg xmlns=\"http://www.w3.org/2000/svg\" height=\"24px\"viewBox=\"0 0 24 24\"\n",
              "       width=\"24px\">\n",
              "    <path d=\"M0 0h24v24H0V0z\" fill=\"none\"/>\n",
              "    <path d=\"M18.56 5.44l.94 2.06.94-2.06 2.06-.94-2.06-.94-.94-2.06-.94 2.06-2.06.94zm-11 1L8.5 8.5l.94-2.06 2.06-.94-2.06-.94L8.5 2.5l-.94 2.06-2.06.94zm10 10l.94 2.06.94-2.06 2.06-.94-2.06-.94-.94-2.06-.94 2.06-2.06.94z\"/><path d=\"M17.41 7.96l-1.37-1.37c-.4-.4-.92-.59-1.43-.59-.52 0-1.04.2-1.43.59L10.3 9.45l-7.72 7.72c-.78.78-.78 2.05 0 2.83L4 21.41c.39.39.9.59 1.41.59.51 0 1.02-.2 1.41-.59l7.78-7.78 2.81-2.81c.8-.78.8-2.07 0-2.86zM5.41 20L4 18.59l7.72-7.72 1.47 1.35L5.41 20z\"/>\n",
              "  </svg>\n",
              "      </button>\n",
              "      \n",
              "  <style>\n",
              "    .colab-df-container {\n",
              "      display:flex;\n",
              "      flex-wrap:wrap;\n",
              "      gap: 12px;\n",
              "    }\n",
              "\n",
              "    .colab-df-convert {\n",
              "      background-color: #E8F0FE;\n",
              "      border: none;\n",
              "      border-radius: 50%;\n",
              "      cursor: pointer;\n",
              "      display: none;\n",
              "      fill: #1967D2;\n",
              "      height: 32px;\n",
              "      padding: 0 0 0 0;\n",
              "      width: 32px;\n",
              "    }\n",
              "\n",
              "    .colab-df-convert:hover {\n",
              "      background-color: #E2EBFA;\n",
              "      box-shadow: 0px 1px 2px rgba(60, 64, 67, 0.3), 0px 1px 3px 1px rgba(60, 64, 67, 0.15);\n",
              "      fill: #174EA6;\n",
              "    }\n",
              "\n",
              "    [theme=dark] .colab-df-convert {\n",
              "      background-color: #3B4455;\n",
              "      fill: #D2E3FC;\n",
              "    }\n",
              "\n",
              "    [theme=dark] .colab-df-convert:hover {\n",
              "      background-color: #434B5C;\n",
              "      box-shadow: 0px 1px 3px 1px rgba(0, 0, 0, 0.15);\n",
              "      filter: drop-shadow(0px 1px 2px rgba(0, 0, 0, 0.3));\n",
              "      fill: #FFFFFF;\n",
              "    }\n",
              "  </style>\n",
              "\n",
              "      <script>\n",
              "        const buttonEl =\n",
              "          document.querySelector('#df-da77d241-09c8-4cc2-8a2b-f4ea05191065 button.colab-df-convert');\n",
              "        buttonEl.style.display =\n",
              "          google.colab.kernel.accessAllowed ? 'block' : 'none';\n",
              "\n",
              "        async function convertToInteractive(key) {\n",
              "          const element = document.querySelector('#df-da77d241-09c8-4cc2-8a2b-f4ea05191065');\n",
              "          const dataTable =\n",
              "            await google.colab.kernel.invokeFunction('convertToInteractive',\n",
              "                                                     [key], {});\n",
              "          if (!dataTable) return;\n",
              "\n",
              "          const docLinkHtml = 'Like what you see? Visit the ' +\n",
              "            '<a target=\"_blank\" href=https://colab.research.google.com/notebooks/data_table.ipynb>data table notebook</a>'\n",
              "            + ' to learn more about interactive tables.';\n",
              "          element.innerHTML = '';\n",
              "          dataTable['output_type'] = 'display_data';\n",
              "          await google.colab.output.renderOutput(dataTable, element);\n",
              "          const docLink = document.createElement('div');\n",
              "          docLink.innerHTML = docLinkHtml;\n",
              "          element.appendChild(docLink);\n",
              "        }\n",
              "      </script>\n",
              "    </div>\n",
              "  </div>\n",
              "  "
            ]
          },
          "metadata": {},
          "execution_count": 23
        }
      ]
    },
    {
      "cell_type": "code",
      "source": [
        "print(df_test['Sentiment'].unique())"
      ],
      "metadata": {
        "colab": {
          "base_uri": "https://localhost:8080/"
        },
        "id": "JUZKDRaluP7-",
        "outputId": "10102bff-9cb3-436f-bf3b-a9e8d51c5827"
      },
      "execution_count": null,
      "outputs": [
        {
          "output_type": "stream",
          "name": "stdout",
          "text": [
            "['Extremely Negative' 'Positive' 'Extremely Positive' 'Negative' 'Neutral']\n"
          ]
        }
      ]
    },
    {
      "cell_type": "code",
      "source": [
        "# repeat the vectorizing steps for test set\n",
        "df_test['tokens'] = df_test['OriginalTweet'].apply(tokenize)\n",
        "df_test['tokens_no_url'] = df_test['tokens'].apply(remove_url)\n",
        "df_test['tokens_no_punc'] = df_test['tokens_no_url'].apply(remove_punc_spec_lower)\n",
        "df_test['tokens_stemmed'] = df_test['tokens_no_punc'].apply(stemming)\n",
        "df_test['stems_no_sw'] = df_test['tokens_stemmed'].apply(remove_sw)\n",
        "df_test['Sentiment_num'] = df_test['Sentiment'].map(encode)\n",
        "x_test, y_test = df_test['stems_no_sw'].to_numpy(), df_test['Sentiment_num'].to_numpy()\n",
        "\n",
        "count_vec_test = CountVectorizer(\n",
        "    analyzer='word',\n",
        "    tokenizer= override_fcn,\n",
        "    preprocessor= override_fcn,\n",
        "    token_pattern= None,\n",
        "    max_features = 10000)\n",
        "\n",
        "counts_test = count_vec_test.fit_transform(x_test) # This is the count matrix for the test data\n",
        "print(counts_test.toarray())"
      ],
      "metadata": {
        "colab": {
          "base_uri": "https://localhost:8080/"
        },
        "id": "5uRQ2-p2jfzy",
        "outputId": "425758bd-5e35-455f-c384-86e2417742a4"
      },
      "execution_count": 57,
      "outputs": [
        {
          "output_type": "stream",
          "name": "stdout",
          "text": [
            "[[0 0 0 ... 0 0 0]\n",
            " [0 0 0 ... 0 0 0]\n",
            " [1 0 0 ... 0 0 0]\n",
            " ...\n",
            " [0 0 0 ... 0 0 0]\n",
            " [1 0 0 ... 0 0 0]\n",
            " [0 0 0 ... 0 0 0]]\n"
          ]
        }
      ]
    },
    {
      "cell_type": "code",
      "source": [
        "nb = MultinomialNB(alpha=0.1) # alpha value larger than 1 -> smoother\n",
        "nb.fit(counts_train, y_train) \n",
        "\n",
        "train_preds = nb.predict(counts_train)\n",
        "test_preds = nb.predict(counts_test)\n",
        "\n",
        "print('Train accuracy with simple Naive Bayes:', accuracy_score(y_train, train_preds))\n",
        "print('Test accuracy with simple Naive Bayes:', accuracy_score(y_test, test_preds))"
      ],
      "metadata": {
        "id": "JrAw3Qc6iWDB",
        "colab": {
          "base_uri": "https://localhost:8080/"
        },
        "outputId": "43839ba8-cc2b-45c4-f954-2aa0f4f27aec"
      },
      "execution_count": 68,
      "outputs": [
        {
          "output_type": "stream",
          "name": "stdout",
          "text": [
            "Train accuracy with simple Naive Bayes: 0.770682994387346\n",
            "Test accuracy with simple Naive Bayes: 0.33438651922064244\n"
          ]
        }
      ]
    },
    {
      "cell_type": "code",
      "source": [
        "df_train_positive = df_train[df_train['Sentiment_num'] == 2]\n",
        "df_train_neutral = df_train[df_train['Sentiment_num'] == 1]\n",
        "df_train_negative = df_train[df_train['Sentiment_num'] == 0]\n",
        "\n",
        "x_train_positive = df_train_positive['stems_no_sw'].to_numpy()\n",
        "x_train_neutral = df_train_neutral['stems_no_sw'].to_numpy()\n",
        "x_train_negative = df_train_negative['stems_no_sw'].to_numpy()\n",
        "\n",
        "lst_positive = [token for row in df_train_positive['stems_no_sw'] for token in row]\n",
        "lst_neutral = [token for row in df_train_neutral['stems_no_sw'] for token in row]\n",
        "lst_negative = [token for row in df_train_negative['stems_no_sw'] for token in row]\n",
        "\n",
        "counts_positive = Counter(lst_positive)\n",
        "counts_neutral = Counter(lst_neutral)\n",
        "counts_negative = Counter(lst_negative)\n",
        "\n",
        "print(counts_positive.most_common(5))\n",
        "print(counts_neutral.most_common(5))\n",
        "print(counts_negative.most_common(5))"
      ],
      "metadata": {
        "colab": {
          "base_uri": "https://localhost:8080/"
        },
        "id": "JdYxTBiMH64v",
        "outputId": "dcaf6ab2-fe8e-43ce-ee10-0b55b52a0c5d"
      },
      "execution_count": 62,
      "outputs": [
        {
          "output_type": "stream",
          "name": "stdout",
          "text": [
            "[('coronaviru', 7467), ('covid19', 6003), ('', 4926), ('store', 3896), ('thi', 3772)]\n",
            "[('coronaviru', 3792), ('covid19', 2752), ('', 2698), ('store', 1581), ('supermarket', 1436)]\n",
            "[('coronaviru', 6703), ('covid19', 4862), ('price', 4332), ('', 3667), ('food', 3623)]\n"
          ]
        }
      ]
    },
    {
      "cell_type": "markdown",
      "metadata": {
        "id": "sofLx_Res0XJ"
      },
      "source": [
        "**i) Would it be appropriate to fit an ROC curve in this scenario? If yes, explain why. If no, explain why not.**"
      ]
    },
    {
      "cell_type": "markdown",
      "metadata": {
        "id": "MJcLH8Mrs0XJ"
      },
      "source": [
        "**j) Redo parts G-H using TF-IDF vectors instead of count vectors. You might find Scikitlearn’s TfidfVectorizer() transformer useful. Report the training and test accuracy. How does this compare to the accuracy using count vectors?**"
      ]
    },
    {
      "cell_type": "code",
      "source": [
        "TFIDF_train = TfidfVectorizer(\n",
        "    analyzer='word',\n",
        "    tokenizer= override_fcn,\n",
        "    preprocessor= override_fcn,\n",
        "    token_pattern= None,\n",
        "    max_features = 10000)\n",
        "\n",
        "TFIDF_test = TfidfVectorizer(\n",
        "    analyzer='word',\n",
        "    tokenizer= override_fcn,\n",
        "    preprocessor= override_fcn,\n",
        "    token_pattern= None,\n",
        "    max_features = 10000)\n",
        "\n",
        "tfs_train = TFIDF_train.fit_transform(x_train)\n",
        "tfs_test = TFIDF_test.fit_transform(x_test)\n",
        "\n",
        "matrix_tftrain = tfs_train.toarray()\n",
        "print(len(matrix_tftrain[0]))\n",
        "\n",
        "nb1 = MultinomialNB(alpha=0.1)\n",
        "\n",
        "nb1.fit(tfs_train, y_train)\n",
        "\n",
        "tf_train_preds = nb1.predict(tfs_train)\n",
        "tf_test_preds = nb1.predict(tfs_test)\n",
        "\n",
        "print('Train accuracy with simple Naive Bayes under TF-IDF:', accuracy_score(y_train, tf_train_preds))\n",
        "print('Test accuracy with simple Naive Bayes under TF-IDF:', accuracy_score(y_test, tf_test_preds))"
      ],
      "metadata": {
        "id": "cr7GZXkzjV7T",
        "colab": {
          "base_uri": "https://localhost:8080/"
        },
        "outputId": "0cf86103-21db-4899-87d2-dca23fb218e8"
      },
      "execution_count": 77,
      "outputs": [
        {
          "output_type": "stream",
          "name": "stdout",
          "text": [
            "10000\n",
            "Train accuracy with simple Naive Bayes under TF-IDF: 0.757465315742158\n",
            "Test accuracy with simple Naive Bayes under TF-IDF: 0.37519747235387046\n"
          ]
        }
      ]
    },
    {
      "cell_type": "code",
      "source": [
        "lst_positive = [token for row in df_train_positive['stems_no_sw'] for token in row]\n",
        "lst_neutral = [token for row in df_train_neutral['stems_no_sw'] for token in row]\n",
        "lst_negative = [token for row in df_train_negative['stems_no_sw'] for token in row]\n",
        "\n",
        "counts_positive = Counter(lst_positive)\n",
        "counts_neutral = Counter(lst_neutral)\n",
        "counts_negative = Counter(lst_negative)\n",
        "\n",
        "print(counts_positive.most_common(5))\n",
        "print(counts_neutral.most_common(5))\n",
        "print(counts_negative.most_common(5))"
      ],
      "metadata": {
        "colab": {
          "base_uri": "https://localhost:8080/"
        },
        "id": "Blv2ldnQvg6p",
        "outputId": "4f84cba9-b958-4e2b-d433-7d9484c23e4a"
      },
      "execution_count": 69,
      "outputs": [
        {
          "output_type": "stream",
          "name": "stdout",
          "text": [
            "[('coronaviru', 7467), ('covid19', 6003), ('', 4926), ('store', 3896), ('thi', 3772)]\n",
            "[('coronaviru', 3792), ('covid19', 2752), ('', 2698), ('store', 1581), ('supermarket', 1436)]\n",
            "[('coronaviru', 6703), ('covid19', 4862), ('price', 4332), ('', 3667), ('food', 3623)]\n"
          ]
        }
      ]
    },
    {
      "cell_type": "markdown",
      "metadata": {
        "id": "vm7z1vqXs0XJ"
      },
      "source": [
        "**k) Recall lemmatization converts each word to its base form, which is a bit stronger than simply taking the stem. Redo parts E-H using TF-IDF vectors instead of count vectors. This time use lemmatization instead of stemming. Report train and test accuracy. How does the accuracy with lemmatization compare to the accuracy with stemming?**"
      ]
    },
    {
      "cell_type": "code",
      "source": [
        "lemmatizer = WordNetLemmatizer()\n",
        "\n",
        "def lem(lst):\n",
        "  return [lemmatizer.lemmatize(t) for t in lst]\n",
        "\n",
        "TFIDF_train1 = TfidfVectorizer(\n",
        "    analyzer='word',\n",
        "    tokenizer= override_fcn,\n",
        "    preprocessor= override_fcn,\n",
        "    token_pattern= None,\n",
        "    max_features = 10000)\n",
        "\n",
        "TFIDF_test1 = TfidfVectorizer(\n",
        "    analyzer='word',\n",
        "    tokenizer= override_fcn,\n",
        "    preprocessor= override_fcn,\n",
        "    token_pattern= None,\n",
        "    max_features = 10000)\n",
        "\n",
        "# process train data\n",
        "df_train['lem_tokens'] = df_train['tokens_no_punc'].apply(lem)\n",
        "df_train['lems_no_sw'] = df_train['lem_tokens'].apply(remove_sw)\n",
        "x_train_1, y_train_1 = df_train['lems_no_sw'].to_numpy(), df_train['Sentiment_num'].to_numpy()\n",
        "tfs_train_1 = TFIDF_train1.fit_transform(x_train_1)"
      ],
      "metadata": {
        "id": "7x9iMRfTKX3F"
      },
      "execution_count": 72,
      "outputs": []
    },
    {
      "cell_type": "code",
      "source": [
        "# process test data\n",
        "df_test['lem_tokens'] = df_test['tokens_no_punc'].apply(lem)\n",
        "df_test['lems_no_sw'] = df_test['lem_tokens'].apply(remove_sw)\n",
        "x_test_1, y_test_1 = df_test['lems_no_sw'].to_numpy(), df_test['Sentiment_num'].to_numpy()\n",
        "tfs_test_1 = TFIDF_test1.fit_transform(x_test_1)"
      ],
      "metadata": {
        "id": "0mXxbbDZxEvY"
      },
      "execution_count": 73,
      "outputs": []
    },
    {
      "cell_type": "code",
      "source": [
        "nb2 = MultinomialNB(alpha=0.1)\n",
        "\n",
        "nb2.fit(tfs_train_1, y_train_1)\n",
        "\n",
        "tf_train_preds_1 = nb2.predict(tfs_train_1)\n",
        "tf_test_preds_1 = nb2.predict(tfs_test_1)\n",
        "\n",
        "print('Train accuracy with simple Naive Bayes under TF-IDF and lemmatization:', accuracy_score(y_train_1, tf_train_preds_1))\n",
        "print('Test accuracy with simple Naive Bayes under TF-IDF and lemmatization:', accuracy_score(y_test_1, tf_test_preds_1))"
      ],
      "metadata": {
        "colab": {
          "base_uri": "https://localhost:8080/"
        },
        "id": "7K50KieMyHZV",
        "outputId": "395a9529-9ca2-4b41-b3e2-34ede397ad33"
      },
      "execution_count": 76,
      "outputs": [
        {
          "output_type": "stream",
          "name": "stdout",
          "text": [
            "Train accuracy with simple Naive Bayes under TF-IDF and lemmatization: 0.7678402215904949\n",
            "Test accuracy with simple Naive Bayes under TF-IDF and lemmatization: 0.3907319641916798\n"
          ]
        }
      ]
    },
    {
      "cell_type": "code",
      "source": [
        "df_train_positive_1 = df_train[df_train['Sentiment_num'] == 2]\n",
        "df_train_neutral_1 = df_train[df_train['Sentiment_num'] == 1]\n",
        "df_train_negative_1 = df_train[df_train['Sentiment_num'] == 0]\n",
        "\n",
        "x_train_positive_1 = df_train_positive_1['lems_no_sw'].to_numpy()\n",
        "x_train_neutral_1 = df_train_neutral_1['lems_no_sw'].to_numpy()\n",
        "x_train_negative_1 = df_train_negative_1['lems_no_sw'].to_numpy()\n",
        "\n",
        "lst_positive = [token for row in df_train_positive_1['lems_no_sw'] for token in row]\n",
        "lst_neutral = [token for row in df_train_neutral_1['lems_no_sw'] for token in row]\n",
        "lst_negative = [token for row in df_train_negative_1['lems_no_sw'] for token in row]\n",
        "\n",
        "counts_positive = Counter(lst_positive)\n",
        "counts_neutral = Counter(lst_neutral)\n",
        "counts_negative = Counter(lst_negative)\n",
        "\n",
        "print(counts_positive.most_common(5))\n",
        "print(counts_neutral.most_common(5))\n",
        "print(counts_negative.most_common(5))"
      ],
      "metadata": {
        "colab": {
          "base_uri": "https://localhost:8080/"
        },
        "id": "-I3GbWUo7jMW",
        "outputId": "bc7b2756-6b1d-4a14-ad8b-4a506ec12c29"
      },
      "execution_count": 75,
      "outputs": [
        {
          "output_type": "stream",
          "name": "stdout",
          "text": [
            "[('coronavirus', 7464), ('covid19', 5995), ('', 4926), ('store', 3891), ('price', 3278)]\n",
            "[('coronavirus', 3792), ('covid19', 2736), ('', 2698), ('store', 1579), ('supermarket', 1436)]\n",
            "[('coronavirus', 6701), ('covid19', 4858), ('price', 4289), ('', 3667), ('food', 3623)]\n"
          ]
        }
      ]
    },
    {
      "cell_type": "markdown",
      "metadata": {
        "id": "SYEemL8-s0XJ"
      },
      "source": [
        "**Bonus: Is the Naive Bayes model generative or discriminative? Explain your response.**"
      ]
    },
    {
      "cell_type": "markdown",
      "source": [
        "# Part 2 Having fun with NLP using the Twitter API"
      ],
      "metadata": {
        "id": "eIJb8XFxmDX6"
      }
    },
    {
      "cell_type": "code",
      "source": [],
      "metadata": {
        "id": "xM9gRMXqmJI0"
      },
      "execution_count": null,
      "outputs": []
    }
  ],
  "metadata": {
    "kernelspec": {
      "display_name": "Python 3",
      "language": "python",
      "name": "python3"
    },
    "language_info": {
      "codemirror_mode": {
        "name": "ipython",
        "version": 3
      },
      "file_extension": ".py",
      "mimetype": "text/x-python",
      "name": "python",
      "nbconvert_exporter": "python",
      "pygments_lexer": "ipython3",
      "version": "3.10.1"
    },
    "orig_nbformat": 4,
    "colab": {
      "provenance": [],
      "include_colab_link": true
    }
  },
  "nbformat": 4,
  "nbformat_minor": 0
}