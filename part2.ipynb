{
 "cells": [
  {
   "cell_type": "code",
   "execution_count": 1,
   "metadata": {},
   "outputs": [],
   "source": [
    "import pandas as pd\n",
    "import numpy as np\n",
    "import matplotlib.pyplot as plt\n",
    "import seaborn as sns\n",
    "import spacy\n",
    "import re\n",
    "from typing import Optional, Tuple\n",
    "from sklearn.model_selection import train_test_split\n",
    "from sklearn.ensemble import RandomForestClassifier, AdaBoostClassifier\n",
    "from sklearn.naive_bayes import GaussianNB\n",
    "from sklearn.metrics import confusion_matrix\n",
    "from sklearn.svm import SVC"
   ]
  },
  {
   "cell_type": "code",
   "execution_count": 2,
   "metadata": {},
   "outputs": [
    {
     "data": {
      "text/html": [
       "<div>\n",
       "<style scoped>\n",
       "    .dataframe tbody tr th:only-of-type {\n",
       "        vertical-align: middle;\n",
       "    }\n",
       "\n",
       "    .dataframe tbody tr th {\n",
       "        vertical-align: top;\n",
       "    }\n",
       "\n",
       "    .dataframe thead th {\n",
       "        text-align: right;\n",
       "    }\n",
       "</style>\n",
       "<table border=\"1\" class=\"dataframe\">\n",
       "  <thead>\n",
       "    <tr style=\"text-align: right;\">\n",
       "      <th></th>\n",
       "      <th>Unnamed: 0</th>\n",
       "      <th>tweet_text</th>\n",
       "      <th>tweet_favourite_count</th>\n",
       "      <th>tweet_created_at</th>\n",
       "      <th>tweet_retweet_count</th>\n",
       "      <th>user_statuses_count</th>\n",
       "      <th>user_screen_name</th>\n",
       "      <th>user_followers_count</th>\n",
       "    </tr>\n",
       "  </thead>\n",
       "  <tbody>\n",
       "    <tr>\n",
       "      <th>0</th>\n",
       "      <td>0</td>\n",
       "      <td>The priority for the city should be on providi...</td>\n",
       "      <td>0</td>\n",
       "      <td>2023-03-27 21:01:36+00:00</td>\n",
       "      <td>0</td>\n",
       "      <td>10194</td>\n",
       "      <td>EmergencyAgent</td>\n",
       "      <td>1145</td>\n",
       "    </tr>\n",
       "    <tr>\n",
       "      <th>1</th>\n",
       "      <td>1</td>\n",
       "      <td>Like it or not, this kind of clip is the sort ...</td>\n",
       "      <td>0</td>\n",
       "      <td>2023-03-27 21:01:26+00:00</td>\n",
       "      <td>0</td>\n",
       "      <td>2843</td>\n",
       "      <td>EDenhoff</td>\n",
       "      <td>4630</td>\n",
       "    </tr>\n",
       "    <tr>\n",
       "      <th>2</th>\n",
       "      <td>2</td>\n",
       "      <td>On a scale of moderately conservative (1) to r...</td>\n",
       "      <td>0</td>\n",
       "      <td>2023-03-27 21:01:16+00:00</td>\n",
       "      <td>0</td>\n",
       "      <td>13608</td>\n",
       "      <td>dzoolander85</td>\n",
       "      <td>11234</td>\n",
       "    </tr>\n",
       "    <tr>\n",
       "      <th>3</th>\n",
       "      <td>3</td>\n",
       "      <td>Keep up with the latest politics with The Dail...</td>\n",
       "      <td>0</td>\n",
       "      <td>2023-03-27 21:01:06+00:00</td>\n",
       "      <td>0</td>\n",
       "      <td>3610</td>\n",
       "      <td>VassKapelosShow</td>\n",
       "      <td>4901</td>\n",
       "    </tr>\n",
       "    <tr>\n",
       "      <th>4</th>\n",
       "      <td>4</td>\n",
       "      <td>So much resemblance to NAZI Germany leading up...</td>\n",
       "      <td>0</td>\n",
       "      <td>2023-03-27 21:01:05+00:00</td>\n",
       "      <td>0</td>\n",
       "      <td>108226</td>\n",
       "      <td>marshiehilgs</td>\n",
       "      <td>515</td>\n",
       "    </tr>\n",
       "  </tbody>\n",
       "</table>\n",
       "</div>"
      ],
      "text/plain": [
       "   Unnamed: 0                                         tweet_text  \\\n",
       "0           0  The priority for the city should be on providi...   \n",
       "1           1  Like it or not, this kind of clip is the sort ...   \n",
       "2           2  On a scale of moderately conservative (1) to r...   \n",
       "3           3  Keep up with the latest politics with The Dail...   \n",
       "4           4  So much resemblance to NAZI Germany leading up...   \n",
       "\n",
       "   tweet_favourite_count           tweet_created_at  tweet_retweet_count  \\\n",
       "0                      0  2023-03-27 21:01:36+00:00                    0   \n",
       "1                      0  2023-03-27 21:01:26+00:00                    0   \n",
       "2                      0  2023-03-27 21:01:16+00:00                    0   \n",
       "3                      0  2023-03-27 21:01:06+00:00                    0   \n",
       "4                      0  2023-03-27 21:01:05+00:00                    0   \n",
       "\n",
       "   user_statuses_count user_screen_name  user_followers_count  \n",
       "0                10194   EmergencyAgent                  1145  \n",
       "1                 2843         EDenhoff                  4630  \n",
       "2                13608     dzoolander85                 11234  \n",
       "3                 3610  VassKapelosShow                  4901  \n",
       "4               108226     marshiehilgs                   515  "
      ]
     },
     "execution_count": 2,
     "metadata": {},
     "output_type": "execute_result"
    }
   ],
   "source": [
    "df = pd.read_csv('tweets.csv')\n",
    "df.head()"
   ]
  },
  {
   "attachments": {},
   "cell_type": "markdown",
   "metadata": {},
   "source": [
    "# Exploratory Analysis"
   ]
  },
  {
   "cell_type": "code",
   "execution_count": 3,
   "metadata": {},
   "outputs": [
    {
     "data": {
      "image/png": "[encoded data removed]",
      "text/plain": [
       "<Figure size 640x480 with 1 Axes>"
      ]
     },
     "metadata": {},
     "output_type": "display_data"
    }
   ],
   "source": [
    "sns.histplot(df['user_followers_count'], binwidth=20000)\n",
    "plt.xlabel('Number of Followers')\n",
    "plt.ylabel('Frequency')\n",
    "plt.title('Number of Followers of Users')\n",
    "plt.show()"
   ]
  },
  {
   "cell_type": "code",
   "execution_count": 4,
   "metadata": {},
   "outputs": [],
   "source": [
    "def group_followers(num_followers: int) -> str:\n",
    "    if 0 <= num_followers <= 1000:\n",
    "        return 'Few'\n",
    "    elif 1000 < num_followers <= 10000:\n",
    "        return 'Medium'\n",
    "    else:\n",
    "        return 'Many'"
   ]
  },
  {
   "cell_type": "code",
   "execution_count": 5,
   "metadata": {},
   "outputs": [],
   "source": [
    "df['followers_group'] = df['user_followers_count'].apply(group_followers)"
   ]
  },
  {
   "cell_type": "code",
   "execution_count": 6,
   "metadata": {},
   "outputs": [
    {
     "data": {
      "text/html": [
       "<div>\n",
       "<style scoped>\n",
       "    .dataframe tbody tr th:only-of-type {\n",
       "        vertical-align: middle;\n",
       "    }\n",
       "\n",
       "    .dataframe tbody tr th {\n",
       "        vertical-align: top;\n",
       "    }\n",
       "\n",
       "    .dataframe thead th {\n",
       "        text-align: right;\n",
       "    }\n",
       "</style>\n",
       "<table border=\"1\" class=\"dataframe\">\n",
       "  <thead>\n",
       "    <tr style=\"text-align: right;\">\n",
       "      <th></th>\n",
       "      <th>Unnamed: 0</th>\n",
       "      <th>tweet_text</th>\n",
       "      <th>tweet_favourite_count</th>\n",
       "      <th>tweet_created_at</th>\n",
       "      <th>tweet_retweet_count</th>\n",
       "      <th>user_statuses_count</th>\n",
       "      <th>user_screen_name</th>\n",
       "      <th>user_followers_count</th>\n",
       "      <th>followers_group</th>\n",
       "    </tr>\n",
       "  </thead>\n",
       "  <tbody>\n",
       "    <tr>\n",
       "      <th>0</th>\n",
       "      <td>0</td>\n",
       "      <td>The priority for the city should be on providi...</td>\n",
       "      <td>0</td>\n",
       "      <td>2023-03-27 21:01:36+00:00</td>\n",
       "      <td>0</td>\n",
       "      <td>10194</td>\n",
       "      <td>EmergencyAgent</td>\n",
       "      <td>1145</td>\n",
       "      <td>Medium</td>\n",
       "    </tr>\n",
       "    <tr>\n",
       "      <th>1</th>\n",
       "      <td>1</td>\n",
       "      <td>Like it or not, this kind of clip is the sort ...</td>\n",
       "      <td>0</td>\n",
       "      <td>2023-03-27 21:01:26+00:00</td>\n",
       "      <td>0</td>\n",
       "      <td>2843</td>\n",
       "      <td>EDenhoff</td>\n",
       "      <td>4630</td>\n",
       "      <td>Medium</td>\n",
       "    </tr>\n",
       "    <tr>\n",
       "      <th>2</th>\n",
       "      <td>2</td>\n",
       "      <td>On a scale of moderately conservative (1) to r...</td>\n",
       "      <td>0</td>\n",
       "      <td>2023-03-27 21:01:16+00:00</td>\n",
       "      <td>0</td>\n",
       "      <td>13608</td>\n",
       "      <td>dzoolander85</td>\n",
       "      <td>11234</td>\n",
       "      <td>Many</td>\n",
       "    </tr>\n",
       "    <tr>\n",
       "      <th>3</th>\n",
       "      <td>3</td>\n",
       "      <td>Keep up with the latest politics with The Dail...</td>\n",
       "      <td>0</td>\n",
       "      <td>2023-03-27 21:01:06+00:00</td>\n",
       "      <td>0</td>\n",
       "      <td>3610</td>\n",
       "      <td>VassKapelosShow</td>\n",
       "      <td>4901</td>\n",
       "      <td>Medium</td>\n",
       "    </tr>\n",
       "    <tr>\n",
       "      <th>4</th>\n",
       "      <td>4</td>\n",
       "      <td>So much resemblance to NAZI Germany leading up...</td>\n",
       "      <td>0</td>\n",
       "      <td>2023-03-27 21:01:05+00:00</td>\n",
       "      <td>0</td>\n",
       "      <td>108226</td>\n",
       "      <td>marshiehilgs</td>\n",
       "      <td>515</td>\n",
       "      <td>Few</td>\n",
       "    </tr>\n",
       "  </tbody>\n",
       "</table>\n",
       "</div>"
      ],
      "text/plain": [
       "   Unnamed: 0                                         tweet_text  \\\n",
       "0           0  The priority for the city should be on providi...   \n",
       "1           1  Like it or not, this kind of clip is the sort ...   \n",
       "2           2  On a scale of moderately conservative (1) to r...   \n",
       "3           3  Keep up with the latest politics with The Dail...   \n",
       "4           4  So much resemblance to NAZI Germany leading up...   \n",
       "\n",
       "   tweet_favourite_count           tweet_created_at  tweet_retweet_count  \\\n",
       "0                      0  2023-03-27 21:01:36+00:00                    0   \n",
       "1                      0  2023-03-27 21:01:26+00:00                    0   \n",
       "2                      0  2023-03-27 21:01:16+00:00                    0   \n",
       "3                      0  2023-03-27 21:01:06+00:00                    0   \n",
       "4                      0  2023-03-27 21:01:05+00:00                    0   \n",
       "\n",
       "   user_statuses_count user_screen_name  user_followers_count followers_group  \n",
       "0                10194   EmergencyAgent                  1145          Medium  \n",
       "1                 2843         EDenhoff                  4630          Medium  \n",
       "2                13608     dzoolander85                 11234            Many  \n",
       "3                 3610  VassKapelosShow                  4901          Medium  \n",
       "4               108226     marshiehilgs                   515             Few  "
      ]
     },
     "execution_count": 6,
     "metadata": {},
     "output_type": "execute_result"
    }
   ],
   "source": [
    "df.head()"
   ]
  },
  {
   "cell_type": "code",
   "execution_count": 7,
   "metadata": {},
   "outputs": [
    {
     "data": {
      "text/plain": [
       "Medium    4371\n",
       "Few       4216\n",
       "Many      1413\n",
       "Name: followers_group, dtype: int64"
      ]
     },
     "execution_count": 7,
     "metadata": {},
     "output_type": "execute_result"
    }
   ],
   "source": [
    "df['followers_group'].value_counts()"
   ]
  },
  {
   "cell_type": "code",
   "execution_count": 44,
   "metadata": {},
   "outputs": [
    {
     "data": {
      "image/png": "[encoded data removed]",
      "text/plain": [
       "<Figure size 640x480 with 1 Axes>"
      ]
     },
     "metadata": {},
     "output_type": "display_data"
    }
   ],
   "source": [
    "sns.countplot(x=df['followers_group'], order=['Few', 'Medium', 'Many'])\n",
    "plt.xlabel('User Group')\n",
    "plt.ylabel('Frequency')\n",
    "plt.title('User Group by Number of Followers')\n",
    "plt.show()"
   ]
  },
  {
   "cell_type": "code",
   "execution_count": 49,
   "metadata": {},
   "outputs": [
    {
     "data": {
      "image/png": "[encoded data removed]",
      "text/plain": [
       "<Figure size 640x480 with 1 Axes>"
      ]
     },
     "metadata": {},
     "output_type": "display_data"
    }
   ],
   "source": [
    "sns.histplot(df['tweet_favourite_count'], binwidth=500, color='green')\n",
    "plt.xlabel('Number of Favorites')\n",
    "plt.ylabel('Frequency')\n",
    "plt.title('Number of Favorites of Tweets')\n",
    "plt.show()"
   ]
  },
  {
   "cell_type": "code",
   "execution_count": 50,
   "metadata": {},
   "outputs": [
    {
     "data": {
      "image/png": "[encoded data removed]",
      "text/plain": [
       "<Figure size 640x480 with 1 Axes>"
      ]
     },
     "metadata": {},
     "output_type": "display_data"
    }
   ],
   "source": [
    "sns.histplot(df['tweet_retweet_count'], binwidth=100, color='pink')\n",
    "plt.xlabel('Number of Retweets')\n",
    "plt.ylabel('Frequency')\n",
    "plt.title('Number of Retweets of Tweets')\n",
    "plt.show()"
   ]
  },
  {
   "cell_type": "code",
   "execution_count": 53,
   "metadata": {},
   "outputs": [
    {
     "data": {
      "image/png": "[encoded data removed]",
      "text/plain": [
       "<Figure size 640x480 with 1 Axes>"
      ]
     },
     "metadata": {},
     "output_type": "display_data"
    }
   ],
   "source": [
    "sns.histplot(df['user_statuses_count'], binwidth=100000, color='orange')\n",
    "plt.xlabel('User Status')\n",
    "plt.ylabel('Frequency')\n",
    "plt.title('User Status of Users')\n",
    "plt.show()"
   ]
  },
  {
   "cell_type": "code",
   "execution_count": 8,
   "metadata": {},
   "outputs": [
    {
     "data": {
      "text/plain": [
       "count     10000.000000\n",
       "mean       7752.489200\n",
       "std       27802.220361\n",
       "min           0.000000\n",
       "25%         461.250000\n",
       "50%        1348.000000\n",
       "75%        4521.000000\n",
       "max      755203.000000\n",
       "Name: user_followers_count, dtype: float64"
      ]
     },
     "execution_count": 8,
     "metadata": {},
     "output_type": "execute_result"
    }
   ],
   "source": [
    "df['user_followers_count'].describe()"
   ]
  },
  {
   "attachments": {},
   "cell_type": "markdown",
   "metadata": {},
   "source": [
    "# Preprocessing"
   ]
  },
  {
   "cell_type": "code",
   "execution_count": 13,
   "metadata": {},
   "outputs": [
    {
     "data": {
      "text/plain": [
       "<spacy.pipeline.sentencizer.Sentencizer at 0x137e77500>"
      ]
     },
     "execution_count": 13,
     "metadata": {},
     "output_type": "execute_result"
    }
   ],
   "source": [
    "nlp = spacy.load('en_core_web_sm', disable=['parser', 'ner'])\n",
    "nlp.add_pipe('sentencizer')"
   ]
  },
  {
   "cell_type": "code",
   "execution_count": 14,
   "metadata": {},
   "outputs": [],
   "source": [
    "def remove_end_link(tweet: str) -> str:\n",
    "    return tweet[:tweet.find('https://t.co/')]\n",
    "\n",
    "def remove_whitespaces(tweet: str) -> str:\n",
    "    return re.sub(r'\\s{1,}', ' ', tweet).strip()\n",
    "\n",
    "def tokenize_and_lemmatize(tweet: str) -> str:\n",
    "    tweet_doc = nlp(tweet)\n",
    "    result = ''\n",
    "    for sent in tweet_doc.sents:\n",
    "        sentence = ''\n",
    "        for token in sent:\n",
    "            lemma = token.lemma_.lower()\n",
    "            tag = token.tag_\n",
    "            sentence += lemma + '/' + tag + ' '\n",
    "        result += sentence.strip()\n",
    "    return result\n",
    "\n",
    "def pipeline(tweet: str) -> str:\n",
    "    step1 = remove_end_link(tweet)\n",
    "    step2 = remove_whitespaces(step1)\n",
    "    step3 = tokenize_and_lemmatize(step2)\n",
    "    return step3"
   ]
  },
  {
   "cell_type": "code",
   "execution_count": 15,
   "metadata": {},
   "outputs": [
    {
     "data": {
      "text/html": [
       "<div>\n",
       "<style scoped>\n",
       "    .dataframe tbody tr th:only-of-type {\n",
       "        vertical-align: middle;\n",
       "    }\n",
       "\n",
       "    .dataframe tbody tr th {\n",
       "        vertical-align: top;\n",
       "    }\n",
       "\n",
       "    .dataframe thead th {\n",
       "        text-align: right;\n",
       "    }\n",
       "</style>\n",
       "<table border=\"1\" class=\"dataframe\">\n",
       "  <thead>\n",
       "    <tr style=\"text-align: right;\">\n",
       "      <th></th>\n",
       "      <th>Unnamed: 0</th>\n",
       "      <th>tweet_text</th>\n",
       "      <th>tweet_favourite_count</th>\n",
       "      <th>tweet_created_at</th>\n",
       "      <th>tweet_retweet_count</th>\n",
       "      <th>user_statuses_count</th>\n",
       "      <th>user_screen_name</th>\n",
       "      <th>user_followers_count</th>\n",
       "      <th>followers_group</th>\n",
       "      <th>tweet_preprocessed</th>\n",
       "    </tr>\n",
       "  </thead>\n",
       "  <tbody>\n",
       "    <tr>\n",
       "      <th>0</th>\n",
       "      <td>0</td>\n",
       "      <td>The priority for the city should be on providi...</td>\n",
       "      <td>0</td>\n",
       "      <td>2023-03-27 21:01:36+00:00</td>\n",
       "      <td>0</td>\n",
       "      <td>10194</td>\n",
       "      <td>EmergencyAgent</td>\n",
       "      <td>1145</td>\n",
       "      <td>Medium</td>\n",
       "      <td>the/DT priority/NN for/IN the/DT city/NN shoul...</td>\n",
       "    </tr>\n",
       "    <tr>\n",
       "      <th>1</th>\n",
       "      <td>1</td>\n",
       "      <td>Like it or not, this kind of clip is the sort ...</td>\n",
       "      <td>0</td>\n",
       "      <td>2023-03-27 21:01:26+00:00</td>\n",
       "      <td>0</td>\n",
       "      <td>2843</td>\n",
       "      <td>EDenhoff</td>\n",
       "      <td>4630</td>\n",
       "      <td>Medium</td>\n",
       "      <td>like/IN it/PRP or/CC not/RB ,/, this/DT kind/N...</td>\n",
       "    </tr>\n",
       "    <tr>\n",
       "      <th>2</th>\n",
       "      <td>2</td>\n",
       "      <td>On a scale of moderately conservative (1) to r...</td>\n",
       "      <td>0</td>\n",
       "      <td>2023-03-27 21:01:16+00:00</td>\n",
       "      <td>0</td>\n",
       "      <td>13608</td>\n",
       "      <td>dzoolander85</td>\n",
       "      <td>11234</td>\n",
       "      <td>Many</td>\n",
       "      <td>on/IN a/DT scale/NN of/IN moderately/RB conser...</td>\n",
       "    </tr>\n",
       "    <tr>\n",
       "      <th>3</th>\n",
       "      <td>3</td>\n",
       "      <td>Keep up with the latest politics with The Dail...</td>\n",
       "      <td>0</td>\n",
       "      <td>2023-03-27 21:01:06+00:00</td>\n",
       "      <td>0</td>\n",
       "      <td>3610</td>\n",
       "      <td>VassKapelosShow</td>\n",
       "      <td>4901</td>\n",
       "      <td>Medium</td>\n",
       "      <td>keep/VB up/RP with/IN the/DT late/JJS politic/...</td>\n",
       "    </tr>\n",
       "    <tr>\n",
       "      <th>4</th>\n",
       "      <td>4</td>\n",
       "      <td>So much resemblance to NAZI Germany leading up...</td>\n",
       "      <td>0</td>\n",
       "      <td>2023-03-27 21:01:05+00:00</td>\n",
       "      <td>0</td>\n",
       "      <td>108226</td>\n",
       "      <td>marshiehilgs</td>\n",
       "      <td>515</td>\n",
       "      <td>Few</td>\n",
       "      <td>so/RB much/JJ resemblance/NN to/IN nazi/VB ger...</td>\n",
       "    </tr>\n",
       "  </tbody>\n",
       "</table>\n",
       "</div>"
      ],
      "text/plain": [
       "   Unnamed: 0                                         tweet_text  \\\n",
       "0           0  The priority for the city should be on providi...   \n",
       "1           1  Like it or not, this kind of clip is the sort ...   \n",
       "2           2  On a scale of moderately conservative (1) to r...   \n",
       "3           3  Keep up with the latest politics with The Dail...   \n",
       "4           4  So much resemblance to NAZI Germany leading up...   \n",
       "\n",
       "   tweet_favourite_count           tweet_created_at  tweet_retweet_count  \\\n",
       "0                      0  2023-03-27 21:01:36+00:00                    0   \n",
       "1                      0  2023-03-27 21:01:26+00:00                    0   \n",
       "2                      0  2023-03-27 21:01:16+00:00                    0   \n",
       "3                      0  2023-03-27 21:01:06+00:00                    0   \n",
       "4                      0  2023-03-27 21:01:05+00:00                    0   \n",
       "\n",
       "   user_statuses_count user_screen_name  user_followers_count followers_group  \\\n",
       "0                10194   EmergencyAgent                  1145          Medium   \n",
       "1                 2843         EDenhoff                  4630          Medium   \n",
       "2                13608     dzoolander85                 11234            Many   \n",
       "3                 3610  VassKapelosShow                  4901          Medium   \n",
       "4               108226     marshiehilgs                   515             Few   \n",
       "\n",
       "                                  tweet_preprocessed  \n",
       "0  the/DT priority/NN for/IN the/DT city/NN shoul...  \n",
       "1  like/IN it/PRP or/CC not/RB ,/, this/DT kind/N...  \n",
       "2  on/IN a/DT scale/NN of/IN moderately/RB conser...  \n",
       "3  keep/VB up/RP with/IN the/DT late/JJS politic/...  \n",
       "4  so/RB much/JJ resemblance/NN to/IN nazi/VB ger...  "
      ]
     },
     "execution_count": 15,
     "metadata": {},
     "output_type": "execute_result"
    }
   ],
   "source": [
    "df['tweet_preprocessed'] = df['tweet_text'].apply(pipeline)\n",
    "df.head()"
   ]
  },
  {
   "attachments": {},
   "cell_type": "markdown",
   "metadata": {},
   "source": [
    "# Feature Extraction"
   ]
  },
  {
   "cell_type": "code",
   "execution_count": 18,
   "metadata": {},
   "outputs": [],
   "source": [
    "bristol_norms = pd.read_csv('BristolNorms+GilhoolyLogie.csv')\n",
    "warriner_norms = pd.read_csv('Ratings_Warriner_et_al.csv')\n",
    "bristol_words = list(bristol_norms['WORD'])\n",
    "warriner_words = list(warriner_norms['Word'])\n",
    "bristol_norms.replace({np.nan: 0}, inplace=True)\n",
    "warriner_norms.replace({np.nan: 0}, inplace=True)"
   ]
  },
  {
   "cell_type": "code",
   "execution_count": 46,
   "metadata": {},
   "outputs": [],
   "source": [
    "# 0: hashtags\n",
    "# 1: personal pronouns\n",
    "# 2: proper nouns\n",
    "# 3: wh- words\n",
    "# 4: past tense verbs\n",
    "# 5: exclamation marks\n",
    "# 6: average word length\n",
    "# 7: adjectives\n",
    "# 8: adverbs\n",
    "# 9: mean AoA bristol norms\n",
    "# 10: mean IMG bristol norms\n",
    "# 11: mean FAM bristol norms\n",
    "# 12: std AoA bristol norms\n",
    "# 13: std IMG bristol norms\n",
    "# 14: std FAM bristol norms\n",
    "# 15: mean V.mean warriner norms\n",
    "# 16: mean A.mean warriner norms\n",
    "# 17: mean D.mean warriner norms\n",
    "# 18: std V.mean warriner norms\n",
    "# 19: std A.mean warriner norms\n",
    "# 20: std D.mean warriner norms\n",
    "def extract_features(tweet_preprocessed: str) -> np.array:\n",
    "    result = np.zeros(21)\n",
    "    tokens = tweet_preprocessed.split()\n",
    "    total_length, num_words = 0, 0\n",
    "    AoAs = []\n",
    "    IMGs = []\n",
    "    FAMs = []\n",
    "    v_means = []\n",
    "    a_means = []\n",
    "    d_means = []\n",
    "    \n",
    "    for token in tokens:\n",
    "        slash = token.find('/')\n",
    "        lemma = token[:slash]\n",
    "        tag = token[slash:]\n",
    "        if lemma == '#':\n",
    "            result[0] += 1\n",
    "        elif tag in ['/PRP', '/PRP$']:\n",
    "            result[1] += 1 \n",
    "        elif tag in ['/NNP', '/NNPS']:\n",
    "            result[2] += 1\n",
    "        elif tag in ['/WDT', '/WP', '/WP$', '/WRB']:\n",
    "            result[3] += 1\n",
    "        elif tag == '/VBD':\n",
    "            result[4] += 1\n",
    "        elif lemma == '!':\n",
    "            result[5] += 1\n",
    "        elif tag in ['/JJ', '/JJR', '/JJS']:\n",
    "            result[7] += 1\n",
    "        elif tag in ['/RB', '/RBR', '/RBS']:\n",
    "            result[8] += 1\n",
    "            \n",
    "        total_length += len(token)\n",
    "        num_words += 1\n",
    "        \n",
    "        b_norms = get_bristol_norms(lemma)\n",
    "        w_norms = get_warriner_norms(lemma)\n",
    "        if b_norms is not None:\n",
    "            AoAs.append(b_norms[0])\n",
    "            IMGs.append(b_norms[1])\n",
    "            FAMs.append(b_norms[2])\n",
    "        \n",
    "        if w_norms is not None:\n",
    "            v_means.append(w_norms[0])\n",
    "            a_means.append(w_norms[1])\n",
    "            d_means.append(w_norms[2])\n",
    "    if num_words != 0:\n",
    "        result[6] = total_length / num_words\n",
    "        \n",
    "    if len(AoAs) != 0:\n",
    "        result[9], result[10], result[11] = np.mean(AoAs), np.mean(IMGs), np.mean(FAMs)\n",
    "        result[12], result[13], result[14] = np.std(AoAs), np.std(IMGs), np.std(FAMs)    \n",
    "    if len(v_means) != 0:\n",
    "        result[15], result[16], result[17] = np.mean(v_means), np.mean(a_means), np.mean(d_means)\n",
    "        result[18], result[19], result[20] = np.std(v_means), np.std(a_means), np.std(d_means)\n",
    "    \n",
    "    return result\n",
    "\n",
    "def get_bristol_norms(lemma: str) -> Optional[Tuple[int, int, int]]:\n",
    "    try: \n",
    "        row = bristol_words.index(lemma)\n",
    "        AoA = bristol_norms.iloc[row, 3]\n",
    "        IMG = bristol_norms.iloc[row, 4]\n",
    "        FAM = bristol_norms.iloc[row, 5]\n",
    "        return (AoA, IMG, FAM)\n",
    "    \n",
    "    except ValueError:\n",
    "        return None\n",
    "    \n",
    "def get_warriner_norms(lemma: str) -> Optional[Tuple[int, int, int]]:\n",
    "    try: \n",
    "        row = warriner_words.index(lemma)\n",
    "        v_mean = warriner_norms.iloc[row, 2]\n",
    "        a_mean = warriner_norms.iloc[row, 5]\n",
    "        d_mean = warriner_norms.iloc[row, 8]\n",
    "        return (v_mean, a_mean, d_mean)\n",
    "    \n",
    "    except ValueError:\n",
    "        return None"
   ]
  },
  {
   "cell_type": "code",
   "execution_count": 38,
   "metadata": {},
   "outputs": [],
   "source": [
    "X_train, X_test, y_train, y_test = train_test_split(df['tweet_preprocessed'], df['followers_group'], test_size=0.2, random_state=270)\n",
    "X_train, X_test = list(X_train), list(X_test)"
   ]
  },
  {
   "cell_type": "code",
   "execution_count": 47,
   "metadata": {},
   "outputs": [],
   "source": [
    "features_train = np.zeros((len(X_train), 21))\n",
    "for i in range(len(X_train)):\n",
    "    features_train[i] = extract_features(X_train[i])"
   ]
  },
  {
   "cell_type": "code",
   "execution_count": 55,
   "metadata": {},
   "outputs": [],
   "source": [
    "features_test = np.zeros((len(X_test), 21))\n",
    "for i in range(len(X_test)):\n",
    "    features_test[i] = extract_features(X_test[i])"
   ]
  },
  {
   "cell_type": "code",
   "execution_count": 58,
   "metadata": {},
   "outputs": [
    {
     "data": {
      "text/plain": [
       "Medium    3491\n",
       "Few       3367\n",
       "Many      1142\n",
       "Name: followers_group, dtype: int64"
      ]
     },
     "execution_count": 58,
     "metadata": {},
     "output_type": "execute_result"
    }
   ],
   "source": [
    "y_train.value_counts()"
   ]
  },
  {
   "cell_type": "code",
   "execution_count": 59,
   "metadata": {},
   "outputs": [
    {
     "data": {
      "text/plain": [
       "Medium    880\n",
       "Few       849\n",
       "Many      271\n",
       "Name: followers_group, dtype: int64"
      ]
     },
     "execution_count": 59,
     "metadata": {},
     "output_type": "execute_result"
    }
   ],
   "source": [
    "y_test.value_counts()"
   ]
  },
  {
   "attachments": {},
   "cell_type": "markdown",
   "metadata": {},
   "source": [
    "# Building Models"
   ]
  },
  {
   "attachments": {},
   "cell_type": "markdown",
   "metadata": {},
   "source": [
    "## Random Forest"
   ]
  },
  {
   "cell_type": "code",
   "execution_count": 70,
   "metadata": {},
   "outputs": [
    {
     "data": {
      "text/html": [
       "<style>#sk-container-id-2 {color: black;background-color: white;}#sk-container-id-2 pre{padding: 0;}#sk-container-id-2 div.sk-toggleable {background-color: white;}#sk-container-id-2 label.sk-toggleable__label {cursor: pointer;display: block;width: 100%;margin-bottom: 0;padding: 0.3em;box-sizing: border-box;text-align: center;}#sk-container-id-2 label.sk-toggleable__label-arrow:before {content: \"▸\";float: left;margin-right: 0.25em;color: #696969;}#sk-container-id-2 label.sk-toggleable__label-arrow:hover:before {color: black;}#sk-container-id-2 div.sk-estimator:hover label.sk-toggleable__label-arrow:before {color: black;}#sk-container-id-2 div.sk-toggleable__content {max-height: 0;max-width: 0;overflow: hidden;text-align: left;background-color: #f0f8ff;}#sk-container-id-2 div.sk-toggleable__content pre {margin: 0.2em;color: black;border-radius: 0.25em;background-color: #f0f8ff;}#sk-container-id-2 input.sk-toggleable__control:checked~div.sk-toggleable__content {max-height: 200px;max-width: 100%;overflow: auto;}#sk-container-id-2 input.sk-toggleable__control:checked~label.sk-toggleable__label-arrow:before {content: \"▾\";}#sk-container-id-2 div.sk-estimator input.sk-toggleable__control:checked~label.sk-toggleable__label {background-color: #d4ebff;}#sk-container-id-2 div.sk-label input.sk-toggleable__control:checked~label.sk-toggleable__label {background-color: #d4ebff;}#sk-container-id-2 input.sk-hidden--visually {border: 0;clip: rect(1px 1px 1px 1px);clip: rect(1px, 1px, 1px, 1px);height: 1px;margin: -1px;overflow: hidden;padding: 0;position: absolute;width: 1px;}#sk-container-id-2 div.sk-estimator {font-family: monospace;background-color: #f0f8ff;border: 1px dotted black;border-radius: 0.25em;box-sizing: border-box;margin-bottom: 0.5em;}#sk-container-id-2 div.sk-estimator:hover {background-color: #d4ebff;}#sk-container-id-2 div.sk-parallel-item::after {content: \"\";width: 100%;border-bottom: 1px solid gray;flex-grow: 1;}#sk-container-id-2 div.sk-label:hover label.sk-toggleable__label {background-color: #d4ebff;}#sk-container-id-2 div.sk-serial::before {content: \"\";position: absolute;border-left: 1px solid gray;box-sizing: border-box;top: 0;bottom: 0;left: 50%;z-index: 0;}#sk-container-id-2 div.sk-serial {display: flex;flex-direction: column;align-items: center;background-color: white;padding-right: 0.2em;padding-left: 0.2em;position: relative;}#sk-container-id-2 div.sk-item {position: relative;z-index: 1;}#sk-container-id-2 div.sk-parallel {display: flex;align-items: stretch;justify-content: center;background-color: white;position: relative;}#sk-container-id-2 div.sk-item::before, #sk-container-id-2 div.sk-parallel-item::before {content: \"\";position: absolute;border-left: 1px solid gray;box-sizing: border-box;top: 0;bottom: 0;left: 50%;z-index: -1;}#sk-container-id-2 div.sk-parallel-item {display: flex;flex-direction: column;z-index: 1;position: relative;background-color: white;}#sk-container-id-2 div.sk-parallel-item:first-child::after {align-self: flex-end;width: 50%;}#sk-container-id-2 div.sk-parallel-item:last-child::after {align-self: flex-start;width: 50%;}#sk-container-id-2 div.sk-parallel-item:only-child::after {width: 0;}#sk-container-id-2 div.sk-dashed-wrapped {border: 1px dashed gray;margin: 0 0.4em 0.5em 0.4em;box-sizing: border-box;padding-bottom: 0.4em;background-color: white;}#sk-container-id-2 div.sk-label label {font-family: monospace;font-weight: bold;display: inline-block;line-height: 1.2em;}#sk-container-id-2 div.sk-label-container {text-align: center;}#sk-container-id-2 div.sk-container {/* jupyter's `normalize.less` sets `[hidden] { display: none; }` but bootstrap.min.css set `[hidden] { display: none !important; }` so we also need the `!important` here to be able to override the default hidden behavior on the sphinx rendered scikit-learn.org. See: https://github.com/scikit-learn/scikit-learn/issues/21755 */display: inline-block !important;position: relative;}#sk-container-id-2 div.sk-text-repr-fallback {display: none;}</style><div id=\"sk-container-id-2\" class=\"sk-top-container\"><div class=\"sk-text-repr-fallback\"><pre>RandomForestClassifier(random_state=270)</pre><b>In a Jupyter environment, please rerun this cell to show the HTML representation or trust the notebook. <br />On GitHub, the HTML representation is unable to render, please try loading this page with nbviewer.org.</b></div><div class=\"sk-container\" hidden><div class=\"sk-item\"><div class=\"sk-estimator sk-toggleable\"><input class=\"sk-toggleable__control sk-hidden--visually\" id=\"sk-estimator-id-2\" type=\"checkbox\" checked><label for=\"sk-estimator-id-2\" class=\"sk-toggleable__label sk-toggleable__label-arrow\">RandomForestClassifier</label><div class=\"sk-toggleable__content\"><pre>RandomForestClassifier(random_state=270)</pre></div></div></div></div></div>"
      ],
      "text/plain": [
       "RandomForestClassifier(random_state=270)"
      ]
     },
     "execution_count": 70,
     "metadata": {},
     "output_type": "execute_result"
    }
   ],
   "source": [
    "random_forest = RandomForestClassifier(random_state=270)\n",
    "random_forest.fit(features_train, y_train)"
   ]
  },
  {
   "cell_type": "code",
   "execution_count": 71,
   "metadata": {},
   "outputs": [
    {
     "data": {
      "text/plain": [
       "0.997"
      ]
     },
     "execution_count": 71,
     "metadata": {},
     "output_type": "execute_result"
    }
   ],
   "source": [
    "random_forest.score(features_train, y_train)"
   ]
  },
  {
   "cell_type": "code",
   "execution_count": 79,
   "metadata": {},
   "outputs": [
    {
     "data": {
      "text/plain": [
       "array([[3359,    8,    0],\n",
       "       [   2, 3485,    4],\n",
       "       [   3,    7, 1132]])"
      ]
     },
     "execution_count": 79,
     "metadata": {},
     "output_type": "execute_result"
    }
   ],
   "source": [
    "confusion_matrix(y_train, random_forest.predict(features_train), labels=['Few', 'Medium', 'Many'])"
   ]
  },
  {
   "attachments": {},
   "cell_type": "markdown",
   "metadata": {},
   "source": [
    "## Ada Boost"
   ]
  },
  {
   "cell_type": "code",
   "execution_count": 81,
   "metadata": {},
   "outputs": [
    {
     "data": {
      "text/html": [
       "<style>#sk-container-id-3 {color: black;background-color: white;}#sk-container-id-3 pre{padding: 0;}#sk-container-id-3 div.sk-toggleable {background-color: white;}#sk-container-id-3 label.sk-toggleable__label {cursor: pointer;display: block;width: 100%;margin-bottom: 0;padding: 0.3em;box-sizing: border-box;text-align: center;}#sk-container-id-3 label.sk-toggleable__label-arrow:before {content: \"▸\";float: left;margin-right: 0.25em;color: #696969;}#sk-container-id-3 label.sk-toggleable__label-arrow:hover:before {color: black;}#sk-container-id-3 div.sk-estimator:hover label.sk-toggleable__label-arrow:before {color: black;}#sk-container-id-3 div.sk-toggleable__content {max-height: 0;max-width: 0;overflow: hidden;text-align: left;background-color: #f0f8ff;}#sk-container-id-3 div.sk-toggleable__content pre {margin: 0.2em;color: black;border-radius: 0.25em;background-color: #f0f8ff;}#sk-container-id-3 input.sk-toggleable__control:checked~div.sk-toggleable__content {max-height: 200px;max-width: 100%;overflow: auto;}#sk-container-id-3 input.sk-toggleable__control:checked~label.sk-toggleable__label-arrow:before {content: \"▾\";}#sk-container-id-3 div.sk-estimator input.sk-toggleable__control:checked~label.sk-toggleable__label {background-color: #d4ebff;}#sk-container-id-3 div.sk-label input.sk-toggleable__control:checked~label.sk-toggleable__label {background-color: #d4ebff;}#sk-container-id-3 input.sk-hidden--visually {border: 0;clip: rect(1px 1px 1px 1px);clip: rect(1px, 1px, 1px, 1px);height: 1px;margin: -1px;overflow: hidden;padding: 0;position: absolute;width: 1px;}#sk-container-id-3 div.sk-estimator {font-family: monospace;background-color: #f0f8ff;border: 1px dotted black;border-radius: 0.25em;box-sizing: border-box;margin-bottom: 0.5em;}#sk-container-id-3 div.sk-estimator:hover {background-color: #d4ebff;}#sk-container-id-3 div.sk-parallel-item::after {content: \"\";width: 100%;border-bottom: 1px solid gray;flex-grow: 1;}#sk-container-id-3 div.sk-label:hover label.sk-toggleable__label {background-color: #d4ebff;}#sk-container-id-3 div.sk-serial::before {content: \"\";position: absolute;border-left: 1px solid gray;box-sizing: border-box;top: 0;bottom: 0;left: 50%;z-index: 0;}#sk-container-id-3 div.sk-serial {display: flex;flex-direction: column;align-items: center;background-color: white;padding-right: 0.2em;padding-left: 0.2em;position: relative;}#sk-container-id-3 div.sk-item {position: relative;z-index: 1;}#sk-container-id-3 div.sk-parallel {display: flex;align-items: stretch;justify-content: center;background-color: white;position: relative;}#sk-container-id-3 div.sk-item::before, #sk-container-id-3 div.sk-parallel-item::before {content: \"\";position: absolute;border-left: 1px solid gray;box-sizing: border-box;top: 0;bottom: 0;left: 50%;z-index: -1;}#sk-container-id-3 div.sk-parallel-item {display: flex;flex-direction: column;z-index: 1;position: relative;background-color: white;}#sk-container-id-3 div.sk-parallel-item:first-child::after {align-self: flex-end;width: 50%;}#sk-container-id-3 div.sk-parallel-item:last-child::after {align-self: flex-start;width: 50%;}#sk-container-id-3 div.sk-parallel-item:only-child::after {width: 0;}#sk-container-id-3 div.sk-dashed-wrapped {border: 1px dashed gray;margin: 0 0.4em 0.5em 0.4em;box-sizing: border-box;padding-bottom: 0.4em;background-color: white;}#sk-container-id-3 div.sk-label label {font-family: monospace;font-weight: bold;display: inline-block;line-height: 1.2em;}#sk-container-id-3 div.sk-label-container {text-align: center;}#sk-container-id-3 div.sk-container {/* jupyter's `normalize.less` sets `[hidden] { display: none; }` but bootstrap.min.css set `[hidden] { display: none !important; }` so we also need the `!important` here to be able to override the default hidden behavior on the sphinx rendered scikit-learn.org. See: https://github.com/scikit-learn/scikit-learn/issues/21755 */display: inline-block !important;position: relative;}#sk-container-id-3 div.sk-text-repr-fallback {display: none;}</style><div id=\"sk-container-id-3\" class=\"sk-top-container\"><div class=\"sk-text-repr-fallback\"><pre>AdaBoostClassifier(random_state=270)</pre><b>In a Jupyter environment, please rerun this cell to show the HTML representation or trust the notebook. <br />On GitHub, the HTML representation is unable to render, please try loading this page with nbviewer.org.</b></div><div class=\"sk-container\" hidden><div class=\"sk-item\"><div class=\"sk-estimator sk-toggleable\"><input class=\"sk-toggleable__control sk-hidden--visually\" id=\"sk-estimator-id-3\" type=\"checkbox\" checked><label for=\"sk-estimator-id-3\" class=\"sk-toggleable__label sk-toggleable__label-arrow\">AdaBoostClassifier</label><div class=\"sk-toggleable__content\"><pre>AdaBoostClassifier(random_state=270)</pre></div></div></div></div></div>"
      ],
      "text/plain": [
       "AdaBoostClassifier(random_state=270)"
      ]
     },
     "execution_count": 81,
     "metadata": {},
     "output_type": "execute_result"
    }
   ],
   "source": [
    "ada_boost = AdaBoostClassifier(random_state=270)\n",
    "ada_boost.fit(features_train, y_train)"
   ]
  },
  {
   "cell_type": "code",
   "execution_count": 82,
   "metadata": {},
   "outputs": [
    {
     "data": {
      "text/plain": [
       "0.481375"
      ]
     },
     "execution_count": 82,
     "metadata": {},
     "output_type": "execute_result"
    }
   ],
   "source": [
    "ada_boost.score(features_train, y_train)"
   ]
  },
  {
   "cell_type": "code",
   "execution_count": 83,
   "metadata": {},
   "outputs": [
    {
     "data": {
      "text/plain": [
       "array([[1625, 1688,   54],\n",
       "       [1275, 2152,   64],\n",
       "       [ 328,  740,   74]])"
      ]
     },
     "execution_count": 83,
     "metadata": {},
     "output_type": "execute_result"
    }
   ],
   "source": [
    "confusion_matrix(y_train, ada_boost.predict(features_train), labels=['Few', 'Medium', 'Many'])"
   ]
  },
  {
   "attachments": {},
   "cell_type": "markdown",
   "metadata": {},
   "source": [
    "## Gaussian Naive Bayes"
   ]
  },
  {
   "cell_type": "code",
   "execution_count": 85,
   "metadata": {},
   "outputs": [
    {
     "data": {
      "text/html": [
       "<style>#sk-container-id-4 {color: black;background-color: white;}#sk-container-id-4 pre{padding: 0;}#sk-container-id-4 div.sk-toggleable {background-color: white;}#sk-container-id-4 label.sk-toggleable__label {cursor: pointer;display: block;width: 100%;margin-bottom: 0;padding: 0.3em;box-sizing: border-box;text-align: center;}#sk-container-id-4 label.sk-toggleable__label-arrow:before {content: \"▸\";float: left;margin-right: 0.25em;color: #696969;}#sk-container-id-4 label.sk-toggleable__label-arrow:hover:before {color: black;}#sk-container-id-4 div.sk-estimator:hover label.sk-toggleable__label-arrow:before {color: black;}#sk-container-id-4 div.sk-toggleable__content {max-height: 0;max-width: 0;overflow: hidden;text-align: left;background-color: #f0f8ff;}#sk-container-id-4 div.sk-toggleable__content pre {margin: 0.2em;color: black;border-radius: 0.25em;background-color: #f0f8ff;}#sk-container-id-4 input.sk-toggleable__control:checked~div.sk-toggleable__content {max-height: 200px;max-width: 100%;overflow: auto;}#sk-container-id-4 input.sk-toggleable__control:checked~label.sk-toggleable__label-arrow:before {content: \"▾\";}#sk-container-id-4 div.sk-estimator input.sk-toggleable__control:checked~label.sk-toggleable__label {background-color: #d4ebff;}#sk-container-id-4 div.sk-label input.sk-toggleable__control:checked~label.sk-toggleable__label {background-color: #d4ebff;}#sk-container-id-4 input.sk-hidden--visually {border: 0;clip: rect(1px 1px 1px 1px);clip: rect(1px, 1px, 1px, 1px);height: 1px;margin: -1px;overflow: hidden;padding: 0;position: absolute;width: 1px;}#sk-container-id-4 div.sk-estimator {font-family: monospace;background-color: #f0f8ff;border: 1px dotted black;border-radius: 0.25em;box-sizing: border-box;margin-bottom: 0.5em;}#sk-container-id-4 div.sk-estimator:hover {background-color: #d4ebff;}#sk-container-id-4 div.sk-parallel-item::after {content: \"\";width: 100%;border-bottom: 1px solid gray;flex-grow: 1;}#sk-container-id-4 div.sk-label:hover label.sk-toggleable__label {background-color: #d4ebff;}#sk-container-id-4 div.sk-serial::before {content: \"\";position: absolute;border-left: 1px solid gray;box-sizing: border-box;top: 0;bottom: 0;left: 50%;z-index: 0;}#sk-container-id-4 div.sk-serial {display: flex;flex-direction: column;align-items: center;background-color: white;padding-right: 0.2em;padding-left: 0.2em;position: relative;}#sk-container-id-4 div.sk-item {position: relative;z-index: 1;}#sk-container-id-4 div.sk-parallel {display: flex;align-items: stretch;justify-content: center;background-color: white;position: relative;}#sk-container-id-4 div.sk-item::before, #sk-container-id-4 div.sk-parallel-item::before {content: \"\";position: absolute;border-left: 1px solid gray;box-sizing: border-box;top: 0;bottom: 0;left: 50%;z-index: -1;}#sk-container-id-4 div.sk-parallel-item {display: flex;flex-direction: column;z-index: 1;position: relative;background-color: white;}#sk-container-id-4 div.sk-parallel-item:first-child::after {align-self: flex-end;width: 50%;}#sk-container-id-4 div.sk-parallel-item:last-child::after {align-self: flex-start;width: 50%;}#sk-container-id-4 div.sk-parallel-item:only-child::after {width: 0;}#sk-container-id-4 div.sk-dashed-wrapped {border: 1px dashed gray;margin: 0 0.4em 0.5em 0.4em;box-sizing: border-box;padding-bottom: 0.4em;background-color: white;}#sk-container-id-4 div.sk-label label {font-family: monospace;font-weight: bold;display: inline-block;line-height: 1.2em;}#sk-container-id-4 div.sk-label-container {text-align: center;}#sk-container-id-4 div.sk-container {/* jupyter's `normalize.less` sets `[hidden] { display: none; }` but bootstrap.min.css set `[hidden] { display: none !important; }` so we also need the `!important` here to be able to override the default hidden behavior on the sphinx rendered scikit-learn.org. See: https://github.com/scikit-learn/scikit-learn/issues/21755 */display: inline-block !important;position: relative;}#sk-container-id-4 div.sk-text-repr-fallback {display: none;}</style><div id=\"sk-container-id-4\" class=\"sk-top-container\"><div class=\"sk-text-repr-fallback\"><pre>GaussianNB()</pre><b>In a Jupyter environment, please rerun this cell to show the HTML representation or trust the notebook. <br />On GitHub, the HTML representation is unable to render, please try loading this page with nbviewer.org.</b></div><div class=\"sk-container\" hidden><div class=\"sk-item\"><div class=\"sk-estimator sk-toggleable\"><input class=\"sk-toggleable__control sk-hidden--visually\" id=\"sk-estimator-id-4\" type=\"checkbox\" checked><label for=\"sk-estimator-id-4\" class=\"sk-toggleable__label sk-toggleable__label-arrow\">GaussianNB</label><div class=\"sk-toggleable__content\"><pre>GaussianNB()</pre></div></div></div></div></div>"
      ],
      "text/plain": [
       "GaussianNB()"
      ]
     },
     "execution_count": 85,
     "metadata": {},
     "output_type": "execute_result"
    }
   ],
   "source": [
    "gaussian_nb = GaussianNB()\n",
    "gaussian_nb.fit(features_train, y_train)"
   ]
  },
  {
   "cell_type": "code",
   "execution_count": 86,
   "metadata": {},
   "outputs": [
    {
     "data": {
      "text/plain": [
       "0.2855"
      ]
     },
     "execution_count": 86,
     "metadata": {},
     "output_type": "execute_result"
    }
   ],
   "source": [
    "gaussian_nb.score(features_train, y_train)"
   ]
  },
  {
   "cell_type": "code",
   "execution_count": 88,
   "metadata": {},
   "outputs": [
    {
     "data": {
      "text/plain": [
       "array([[ 916,  539, 1912],\n",
       "       [ 807,  521, 2163],\n",
       "       [ 150,  145,  847]])"
      ]
     },
     "execution_count": 88,
     "metadata": {},
     "output_type": "execute_result"
    }
   ],
   "source": [
    "confusion_matrix(y_train, gaussian_nb.predict(features_train), labels=['Few', 'Medium', 'Many'])"
   ]
  },
  {
   "attachments": {},
   "cell_type": "markdown",
   "metadata": {},
   "source": [
    "## SVM"
   ]
  },
  {
   "cell_type": "code",
   "execution_count": 89,
   "metadata": {},
   "outputs": [
    {
     "data": {
      "text/html": [
       "<style>#sk-container-id-5 {color: black;background-color: white;}#sk-container-id-5 pre{padding: 0;}#sk-container-id-5 div.sk-toggleable {background-color: white;}#sk-container-id-5 label.sk-toggleable__label {cursor: pointer;display: block;width: 100%;margin-bottom: 0;padding: 0.3em;box-sizing: border-box;text-align: center;}#sk-container-id-5 label.sk-toggleable__label-arrow:before {content: \"▸\";float: left;margin-right: 0.25em;color: #696969;}#sk-container-id-5 label.sk-toggleable__label-arrow:hover:before {color: black;}#sk-container-id-5 div.sk-estimator:hover label.sk-toggleable__label-arrow:before {color: black;}#sk-container-id-5 div.sk-toggleable__content {max-height: 0;max-width: 0;overflow: hidden;text-align: left;background-color: #f0f8ff;}#sk-container-id-5 div.sk-toggleable__content pre {margin: 0.2em;color: black;border-radius: 0.25em;background-color: #f0f8ff;}#sk-container-id-5 input.sk-toggleable__control:checked~div.sk-toggleable__content {max-height: 200px;max-width: 100%;overflow: auto;}#sk-container-id-5 input.sk-toggleable__control:checked~label.sk-toggleable__label-arrow:before {content: \"▾\";}#sk-container-id-5 div.sk-estimator input.sk-toggleable__control:checked~label.sk-toggleable__label {background-color: #d4ebff;}#sk-container-id-5 div.sk-label input.sk-toggleable__control:checked~label.sk-toggleable__label {background-color: #d4ebff;}#sk-container-id-5 input.sk-hidden--visually {border: 0;clip: rect(1px 1px 1px 1px);clip: rect(1px, 1px, 1px, 1px);height: 1px;margin: -1px;overflow: hidden;padding: 0;position: absolute;width: 1px;}#sk-container-id-5 div.sk-estimator {font-family: monospace;background-color: #f0f8ff;border: 1px dotted black;border-radius: 0.25em;box-sizing: border-box;margin-bottom: 0.5em;}#sk-container-id-5 div.sk-estimator:hover {background-color: #d4ebff;}#sk-container-id-5 div.sk-parallel-item::after {content: \"\";width: 100%;border-bottom: 1px solid gray;flex-grow: 1;}#sk-container-id-5 div.sk-label:hover label.sk-toggleable__label {background-color: #d4ebff;}#sk-container-id-5 div.sk-serial::before {content: \"\";position: absolute;border-left: 1px solid gray;box-sizing: border-box;top: 0;bottom: 0;left: 50%;z-index: 0;}#sk-container-id-5 div.sk-serial {display: flex;flex-direction: column;align-items: center;background-color: white;padding-right: 0.2em;padding-left: 0.2em;position: relative;}#sk-container-id-5 div.sk-item {position: relative;z-index: 1;}#sk-container-id-5 div.sk-parallel {display: flex;align-items: stretch;justify-content: center;background-color: white;position: relative;}#sk-container-id-5 div.sk-item::before, #sk-container-id-5 div.sk-parallel-item::before {content: \"\";position: absolute;border-left: 1px solid gray;box-sizing: border-box;top: 0;bottom: 0;left: 50%;z-index: -1;}#sk-container-id-5 div.sk-parallel-item {display: flex;flex-direction: column;z-index: 1;position: relative;background-color: white;}#sk-container-id-5 div.sk-parallel-item:first-child::after {align-self: flex-end;width: 50%;}#sk-container-id-5 div.sk-parallel-item:last-child::after {align-self: flex-start;width: 50%;}#sk-container-id-5 div.sk-parallel-item:only-child::after {width: 0;}#sk-container-id-5 div.sk-dashed-wrapped {border: 1px dashed gray;margin: 0 0.4em 0.5em 0.4em;box-sizing: border-box;padding-bottom: 0.4em;background-color: white;}#sk-container-id-5 div.sk-label label {font-family: monospace;font-weight: bold;display: inline-block;line-height: 1.2em;}#sk-container-id-5 div.sk-label-container {text-align: center;}#sk-container-id-5 div.sk-container {/* jupyter's `normalize.less` sets `[hidden] { display: none; }` but bootstrap.min.css set `[hidden] { display: none !important; }` so we also need the `!important` here to be able to override the default hidden behavior on the sphinx rendered scikit-learn.org. See: https://github.com/scikit-learn/scikit-learn/issues/21755 */display: inline-block !important;position: relative;}#sk-container-id-5 div.sk-text-repr-fallback {display: none;}</style><div id=\"sk-container-id-5\" class=\"sk-top-container\"><div class=\"sk-text-repr-fallback\"><pre>SVC()</pre><b>In a Jupyter environment, please rerun this cell to show the HTML representation or trust the notebook. <br />On GitHub, the HTML representation is unable to render, please try loading this page with nbviewer.org.</b></div><div class=\"sk-container\" hidden><div class=\"sk-item\"><div class=\"sk-estimator sk-toggleable\"><input class=\"sk-toggleable__control sk-hidden--visually\" id=\"sk-estimator-id-5\" type=\"checkbox\" checked><label for=\"sk-estimator-id-5\" class=\"sk-toggleable__label sk-toggleable__label-arrow\">SVC</label><div class=\"sk-toggleable__content\"><pre>SVC()</pre></div></div></div></div></div>"
      ],
      "text/plain": [
       "SVC()"
      ]
     },
     "execution_count": 89,
     "metadata": {},
     "output_type": "execute_result"
    }
   ],
   "source": [
    "svc = SVC()\n",
    "svc.fit(features_train, y_train)"
   ]
  },
  {
   "cell_type": "code",
   "execution_count": 91,
   "metadata": {},
   "outputs": [
    {
     "data": {
      "text/plain": [
       "0.4435"
      ]
     },
     "execution_count": 91,
     "metadata": {},
     "output_type": "execute_result"
    }
   ],
   "source": [
    "svc.score(features_train, y_train)"
   ]
  },
  {
   "cell_type": "code",
   "execution_count": 92,
   "metadata": {},
   "outputs": [
    {
     "data": {
      "text/plain": [
       "array([[ 690, 2677,    0],\n",
       "       [ 633, 2858,    0],\n",
       "       [ 134, 1008,    0]])"
      ]
     },
     "execution_count": 92,
     "metadata": {},
     "output_type": "execute_result"
    }
   ],
   "source": [
    "confusion_matrix(y_train, svc.predict(features_train), labels=['Few', 'Medium', 'Many'])"
   ]
  },
  {
   "attachments": {},
   "cell_type": "markdown",
   "metadata": {},
   "source": [
    "# Evaluation"
   ]
  },
  {
   "cell_type": "code",
   "execution_count": 93,
   "metadata": {},
   "outputs": [],
   "source": [
    "predictions = random_forest.predict(features_test)"
   ]
  },
  {
   "cell_type": "code",
   "execution_count": 95,
   "metadata": {},
   "outputs": [
    {
     "data": {
      "text/plain": [
       "array([[457, 391,   1],\n",
       "       [350, 521,   9],\n",
       "       [ 86, 158,  27]])"
      ]
     },
     "execution_count": 95,
     "metadata": {},
     "output_type": "execute_result"
    }
   ],
   "source": [
    "confusion_matrix(y_test, predictions, labels=['Few', 'Medium', 'Many'])"
   ]
  },
  {
   "cell_type": "code",
   "execution_count": 96,
   "metadata": {},
   "outputs": [
    {
     "data": {
      "text/plain": [
       "0.5025"
      ]
     },
     "execution_count": 96,
     "metadata": {},
     "output_type": "execute_result"
    }
   ],
   "source": [
    "random_forest.score(features_test, y_test)"
   ]
  }
 ],
 "metadata": {
  "kernelspec": {
   "display_name": "Python 3",
   "language": "python",
   "name": "python3"
  },
  "language_info": {
   "codemirror_mode": {
    "name": "ipython",
    "version": 3
   },
   "file_extension": ".py",
   "mimetype": "text/x-python",
   "name": "python",
   "nbconvert_exporter": "python",
   "pygments_lexer": "ipython3",
   "version": "3.10.1"
  },
  "orig_nbformat": 4
 },
 "nbformat": 4,
 "nbformat_minor": 2
}
