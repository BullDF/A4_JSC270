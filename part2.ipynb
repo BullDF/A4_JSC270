{
 "cells": [
  {
   "cell_type": "code",
   "execution_count": 15,
   "metadata": {},
   "outputs": [],
   "source": [
    "import pandas as pd\n",
    "import numpy as np\n",
    "import matplotlib.pyplot as plt\n",
    "import seaborn as sns\n",
    "import spacy\n",
    "import re"
   ]
  },
  {
   "cell_type": "code",
   "execution_count": 3,
   "metadata": {},
   "outputs": [
    {
     "data": {
      "text/html": [
       "<div>\n",
       "<style scoped>\n",
       "    .dataframe tbody tr th:only-of-type {\n",
       "        vertical-align: middle;\n",
       "    }\n",
       "\n",
       "    .dataframe tbody tr th {\n",
       "        vertical-align: top;\n",
       "    }\n",
       "\n",
       "    .dataframe thead th {\n",
       "        text-align: right;\n",
       "    }\n",
       "</style>\n",
       "<table border=\"1\" class=\"dataframe\">\n",
       "  <thead>\n",
       "    <tr style=\"text-align: right;\">\n",
       "      <th></th>\n",
       "      <th>Unnamed: 0</th>\n",
       "      <th>tweet_text</th>\n",
       "      <th>tweet_favourite_count</th>\n",
       "      <th>tweet_created_at</th>\n",
       "      <th>tweet_retweet_count</th>\n",
       "      <th>user_statuses_count</th>\n",
       "      <th>user_screen_name</th>\n",
       "      <th>user_followers_count</th>\n",
       "    </tr>\n",
       "  </thead>\n",
       "  <tbody>\n",
       "    <tr>\n",
       "      <th>0</th>\n",
       "      <td>0</td>\n",
       "      <td>The priority for the city should be on providi...</td>\n",
       "      <td>0</td>\n",
       "      <td>2023-03-27 21:01:36+00:00</td>\n",
       "      <td>0</td>\n",
       "      <td>10194</td>\n",
       "      <td>EmergencyAgent</td>\n",
       "      <td>1145</td>\n",
       "    </tr>\n",
       "    <tr>\n",
       "      <th>1</th>\n",
       "      <td>1</td>\n",
       "      <td>Like it or not, this kind of clip is the sort ...</td>\n",
       "      <td>0</td>\n",
       "      <td>2023-03-27 21:01:26+00:00</td>\n",
       "      <td>0</td>\n",
       "      <td>2843</td>\n",
       "      <td>EDenhoff</td>\n",
       "      <td>4630</td>\n",
       "    </tr>\n",
       "    <tr>\n",
       "      <th>2</th>\n",
       "      <td>2</td>\n",
       "      <td>On a scale of moderately conservative (1) to r...</td>\n",
       "      <td>0</td>\n",
       "      <td>2023-03-27 21:01:16+00:00</td>\n",
       "      <td>0</td>\n",
       "      <td>13608</td>\n",
       "      <td>dzoolander85</td>\n",
       "      <td>11234</td>\n",
       "    </tr>\n",
       "    <tr>\n",
       "      <th>3</th>\n",
       "      <td>3</td>\n",
       "      <td>Keep up with the latest politics with The Dail...</td>\n",
       "      <td>0</td>\n",
       "      <td>2023-03-27 21:01:06+00:00</td>\n",
       "      <td>0</td>\n",
       "      <td>3610</td>\n",
       "      <td>VassKapelosShow</td>\n",
       "      <td>4901</td>\n",
       "    </tr>\n",
       "    <tr>\n",
       "      <th>4</th>\n",
       "      <td>4</td>\n",
       "      <td>So much resemblance to NAZI Germany leading up...</td>\n",
       "      <td>0</td>\n",
       "      <td>2023-03-27 21:01:05+00:00</td>\n",
       "      <td>0</td>\n",
       "      <td>108226</td>\n",
       "      <td>marshiehilgs</td>\n",
       "      <td>515</td>\n",
       "    </tr>\n",
       "  </tbody>\n",
       "</table>\n",
       "</div>"
      ],
      "text/plain": [
       "   Unnamed: 0                                         tweet_text  \\\n",
       "0           0  The priority for the city should be on providi...   \n",
       "1           1  Like it or not, this kind of clip is the sort ...   \n",
       "2           2  On a scale of moderately conservative (1) to r...   \n",
       "3           3  Keep up with the latest politics with The Dail...   \n",
       "4           4  So much resemblance to NAZI Germany leading up...   \n",
       "\n",
       "   tweet_favourite_count           tweet_created_at  tweet_retweet_count  \\\n",
       "0                      0  2023-03-27 21:01:36+00:00                    0   \n",
       "1                      0  2023-03-27 21:01:26+00:00                    0   \n",
       "2                      0  2023-03-27 21:01:16+00:00                    0   \n",
       "3                      0  2023-03-27 21:01:06+00:00                    0   \n",
       "4                      0  2023-03-27 21:01:05+00:00                    0   \n",
       "\n",
       "   user_statuses_count user_screen_name  user_followers_count  \n",
       "0                10194   EmergencyAgent                  1145  \n",
       "1                 2843         EDenhoff                  4630  \n",
       "2                13608     dzoolander85                 11234  \n",
       "3                 3610  VassKapelosShow                  4901  \n",
       "4               108226     marshiehilgs                   515  "
      ]
     },
     "execution_count": 3,
     "metadata": {},
     "output_type": "execute_result"
    }
   ],
   "source": [
    "df = pd.read_csv('tweets.csv')\n",
    "df.head()"
   ]
  },
  {
   "attachments": {},
   "cell_type": "markdown",
   "metadata": {},
   "source": [
    "# Exploratory Analysis"
   ]
  },
  {
   "cell_type": "code",
   "execution_count": 39,
   "metadata": {},
   "outputs": [
    {
     "data": {
      "image/png": "[encoded data removed]",
      "text/plain": [
       "<Figure size 640x480 with 1 Axes>"
      ]
     },
     "metadata": {},
     "output_type": "display_data"
    }
   ],
   "source": [
    "sns.histplot(df['user_followers_count'], binwidth=20000)\n",
    "plt.show()"
   ]
  },
  {
   "cell_type": "code",
   "execution_count": 4,
   "metadata": {},
   "outputs": [],
   "source": [
    "def group_followers(num_followers: int) -> str:\n",
    "    if 0 <= num_followers <= 1000:\n",
    "        return 'Few'\n",
    "    elif 1000 < num_followers <= 10000:\n",
    "        return 'Medium'\n",
    "    else:\n",
    "        return 'Many'"
   ]
  },
  {
   "cell_type": "code",
   "execution_count": 5,
   "metadata": {},
   "outputs": [],
   "source": [
    "df['followers_group'] = df['user_followers_count'].apply(group_followers)"
   ]
  },
  {
   "cell_type": "code",
   "execution_count": 6,
   "metadata": {},
   "outputs": [
    {
     "data": {
      "text/html": [
       "<div>\n",
       "<style scoped>\n",
       "    .dataframe tbody tr th:only-of-type {\n",
       "        vertical-align: middle;\n",
       "    }\n",
       "\n",
       "    .dataframe tbody tr th {\n",
       "        vertical-align: top;\n",
       "    }\n",
       "\n",
       "    .dataframe thead th {\n",
       "        text-align: right;\n",
       "    }\n",
       "</style>\n",
       "<table border=\"1\" class=\"dataframe\">\n",
       "  <thead>\n",
       "    <tr style=\"text-align: right;\">\n",
       "      <th></th>\n",
       "      <th>Unnamed: 0</th>\n",
       "      <th>tweet_text</th>\n",
       "      <th>tweet_favourite_count</th>\n",
       "      <th>tweet_created_at</th>\n",
       "      <th>tweet_retweet_count</th>\n",
       "      <th>user_statuses_count</th>\n",
       "      <th>user_screen_name</th>\n",
       "      <th>user_followers_count</th>\n",
       "      <th>followers_group</th>\n",
       "    </tr>\n",
       "  </thead>\n",
       "  <tbody>\n",
       "    <tr>\n",
       "      <th>0</th>\n",
       "      <td>0</td>\n",
       "      <td>The priority for the city should be on providi...</td>\n",
       "      <td>0</td>\n",
       "      <td>2023-03-27 21:01:36+00:00</td>\n",
       "      <td>0</td>\n",
       "      <td>10194</td>\n",
       "      <td>EmergencyAgent</td>\n",
       "      <td>1145</td>\n",
       "      <td>Medium</td>\n",
       "    </tr>\n",
       "    <tr>\n",
       "      <th>1</th>\n",
       "      <td>1</td>\n",
       "      <td>Like it or not, this kind of clip is the sort ...</td>\n",
       "      <td>0</td>\n",
       "      <td>2023-03-27 21:01:26+00:00</td>\n",
       "      <td>0</td>\n",
       "      <td>2843</td>\n",
       "      <td>EDenhoff</td>\n",
       "      <td>4630</td>\n",
       "      <td>Medium</td>\n",
       "    </tr>\n",
       "    <tr>\n",
       "      <th>2</th>\n",
       "      <td>2</td>\n",
       "      <td>On a scale of moderately conservative (1) to r...</td>\n",
       "      <td>0</td>\n",
       "      <td>2023-03-27 21:01:16+00:00</td>\n",
       "      <td>0</td>\n",
       "      <td>13608</td>\n",
       "      <td>dzoolander85</td>\n",
       "      <td>11234</td>\n",
       "      <td>Many</td>\n",
       "    </tr>\n",
       "    <tr>\n",
       "      <th>3</th>\n",
       "      <td>3</td>\n",
       "      <td>Keep up with the latest politics with The Dail...</td>\n",
       "      <td>0</td>\n",
       "      <td>2023-03-27 21:01:06+00:00</td>\n",
       "      <td>0</td>\n",
       "      <td>3610</td>\n",
       "      <td>VassKapelosShow</td>\n",
       "      <td>4901</td>\n",
       "      <td>Medium</td>\n",
       "    </tr>\n",
       "    <tr>\n",
       "      <th>4</th>\n",
       "      <td>4</td>\n",
       "      <td>So much resemblance to NAZI Germany leading up...</td>\n",
       "      <td>0</td>\n",
       "      <td>2023-03-27 21:01:05+00:00</td>\n",
       "      <td>0</td>\n",
       "      <td>108226</td>\n",
       "      <td>marshiehilgs</td>\n",
       "      <td>515</td>\n",
       "      <td>Few</td>\n",
       "    </tr>\n",
       "  </tbody>\n",
       "</table>\n",
       "</div>"
      ],
      "text/plain": [
       "   Unnamed: 0                                         tweet_text  \\\n",
       "0           0  The priority for the city should be on providi...   \n",
       "1           1  Like it or not, this kind of clip is the sort ...   \n",
       "2           2  On a scale of moderately conservative (1) to r...   \n",
       "3           3  Keep up with the latest politics with The Dail...   \n",
       "4           4  So much resemblance to NAZI Germany leading up...   \n",
       "\n",
       "   tweet_favourite_count           tweet_created_at  tweet_retweet_count  \\\n",
       "0                      0  2023-03-27 21:01:36+00:00                    0   \n",
       "1                      0  2023-03-27 21:01:26+00:00                    0   \n",
       "2                      0  2023-03-27 21:01:16+00:00                    0   \n",
       "3                      0  2023-03-27 21:01:06+00:00                    0   \n",
       "4                      0  2023-03-27 21:01:05+00:00                    0   \n",
       "\n",
       "   user_statuses_count user_screen_name  user_followers_count followers_group  \n",
       "0                10194   EmergencyAgent                  1145          Medium  \n",
       "1                 2843         EDenhoff                  4630          Medium  \n",
       "2                13608     dzoolander85                 11234            Many  \n",
       "3                 3610  VassKapelosShow                  4901          Medium  \n",
       "4               108226     marshiehilgs                   515             Few  "
      ]
     },
     "execution_count": 6,
     "metadata": {},
     "output_type": "execute_result"
    }
   ],
   "source": [
    "df.head()"
   ]
  },
  {
   "cell_type": "code",
   "execution_count": 7,
   "metadata": {},
   "outputs": [
    {
     "data": {
      "text/plain": [
       "Medium    4371\n",
       "Few       4216\n",
       "Many      1413\n",
       "Name: followers_group, dtype: int64"
      ]
     },
     "execution_count": 7,
     "metadata": {},
     "output_type": "execute_result"
    }
   ],
   "source": [
    "df['followers_group'].value_counts()"
   ]
  },
  {
   "cell_type": "code",
   "execution_count": 8,
   "metadata": {},
   "outputs": [
    {
     "data": {
      "image/png": "[encoded data removed]",
      "text/plain": [
       "<Figure size 640x480 with 1 Axes>"
      ]
     },
     "metadata": {},
     "output_type": "display_data"
    }
   ],
   "source": [
    "sns.countplot(x=df['followers_group'])\n",
    "plt.show()"
   ]
  },
  {
   "cell_type": "code",
   "execution_count": 9,
   "metadata": {},
   "outputs": [
    {
     "data": {
      "image/png": "[encoded data removed]",
      "text/plain": [
       "<Figure size 640x480 with 1 Axes>"
      ]
     },
     "metadata": {},
     "output_type": "display_data"
    }
   ],
   "source": [
    "sns.histplot(df['tweet_favourite_count'], binwidth=1000)\n",
    "plt.show()"
   ]
  },
  {
   "cell_type": "code",
   "execution_count": 10,
   "metadata": {},
   "outputs": [
    {
     "data": {
      "image/png": "[encoded data removed]",
      "text/plain": [
       "<Figure size 640x480 with 1 Axes>"
      ]
     },
     "metadata": {},
     "output_type": "display_data"
    }
   ],
   "source": [
    "sns.histplot(df['tweet_retweet_count'], binwidth=200)\n",
    "plt.show()"
   ]
  },
  {
   "cell_type": "code",
   "execution_count": 11,
   "metadata": {},
   "outputs": [
    {
     "data": {
      "image/png": "[encoded data removed]",
      "text/plain": [
       "<Figure size 640x480 with 1 Axes>"
      ]
     },
     "metadata": {},
     "output_type": "display_data"
    }
   ],
   "source": [
    "sns.histplot(df['user_statuses_count'], binwidth=100000)\n",
    "plt.show()"
   ]
  },
  {
   "attachments": {},
   "cell_type": "markdown",
   "metadata": {},
   "source": [
    "# Preprocessing"
   ]
  },
  {
   "cell_type": "code",
   "execution_count": 12,
   "metadata": {},
   "outputs": [
    {
     "data": {
      "text/plain": [
       "<spacy.pipeline.sentencizer.Sentencizer at 0x1389e3180>"
      ]
     },
     "execution_count": 12,
     "metadata": {},
     "output_type": "execute_result"
    }
   ],
   "source": [
    "nlp = spacy.load('en_core_web_sm', disable=['parser', 'ner'])\n",
    "nlp.add_pipe('sentencizer')"
   ]
  },
  {
   "cell_type": "code",
   "execution_count": 22,
   "metadata": {},
   "outputs": [],
   "source": [
    "def remove_end_link(tweet: str) -> str:\n",
    "    return tweet[:tweet.find('https://t.co/')]\n",
    "\n",
    "def remove_whitespaces(tweet: str) -> str:\n",
    "    return re.sub(r'\\s{1,}', ' ', tweet).strip()\n",
    "\n",
    "def tokenize_and_lemmatize(tweet: str) -> str:\n",
    "    tweet_doc = nlp(tweet)\n",
    "    result = ''\n",
    "    for sent in tweet_doc.sents:\n",
    "        sentence = ''\n",
    "        for token in sent:\n",
    "            lemma = token.lemma_.lower()\n",
    "            tag = token.tag_\n",
    "            sentence += lemma + '/' + tag + ' '\n",
    "        result += sentence.strip()\n",
    "    return result\n",
    "\n",
    "def pipeline(tweet: str) -> str:\n",
    "    step1 = remove_end_link(tweet)\n",
    "    step2 = remove_whitespaces(step1)\n",
    "    step3 = tokenize_and_lemmatize(step2)\n",
    "    return step3"
   ]
  },
  {
   "cell_type": "code",
   "execution_count": 24,
   "metadata": {},
   "outputs": [
    {
     "data": {
      "text/html": [
       "<div>\n",
       "<style scoped>\n",
       "    .dataframe tbody tr th:only-of-type {\n",
       "        vertical-align: middle;\n",
       "    }\n",
       "\n",
       "    .dataframe tbody tr th {\n",
       "        vertical-align: top;\n",
       "    }\n",
       "\n",
       "    .dataframe thead th {\n",
       "        text-align: right;\n",
       "    }\n",
       "</style>\n",
       "<table border=\"1\" class=\"dataframe\">\n",
       "  <thead>\n",
       "    <tr style=\"text-align: right;\">\n",
       "      <th></th>\n",
       "      <th>Unnamed: 0</th>\n",
       "      <th>tweet_text</th>\n",
       "      <th>tweet_favourite_count</th>\n",
       "      <th>tweet_created_at</th>\n",
       "      <th>tweet_retweet_count</th>\n",
       "      <th>user_statuses_count</th>\n",
       "      <th>user_screen_name</th>\n",
       "      <th>user_followers_count</th>\n",
       "      <th>followers_group</th>\n",
       "      <th>tweet_preprocessed</th>\n",
       "    </tr>\n",
       "  </thead>\n",
       "  <tbody>\n",
       "    <tr>\n",
       "      <th>0</th>\n",
       "      <td>0</td>\n",
       "      <td>The priority for the city should be on providi...</td>\n",
       "      <td>0</td>\n",
       "      <td>2023-03-27 21:01:36+00:00</td>\n",
       "      <td>0</td>\n",
       "      <td>10194</td>\n",
       "      <td>EmergencyAgent</td>\n",
       "      <td>1145</td>\n",
       "      <td>Medium</td>\n",
       "      <td>the/DT priority/NN for/IN the/DT city/NN shoul...</td>\n",
       "    </tr>\n",
       "    <tr>\n",
       "      <th>1</th>\n",
       "      <td>1</td>\n",
       "      <td>Like it or not, this kind of clip is the sort ...</td>\n",
       "      <td>0</td>\n",
       "      <td>2023-03-27 21:01:26+00:00</td>\n",
       "      <td>0</td>\n",
       "      <td>2843</td>\n",
       "      <td>EDenhoff</td>\n",
       "      <td>4630</td>\n",
       "      <td>Medium</td>\n",
       "      <td>like/IN it/PRP or/CC not/RB ,/, this/DT kind/N...</td>\n",
       "    </tr>\n",
       "    <tr>\n",
       "      <th>2</th>\n",
       "      <td>2</td>\n",
       "      <td>On a scale of moderately conservative (1) to r...</td>\n",
       "      <td>0</td>\n",
       "      <td>2023-03-27 21:01:16+00:00</td>\n",
       "      <td>0</td>\n",
       "      <td>13608</td>\n",
       "      <td>dzoolander85</td>\n",
       "      <td>11234</td>\n",
       "      <td>Many</td>\n",
       "      <td>on/IN a/DT scale/NN of/IN moderately/RB conser...</td>\n",
       "    </tr>\n",
       "    <tr>\n",
       "      <th>3</th>\n",
       "      <td>3</td>\n",
       "      <td>Keep up with the latest politics with The Dail...</td>\n",
       "      <td>0</td>\n",
       "      <td>2023-03-27 21:01:06+00:00</td>\n",
       "      <td>0</td>\n",
       "      <td>3610</td>\n",
       "      <td>VassKapelosShow</td>\n",
       "      <td>4901</td>\n",
       "      <td>Medium</td>\n",
       "      <td>keep/VB up/RP with/IN the/DT late/JJS politic/...</td>\n",
       "    </tr>\n",
       "    <tr>\n",
       "      <th>4</th>\n",
       "      <td>4</td>\n",
       "      <td>So much resemblance to NAZI Germany leading up...</td>\n",
       "      <td>0</td>\n",
       "      <td>2023-03-27 21:01:05+00:00</td>\n",
       "      <td>0</td>\n",
       "      <td>108226</td>\n",
       "      <td>marshiehilgs</td>\n",
       "      <td>515</td>\n",
       "      <td>Few</td>\n",
       "      <td>so/RB much/JJ resemblance/NN to/IN nazi/VB ger...</td>\n",
       "    </tr>\n",
       "  </tbody>\n",
       "</table>\n",
       "</div>"
      ],
      "text/plain": [
       "   Unnamed: 0                                         tweet_text  \\\n",
       "0           0  The priority for the city should be on providi...   \n",
       "1           1  Like it or not, this kind of clip is the sort ...   \n",
       "2           2  On a scale of moderately conservative (1) to r...   \n",
       "3           3  Keep up with the latest politics with The Dail...   \n",
       "4           4  So much resemblance to NAZI Germany leading up...   \n",
       "\n",
       "   tweet_favourite_count           tweet_created_at  tweet_retweet_count  \\\n",
       "0                      0  2023-03-27 21:01:36+00:00                    0   \n",
       "1                      0  2023-03-27 21:01:26+00:00                    0   \n",
       "2                      0  2023-03-27 21:01:16+00:00                    0   \n",
       "3                      0  2023-03-27 21:01:06+00:00                    0   \n",
       "4                      0  2023-03-27 21:01:05+00:00                    0   \n",
       "\n",
       "   user_statuses_count user_screen_name  user_followers_count followers_group  \\\n",
       "0                10194   EmergencyAgent                  1145          Medium   \n",
       "1                 2843         EDenhoff                  4630          Medium   \n",
       "2                13608     dzoolander85                 11234            Many   \n",
       "3                 3610  VassKapelosShow                  4901          Medium   \n",
       "4               108226     marshiehilgs                   515             Few   \n",
       "\n",
       "                                  tweet_preprocessed  \n",
       "0  the/DT priority/NN for/IN the/DT city/NN shoul...  \n",
       "1  like/IN it/PRP or/CC not/RB ,/, this/DT kind/N...  \n",
       "2  on/IN a/DT scale/NN of/IN moderately/RB conser...  \n",
       "3  keep/VB up/RP with/IN the/DT late/JJS politic/...  \n",
       "4  so/RB much/JJ resemblance/NN to/IN nazi/VB ger...  "
      ]
     },
     "execution_count": 24,
     "metadata": {},
     "output_type": "execute_result"
    }
   ],
   "source": [
    "df['tweet_preprocessed'] = df['tweet_text'].apply(pipeline)\n",
    "df.head()"
   ]
  },
  {
   "attachments": {},
   "cell_type": "markdown",
   "metadata": {},
   "source": [
    "# Feature Extraction"
   ]
  },
  {
   "cell_type": "code",
   "execution_count": 31,
   "metadata": {},
   "outputs": [],
   "source": [
    "# 0: pound signs\n",
    "# 1: personal pronouns\n",
    "# 2: proper nouns\n",
    "# 3: wh- words\n",
    "# 4: past tense verbs\n",
    "def extract_features(tweet_preprocessed: str) -> np.array:\n",
    "    result = np.zeros(10)\n",
    "    tokens = tweet_preprocessed.split()\n",
    "    for token in tokens:\n",
    "        slash = token.find('/')\n",
    "        lemma = token[:slash]\n",
    "        tag = token[slash:]\n",
    "        if lemma == '#':\n",
    "            result[0] += 1\n",
    "        elif tag in ['/PRP', '/PRP$']:\n",
    "            result[1] += 1 \n",
    "        elif tag in ['/NNP', '/NNPS']:\n",
    "            result[2] += 1\n",
    "        elif tag in ['/WDT', '/WP', '/WP$', '/WRB']:\n",
    "            result[3] += 1\n",
    "        elif tag == '/VBD':\n",
    "            result[4] += 1\n",
    "    return result"
   ]
  },
  {
   "cell_type": "code",
   "execution_count": null,
   "metadata": {},
   "outputs": [],
   "source": []
  }
 ],
 "metadata": {
  "kernelspec": {
   "display_name": "Python 3",
   "language": "python",
   "name": "python3"
  },
  "language_info": {
   "codemirror_mode": {
    "name": "ipython",
    "version": 3
   },
   "file_extension": ".py",
   "mimetype": "text/x-python",
   "name": "python",
   "nbconvert_exporter": "python",
   "pygments_lexer": "ipython3",
   "version": "3.10.1"
  },
  "orig_nbformat": 4
 },
 "nbformat": 4,
 "nbformat_minor": 2
}
